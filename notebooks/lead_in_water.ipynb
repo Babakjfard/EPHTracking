{
 "cells": [
  {
   "attachments": {},
   "cell_type": "markdown",
   "metadata": {},
   "source": [
    "# Lead in Drinking Water\n",
    "This is to process and verify data for lead in the Drinking Water from the 2023 HTG and Data Dictionary"
   ]
  },
  {
   "cell_type": "code",
   "execution_count": 8,
   "metadata": {},
   "outputs": [],
   "source": [
    "! cd /Users/babak.jfard/projects/ETHTracking/notebooks"
   ]
  },
  {
   "attachments": {},
   "cell_type": "markdown",
   "metadata": {},
   "source": [
    "## Comparing two files\n",
    "Comparing the two files (one sumitted on 3/29 and one on 3/30)"
   ]
  },
  {
   "cell_type": "code",
   "execution_count": 9,
   "metadata": {},
   "outputs": [],
   "source": [
    "import pandas as pd"
   ]
  },
  {
   "cell_type": "code",
   "execution_count": 11,
   "metadata": {},
   "outputs": [],
   "source": [
    "#\n",
    "recent_lead = pd.read_excel('../Data/Water_Data/PWSSampleSummaryLead_3_30_23.xlsx')\n",
    "older_lead = pd.read_excel('../Data/Water_Data/PB90Summary_3_29_23.xlsx')"
   ]
  },
  {
   "cell_type": "code",
   "execution_count": 12,
   "metadata": {},
   "outputs": [
    {
     "name": "stdout",
     "output_type": "stream",
     "text": [
      "(2760, 9) (5522, 9)\n"
     ]
    }
   ],
   "source": [
    "print(recent_lead.shape, older_lead.shape)"
   ]
  },
  {
   "cell_type": "code",
   "execution_count": 13,
   "metadata": {},
   "outputs": [
    {
     "name": "stdout",
     "output_type": "stream",
     "text": [
      "0 418\n"
     ]
    }
   ],
   "source": [
    "# check for duplicates in each dataframe\n",
    "print(recent_lead.duplicated().sum(), older_lead.duplicated().sum())\n",
    "\n",
    "# :Report: The previous lead file has 418 pairs of complete duplicates, new one 0"
   ]
  },
  {
   "cell_type": "code",
   "execution_count": 15,
   "metadata": {},
   "outputs": [
    {
     "data": {
      "text/plain": [
       "(5104, 9)"
      ]
     },
     "execution_count": 15,
     "metadata": {},
     "output_type": "execute_result"
    }
   ],
   "source": [
    "# keep only a unique row of duplicates\n",
    "older_lead.drop_duplicates(inplace=True)\n",
    "older_lead.shape"
   ]
  },
  {
   "cell_type": "code",
   "execution_count": 19,
   "metadata": {},
   "outputs": [
    {
     "data": {
      "text/html": [
       "<div>\n",
       "<style scoped>\n",
       "    .dataframe tbody tr th:only-of-type {\n",
       "        vertical-align: middle;\n",
       "    }\n",
       "\n",
       "    .dataframe tbody tr th {\n",
       "        vertical-align: top;\n",
       "    }\n",
       "\n",
       "    .dataframe thead th {\n",
       "        text-align: right;\n",
       "    }\n",
       "</style>\n",
       "<table border=\"1\" class=\"dataframe\">\n",
       "  <thead>\n",
       "    <tr style=\"text-align: right;\">\n",
       "      <th></th>\n",
       "      <th>PWSIDNumber</th>\n",
       "      <th>Year</th>\n",
       "      <th>AnalyteCode</th>\n",
       "      <th>ConcentrationUnits</th>\n",
       "      <th>Concentration</th>\n",
       "      <th>DateSampled</th>\n",
       "      <th>AggregationType</th>\n",
       "      <th>SummaryTimePeriod</th>\n",
       "      <th>NumSamples</th>\n",
       "    </tr>\n",
       "  </thead>\n",
       "  <tbody>\n",
       "    <tr>\n",
       "      <th>1581</th>\n",
       "      <td>NE3115309</td>\n",
       "      <td>2020</td>\n",
       "      <td>PB90</td>\n",
       "      <td>UG/L</td>\n",
       "      <td>2.04</td>\n",
       "      <td>2020-07-24</td>\n",
       "      <td>90X</td>\n",
       "      <td>2020</td>\n",
       "      <td>10</td>\n",
       "    </tr>\n",
       "    <tr>\n",
       "      <th>1582</th>\n",
       "      <td>NE3115309</td>\n",
       "      <td>2020</td>\n",
       "      <td>PB90</td>\n",
       "      <td>UG/L</td>\n",
       "      <td>2.04</td>\n",
       "      <td>2020-07-24</td>\n",
       "      <td>90X</td>\n",
       "      <td>2020</td>\n",
       "      <td>20</td>\n",
       "    </tr>\n",
       "  </tbody>\n",
       "</table>\n",
       "</div>"
      ],
      "text/plain": [
       "     PWSIDNumber  Year AnalyteCode ConcentrationUnits  Concentration  \\\n",
       "1581   NE3115309  2020        PB90               UG/L           2.04   \n",
       "1582   NE3115309  2020        PB90               UG/L           2.04   \n",
       "\n",
       "     DateSampled AggregationType  SummaryTimePeriod  NumSamples  \n",
       "1581  2020-07-24             90X               2020          10  \n",
       "1582  2020-07-24             90X               2020          20  "
      ]
     },
     "execution_count": 19,
     "metadata": {},
     "output_type": "execute_result"
    }
   ],
   "source": [
    "# show duplicates in key columns\n",
    "recent_lead.loc[recent_lead.duplicated(subset=['PWSIDNumber', 'Year', 'AggregationType', 'SummaryTimePeriod', \n",
    "                               'DateSampled','AnalyteCode'], keep=False)]"
   ]
  },
  {
   "cell_type": "code",
   "execution_count": 14,
   "metadata": {},
   "outputs": [],
   "source": [
    "duplicated_old_rows = older_lead[older_lead.duplicated(keep=False)]"
   ]
  },
  {
   "cell_type": "code",
   "execution_count": 1,
   "metadata": {},
   "outputs": [],
   "source": [
    "# Import required pydantic libraries for creating data models for lead in water data\n",
    "from pydantic import BaseModel, Field, validator\n",
    "from typing import Optional, List, Dict\n",
    "from datetime import datetime\n",
    "\n",
    "# Import required libraries for data analysis\n",
    "import pandas as pd\n",
    "import numpy as np"
   ]
  },
  {
   "cell_type": "code",
   "execution_count": 3,
   "metadata": {},
   "outputs": [],
   "source": [
    "# Check the classes in Validators_2023_Water.py\n",
    "from libraries import Validators_2023_Water as validators\n"
   ]
  },
  {
   "cell_type": "code",
   "execution_count": 6,
   "metadata": {},
   "outputs": [
    {
     "data": {
      "text/plain": [
       "dict_keys(['RowIdentifier', 'PWSIDNumber', 'Year', 'AnalyteCode', 'ConcentrationUnits', 'Concentration', 'DateSampled', 'AggregationType', 'NumSamplingLocations', 'SummaryTimePeriod', 'NumSamples', 'NumNonDetects'])"
      ]
     },
     "execution_count": 6,
     "metadata": {},
     "output_type": "execute_result"
    }
   ],
   "source": [
    "validators.Quality_Sampling.__fields__.keys()"
   ]
  },
  {
   "attachments": {},
   "cell_type": "markdown",
   "metadata": {},
   "source": [
    "Data are derived from state Safe Drinking Water Act databases. The data set consists of one table:  \n",
    "1. Drinking Water Quality Sampling Results. This file is required and contains one record for each community water system (CWS) for the annual 90th percentile for lead (Pb). "
   ]
  },
  {
   "cell_type": "code",
   "execution_count": null,
   "metadata": {},
   "outputs": [],
   "source": []
  },
  {
   "cell_type": "markdown",
   "metadata": {},
   "source": []
  }
 ],
 "metadata": {
  "kernelspec": {
   "display_name": "CDC_Tracking",
   "language": "python",
   "name": "python3"
  },
  "language_info": {
   "codemirror_mode": {
    "name": "ipython",
    "version": 3
   },
   "file_extension": ".py",
   "mimetype": "text/x-python",
   "name": "python",
   "nbconvert_exporter": "python",
   "pygments_lexer": "ipython3",
   "version": "3.10.4"
  },
  "orig_nbformat": 4
 },
 "nbformat": 4,
 "nbformat_minor": 2
}
