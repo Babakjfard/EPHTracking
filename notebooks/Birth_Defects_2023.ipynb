{
 "cells": [
  {
   "cell_type": "markdown",
   "metadata": {},
   "source": [
    "# Birth Defects for Nebraska - EPHTracking Fall 2023 Data Call\n",
    "- Babak J.Fard -- October 2023\n",
    "\n",
    "This notebook shows the steps in creating the Birth Defects (BD) datasets-as required by the Tracking How-To-Guide (HTG) and Data Dictionary- from the raw datasets. Since the format of the raw dataset maybe very specific and different from other states (even from the future BD datasets) no separate python code (.py file) is created. The user is suggested to consider the potential differences and changes for use with other datasets. The notebook is reorganized into four sections to be easy to follow.\n",
    "\n",
    "* All cell outputs that may contain detailed level health data are removed."
   ]
  },
  {
   "cell_type": "code",
   "execution_count": 121,
   "metadata": {},
   "outputs": [],
   "source": [
    "# Import the libraries for water data validation\n",
    "import numpy as np\n",
    "import pandas as pd\n",
    "\n",
    "#from libraries import Validator_Nebraska_2023_BirthDefects as VNBD\n",
    "from libraries import general as ge\n",
    "#from pydantic import ValidationError\n",
    "\n",
    "#from itables import init_notebook_mode\n",
    "\n",
    "#init_notebook_mode(all_interactive=True)\n",
    "\n",
    "\n",
    "import os\n",
    "os.chdir('/Users/babak.jfard/projects/EPHTracking')"
   ]
  },
  {
   "cell_type": "markdown",
   "metadata": {},
   "source": [
    "## 1. Preparing the Birth Defects Data\n",
    "Using the provided dataset, we have created a validator class. In this step we validate the raw data using Neraska Birth Defect validator. "
   ]
  },
  {
   "cell_type": "code",
   "execution_count": 118,
   "metadata": {},
   "outputs": [],
   "source": [
    "bd_2 = pd.read_csv('Data/BIRTHDEFECTS080823/bd10_9/bd10_9.csv', na_values=['nan'], dtype=str)"
   ]
  },
  {
   "cell_type": "code",
   "execution_count": null,
   "metadata": {},
   "outputs": [],
   "source": [
    "# According to the HTG-Appendix A, for BD 27 of CDC/BPA is must exclude 752.61\n",
    "# Since we have CDC/BPA codes before 2015 we replace all these values with ''\n",
    "# to make sure those are excluded\n",
    "bd_2[bd_2['d15'].fillna('').str.startswith('752.621')]"
   ]
  },
  {
   "cell_type": "code",
   "execution_count": 5,
   "metadata": {},
   "outputs": [],
   "source": [
    "# For when considering CDC/BPA is used instead of ICD-9, we replace all these values with ''\n",
    "bd_2.loc[bd_2['d15']=='752.621', 'd15'] = ''"
   ]
  },
  {
   "cell_type": "code",
   "execution_count": 6,
   "metadata": {},
   "outputs": [
    {
     "data": {
      "text/html": [
       "<style>.itables table td {\n",
       "    text-overflow: ellipsis;\n",
       "    overflow: hidden;\n",
       "}\n",
       "\n",
       ".itables table th {\n",
       "    text-overflow: ellipsis;\n",
       "    overflow: hidden;\n",
       "}\n",
       "\n",
       ".itables thead input {\n",
       "    width: 100%;\n",
       "    padding: 3px;\n",
       "    box-sizing: border-box;\n",
       "}\n",
       "\n",
       ".itables tfoot input {\n",
       "    width: 100%;\n",
       "    padding: 3px;\n",
       "    box-sizing: border-box;\n",
       "}\n",
       "</style>\n",
       "<div class=\"itables\">\n",
       "<table id=\"ea6b7ad1-2624-461b-8019-d7618654baf3\" class=\"display nowrap\"style=\"table-layout:auto;width:auto;margin:auto;caption-side:bottom\"><thead>\n",
       "    <tr style=\"text-align: right;\">\n",
       "      <th></th>\n",
       "      <th>d16</th>\n",
       "      <th>d15</th>\n",
       "      <th>sex</th>\n",
       "      <th>dob_c</th>\n",
       "      <th>bthyr</th>\n",
       "      <th>dob_m</th>\n",
       "      <th>stresm</th>\n",
       "      <th>cou</th>\n",
       "      <th>case_id</th>\n",
       "      <th>bth_cert1</th>\n",
       "      <th>fetal_cert</th>\n",
       "      <th>dth_cert</th>\n",
       "      <th>racethm</th>\n",
       "    </tr>\n",
       "  </thead><tbody><tr><td>Loading... (need <a href=https://mwouts.github.io/itables/troubleshooting.html>help</a>?)</td></tr></tbody></table>\n",
       "<script>\n",
       "    // We use a namespace per table (= the next curly bracket)\n",
       "    // to avoid conflicts between the various tables' data & dt_args\n",
       "    {\n",
       "        // Define the table data\n",
       "        const data = [];\n",
       "        // Display the table\n",
       "        $(document).ready(function () {\n",
       "            window.dataTablePromise.then(() => {\n",
       "                // Define the dt_args\n",
       "                let dt_args = {\"order\": [], \"dom\": \"t\"};\n",
       "                dt_args[\"data\"] = data;\n",
       "\n",
       "                \n",
       "                $('#ea6b7ad1-2624-461b-8019-d7618654baf3').DataTable(dt_args);\n",
       "            });\n",
       "        })\n",
       "    }\n",
       "</script>\n",
       "</div>\n"
      ],
      "text/plain": [
       "Empty DataFrame\n",
       "Columns: [d16, d15, sex, dob_c, bthyr, dob_m, stresm, cou, case_id, bth_cert1, fetal_cert, dth_cert, racethm]\n",
       "Index: []"
      ]
     },
     "execution_count": 6,
     "metadata": {},
     "output_type": "execute_result"
    }
   ],
   "source": [
    "# double check\n",
    "bd_2[bd_2['d15'].fillna('').str.startswith('752.621')]"
   ]
  },
  {
   "cell_type": "code",
   "execution_count": 7,
   "metadata": {},
   "outputs": [
    {
     "data": {
      "text/html": [
       "<style>.itables table td {\n",
       "    text-overflow: ellipsis;\n",
       "    overflow: hidden;\n",
       "}\n",
       "\n",
       ".itables table th {\n",
       "    text-overflow: ellipsis;\n",
       "    overflow: hidden;\n",
       "}\n",
       "\n",
       ".itables thead input {\n",
       "    width: 100%;\n",
       "    padding: 3px;\n",
       "    box-sizing: border-box;\n",
       "}\n",
       "\n",
       ".itables tfoot input {\n",
       "    width: 100%;\n",
       "    padding: 3px;\n",
       "    box-sizing: border-box;\n",
       "}\n",
       "</style>\n",
       "<div class=\"itables\">\n",
       "<table id=\"be18a38b-2c8c-4f0d-bfd0-a3df0713b29b\" class=\"display nowrap\"style=\"table-layout:auto;width:auto;margin:auto;caption-side:bottom\"><thead>\n",
       "    <tr style=\"text-align: right;\">\n",
       "      <th></th>\n",
       "      <th>count</th>\n",
       "    </tr>\n",
       "    <tr>\n",
       "      <th>stresm</th>\n",
       "      <th></th>\n",
       "    </tr>\n",
       "  </thead><tbody><tr><td>Loading... (need <a href=https://mwouts.github.io/itables/troubleshooting.html>help</a>?)</td></tr></tbody></table>\n",
       "<script>\n",
       "    // We use a namespace per table (= the next curly bracket)\n",
       "    // to avoid conflicts between the various tables' data & dt_args\n",
       "    {\n",
       "        // Define the table data\n",
       "        const data = [[\"Nebraska\", 74724], [\"NaN\", 91], [\"nebraska\", 2], [\"Unknown\", 1], [\"Utah\", 1]];\n",
       "        // Display the table\n",
       "        $(document).ready(function () {\n",
       "            window.dataTablePromise.then(() => {\n",
       "                // Define the dt_args\n",
       "                let dt_args = {\"order\": [], \"dom\": \"t\"};\n",
       "                dt_args[\"data\"] = data;\n",
       "\n",
       "                \n",
       "                $('#be18a38b-2c8c-4f0d-bfd0-a3df0713b29b').DataTable(dt_args);\n",
       "            });\n",
       "        })\n",
       "    }\n",
       "</script>\n",
       "</div>\n"
      ],
      "text/plain": [
       "stresm\n",
       "Nebraska    74724\n",
       "NaN            91\n",
       "nebraska        2\n",
       "Unknown         1\n",
       "Utah            1\n",
       "Name: count, dtype: int64"
      ]
     },
     "execution_count": 7,
     "metadata": {},
     "output_type": "execute_result"
    }
   ],
   "source": [
    "# Checking if the maternal state of residence is NE\n",
    "bd_2.stresm.value_counts(dropna=False)"
   ]
  },
  {
   "cell_type": "code",
   "execution_count": 8,
   "metadata": {},
   "outputs": [],
   "source": [
    "# Only keeping those that maternal state in Nebraska\n",
    "bd_2 = bd_2[bd_2['stresm'].str.lower() == 'nebraska']"
   ]
  },
  {
   "cell_type": "code",
   "execution_count": 9,
   "metadata": {},
   "outputs": [],
   "source": [
    "# Remove the extra column\n",
    "bd_2 = bd_2.drop(columns='stresm')"
   ]
  },
  {
   "cell_type": "code",
   "execution_count": 10,
   "metadata": {},
   "outputs": [
    {
     "data": {
      "text/html": [
       "<style>.itables table td {\n",
       "    text-overflow: ellipsis;\n",
       "    overflow: hidden;\n",
       "}\n",
       "\n",
       ".itables table th {\n",
       "    text-overflow: ellipsis;\n",
       "    overflow: hidden;\n",
       "}\n",
       "\n",
       ".itables thead input {\n",
       "    width: 100%;\n",
       "    padding: 3px;\n",
       "    box-sizing: border-box;\n",
       "}\n",
       "\n",
       ".itables tfoot input {\n",
       "    width: 100%;\n",
       "    padding: 3px;\n",
       "    box-sizing: border-box;\n",
       "}\n",
       "</style>\n",
       "<div class=\"itables\">\n",
       "<table id=\"3174defd-386f-4408-bbfc-5084e2c75795\" class=\"display nowrap\"style=\"table-layout:auto;width:auto;margin:auto;caption-side:bottom\"><thead>\n",
       "    <tr style=\"text-align: right;\">\n",
       "      <th></th>\n",
       "      <th>count</th>\n",
       "    </tr>\n",
       "    <tr>\n",
       "      <th>bth_cert1</th>\n",
       "      <th></th>\n",
       "    </tr>\n",
       "  </thead><tbody><tr><td>Loading... (need <a href=https://mwouts.github.io/itables/troubleshooting.html>help</a>?)</td></tr></tbody></table>\n",
       "<script>\n",
       "    // We use a namespace per table (= the next curly bracket)\n",
       "    // to avoid conflicts between the various tables' data & dt_args\n",
       "    {\n",
       "        // Define the table data\n",
       "        const data = [[\"NaN\", 531], [\"2021001326\", 4], [\"2022003593\", 1]];\n",
       "        // Display the table\n",
       "        $(document).ready(function () {\n",
       "            window.dataTablePromise.then(() => {\n",
       "                // Define the dt_args\n",
       "                let dt_args = {\"order\": [], \"dom\": \"t\"};\n",
       "                dt_args[\"data\"] = data;\n",
       "\n",
       "                \n",
       "                $('#3174defd-386f-4408-bbfc-5084e2c75795').DataTable(dt_args);\n",
       "            });\n",
       "        })\n",
       "    }\n",
       "</script>\n",
       "</div>\n"
      ],
      "text/plain": [
       "bth_cert1\n",
       "NaN           531\n",
       "2021001326      4\n",
       "2022003593      1\n",
       "Name: count, dtype: int64"
      ]
     },
     "execution_count": 10,
     "metadata": {},
     "output_type": "execute_result"
    }
   ],
   "source": [
    "# Those that birth certificate and fetal death do not match. If fetal_cert is not na, no birth certificate number must be null\n",
    "bd_2[bd_2['fetal_cert'].notna()]['bth_cert1'].value_counts(dropna=False)"
   ]
  },
  {
   "cell_type": "code",
   "execution_count": 12,
   "metadata": {},
   "outputs": [],
   "source": [
    "# Removing those that the fetal death condition is not null, and  birth certificate is not null too\n",
    "bd_2 = bd_2[~(bd_2['fetal_cert'].notna() & bd_2['bth_cert1'].notna())]\n"
   ]
  },
  {
   "cell_type": "markdown",
   "metadata": {},
   "source": [
    "Looks like we have a big change between the two datasets. The old one and the new one just provided!"
   ]
  },
  {
   "cell_type": "markdown",
   "metadata": {},
   "source": [
    "###  Dates\n",
    "reminder from HTG:\n",
    "* A row of data is a unique combination of County, Startdate, Enddate, BirthDefect, MaternalAgeGroup, MaternalRace, and MaternalEthnicity, Infantsex"
   ]
  },
  {
   "cell_type": "code",
   "execution_count": 13,
   "metadata": {},
   "outputs": [],
   "source": [
    "# Change date columns into datetime format\n",
    "bd_2['dob_c'] = pd.to_datetime(bd_2['dob_c'], format='%m/%d/%Y', errors='coerce')\n",
    "bd_2['dob_m'] = pd.to_datetime(bd_2['dob_m'], format='%m/%d/%Y', errors='coerce')"
   ]
  },
  {
   "cell_type": "code",
   "execution_count": 14,
   "metadata": {},
   "outputs": [],
   "source": [
    "bd_2 = bd_2[bd_2['dob_c'].dt.year <= 2021]"
   ]
  },
  {
   "cell_type": "markdown",
   "metadata": {},
   "source": [
    "### Maternal Age\n",
    "This section is about the mother's ages and the corrections"
   ]
  },
  {
   "cell_type": "code",
   "execution_count": 15,
   "metadata": {},
   "outputs": [],
   "source": [
    "# Some of the date of births for mothers are weird. Will change them into NA\n",
    "# bd_2.loc[bd_2['dob_m'].dt.year < 1930].replace('dob_m', pd.NA, inplace=True)\n",
    "bd_2.loc[bd_2['dob_m'].dt.year < 1930, 'dob_m'] = pd.NA\n"
   ]
  },
  {
   "cell_type": "code",
   "execution_count": 16,
   "metadata": {},
   "outputs": [
    {
     "data": {
      "text/plain": [
       "0"
      ]
     },
     "execution_count": 16,
     "metadata": {},
     "output_type": "execute_result"
    }
   ],
   "source": [
    "# Double check if the extracted years from 'dob_c' actually matches those in bthyr column\n",
    "sum(bd_2.dob_c.dt.year.astype('int') - bd_2.bthyr.astype('int'))"
   ]
  },
  {
   "cell_type": "code",
   "execution_count": 17,
   "metadata": {},
   "outputs": [],
   "source": [
    "bd_2['Mom_Age'] = bd_2['bthyr'].astype('int') - bd_2['dob_m'].dt.year"
   ]
  },
  {
   "cell_type": "code",
   "execution_count": 18,
   "metadata": {},
   "outputs": [
    {
     "data": {
      "text/html": [
       "<style>.itables table td {\n",
       "    text-overflow: ellipsis;\n",
       "    overflow: hidden;\n",
       "}\n",
       "\n",
       ".itables table th {\n",
       "    text-overflow: ellipsis;\n",
       "    overflow: hidden;\n",
       "}\n",
       "\n",
       ".itables thead input {\n",
       "    width: 100%;\n",
       "    padding: 3px;\n",
       "    box-sizing: border-box;\n",
       "}\n",
       "\n",
       ".itables tfoot input {\n",
       "    width: 100%;\n",
       "    padding: 3px;\n",
       "    box-sizing: border-box;\n",
       "}\n",
       "</style>\n",
       "<div class=\"itables\">\n",
       "<table id=\"4a2545c5-aa1f-422c-8e6f-438541297b79\" class=\"display nowrap\"style=\"table-layout:auto;width:auto;margin:auto;caption-side:bottom\"><thead>\n",
       "    <tr style=\"text-align: right;\">\n",
       "      <th></th>\n",
       "      <th>d16</th>\n",
       "      <th>d15</th>\n",
       "      <th>sex</th>\n",
       "      <th>dob_c</th>\n",
       "      <th>bthyr</th>\n",
       "      <th>dob_m</th>\n",
       "      <th>cou</th>\n",
       "      <th>case_id</th>\n",
       "      <th>bth_cert1</th>\n",
       "      <th>fetal_cert</th>\n",
       "      <th>dth_cert</th>\n",
       "      <th>racethm</th>\n",
       "      <th>Mom_Age</th>\n",
       "    </tr>\n",
       "  </thead><tbody><tr><td>Loading... (need <a href=https://mwouts.github.io/itables/troubleshooting.html>help</a>?)</td></tr></tbody></table>\n",
       "<script>\n",
       "    // We use a namespace per table (= the next curly bracket)\n",
       "    // to avoid conflicts between the various tables' data & dt_args\n",
       "    {\n",
       "        // Define the table data\n",
       "        const data = [[16478, \"NaN\", \"756.340\", \"M\", \"2007-05-12\", \"2007\", \"2019-06-17\", \"Douglas\", \"47648\", \"2007019092\", \"NaN\", \"NaN\", \"9\", -12.0], [59905, \"Q82.6\", \"NaN\", \"M\", \"2019-10-18\", \"2019\", \"2019-10-18\", \"Douglas\", \"89549\", \"2019020147\", \"NaN\", \"NaN\", \"1\", 0.0], [59906, \"Q21.0\", \"NaN\", \"M\", \"2019-10-18\", \"2019\", \"2019-10-18\", \"Douglas\", \"89549\", \"2019020147\", \"NaN\", \"NaN\", \"1\", 0.0], [72266, \"Q82.6\", \"NaN\", \"F\", \"2021-02-23\", \"2021\", \"2021-10-24\", \"Douglas\", \"98062\", \"2021002988\", \"NaN\", \"NaN\", \"1\", 0.0]];\n",
       "        // Display the table\n",
       "        $(document).ready(function () {\n",
       "            window.dataTablePromise.then(() => {\n",
       "                // Define the dt_args\n",
       "                let dt_args = {\"order\": [], \"dom\": \"t\"};\n",
       "                dt_args[\"data\"] = data;\n",
       "\n",
       "                \n",
       "                $('#4a2545c5-aa1f-422c-8e6f-438541297b79').DataTable(dt_args);\n",
       "            });\n",
       "        })\n",
       "    }\n",
       "</script>\n",
       "</div>\n"
      ],
      "text/plain": [
       "         d16      d15 sex      dob_c bthyr      dob_m      cou case_id  \\\n",
       "16478    NaN  756.340   M 2007-05-12  2007 2019-06-17  Douglas   47648   \n",
       "59905  Q82.6      NaN   M 2019-10-18  2019 2019-10-18  Douglas   89549   \n",
       "59906  Q21.0      NaN   M 2019-10-18  2019 2019-10-18  Douglas   89549   \n",
       "72266  Q82.6      NaN   F 2021-02-23  2021 2021-10-24  Douglas   98062   \n",
       "\n",
       "        bth_cert1 fetal_cert dth_cert racethm  Mom_Age  \n",
       "16478  2007019092        NaN      NaN       9    -12.0  \n",
       "59905  2019020147        NaN      NaN       1      0.0  \n",
       "59906  2019020147        NaN      NaN       1      0.0  \n",
       "72266  2021002988        NaN      NaN       1      0.0  "
      ]
     },
     "execution_count": 18,
     "metadata": {},
     "output_type": "execute_result"
    }
   ],
   "source": [
    "bd_2[bd_2['Mom_Age'] <= 12]"
   ]
  },
  {
   "cell_type": "code",
   "execution_count": 19,
   "metadata": {},
   "outputs": [],
   "source": [
    "# correcting for these ages\n",
    "bd_2.loc[bd_2['Mom_Age'] <= 12, 'dob_m'] = pd.NA\n",
    "\n",
    "# recalcualting Mom_Age\n",
    "bd_2['Mom_Age'] = bd_2['bthyr'].astype('int') - bd_2['dob_m'].dt.year"
   ]
  },
  {
   "cell_type": "code",
   "execution_count": 20,
   "metadata": {},
   "outputs": [
    {
     "data": {
      "image/png": "[encoded data removed]",
      "text/plain": [
       "<Figure size 640x480 with 1 Axes>"
      ]
     },
     "metadata": {},
     "output_type": "display_data"
    }
   ],
   "source": [
    "import matplotlib.pyplot as plt\n",
    "\n",
    "# Plotting the histogram\n",
    "bd_2['Mom_Age'].hist(bins=10, edgecolor='black')\n",
    "plt.title('Mother Age Distribution')\n",
    "plt.xlabel('Age')\n",
    "plt.ylabel('Frequency')\n",
    "plt.show()"
   ]
  },
  {
   "cell_type": "code",
   "execution_count": 21,
   "metadata": {},
   "outputs": [],
   "source": [
    "# Categorizing ages into MaternalAgeGroup\n",
    "# Categorizing maternal age into the groups from Birth Defects Dictionary, May 2022\n",
    "def categorize_age(df, age_col = 'Mom_Age', new_col= 'MaternalAgeGroup'):\n",
    "    # Define the age categorization function\n",
    "    def age_category(age):\n",
    "        if age < 20:\n",
    "            return 1\n",
    "        elif 20 <= age <= 24:\n",
    "            return 2\n",
    "        elif 25 <= age <= 29:\n",
    "            return 3\n",
    "        elif 30 <= age <= 34:\n",
    "            return 4\n",
    "        elif 35 <= age <= 39:\n",
    "            return 5\n",
    "        elif age >= 40:\n",
    "            return 6\n",
    "        else:\n",
    "            return 9  # Unknown\n",
    "\n",
    "    # Apply the age categorization function to the 'Mom_Age' column\n",
    "    df[new_col] = df[age_col].apply(age_category)\n",
    "    return df\n"
   ]
  },
  {
   "cell_type": "code",
   "execution_count": 22,
   "metadata": {},
   "outputs": [],
   "source": [
    "bd_2 = categorize_age(bd_2)\n",
    "# matches = categorize_age(matches)\n"
   ]
  },
  {
   "cell_type": "code",
   "execution_count": 23,
   "metadata": {},
   "outputs": [
    {
     "data": {
      "image/png": "[encoded data removed]",
      "text/plain": [
       "<Figure size 640x480 with 1 Axes>"
      ]
     },
     "metadata": {},
     "output_type": "display_data"
    }
   ],
   "source": [
    "# Count the occurrences of each category\n",
    "age_counts = bd_2['MaternalAgeGroup'].value_counts()\n",
    "\n",
    "# Sort the index\n",
    "age_counts = age_counts.sort_index()\n",
    "\n",
    "# Plotting the bar plot\n",
    "age_counts.plot(kind='bar', edgecolor='black', align='center')\n",
    "plt.title('Mother Age Category')\n",
    "plt.xlabel('Age Category')\n",
    "plt.ylabel('Number')\n",
    "plt.xticks(rotation=0)  # Ensure x-axis labels are horizontal\n",
    "plt.show()"
   ]
  },
  {
   "cell_type": "markdown",
   "metadata": {},
   "source": [
    "### County Codes\n",
    "The provided counties are in names format. In this section created a column for their corresponding FIPS codes"
   ]
  },
  {
   "cell_type": "code",
   "execution_count": 24,
   "metadata": {},
   "outputs": [],
   "source": [
    "# Getting the numeric FIPS code\n",
    "fips = ge.get_Counties_FIPS()\n",
    "fips['county_name'] = fips['county_name'].str.lower()\n",
    "fips['county_name'] = fips['county_name'].str.replace(\" county\", \"\")\n",
    "\n",
    "\n",
    "bd_2['cou'] = bd_2['cou'].str.lower()"
   ]
  },
  {
   "cell_type": "code",
   "execution_count": 25,
   "metadata": {},
   "outputs": [],
   "source": [
    "bd_2 = bd_2.merge(fips, left_on='cou', right_on='county_name')"
   ]
  },
  {
   "cell_type": "code",
   "execution_count": 26,
   "metadata": {},
   "outputs": [
    {
     "data": {
      "text/html": [
       "<style>.itables table td {\n",
       "    text-overflow: ellipsis;\n",
       "    overflow: hidden;\n",
       "}\n",
       "\n",
       ".itables table th {\n",
       "    text-overflow: ellipsis;\n",
       "    overflow: hidden;\n",
       "}\n",
       "\n",
       ".itables thead input {\n",
       "    width: 100%;\n",
       "    padding: 3px;\n",
       "    box-sizing: border-box;\n",
       "}\n",
       "\n",
       ".itables tfoot input {\n",
       "    width: 100%;\n",
       "    padding: 3px;\n",
       "    box-sizing: border-box;\n",
       "}\n",
       "</style>\n",
       "<div class=\"itables\">\n",
       "<table id=\"a0cc5540-8ae6-44f8-8a2f-37b5a3f61326\" class=\"display nowrap\"style=\"table-layout:auto;width:auto;margin:auto;caption-side:bottom\"><thead>\n",
       "    <tr style=\"text-align: right;\">\n",
       "      <th></th>\n",
       "      <th>d16</th>\n",
       "      <th>d15</th>\n",
       "      <th>sex</th>\n",
       "      <th>dob_c</th>\n",
       "      <th>bthyr</th>\n",
       "      <th>dob_m</th>\n",
       "      <th>cou</th>\n",
       "      <th>case_id</th>\n",
       "      <th>bth_cert1</th>\n",
       "      <th>fetal_cert</th>\n",
       "      <th>dth_cert</th>\n",
       "      <th>racethm</th>\n",
       "      <th>Mom_Age</th>\n",
       "      <th>MaternalAgeGroup</th>\n",
       "      <th>fips</th>\n",
       "      <th>county_name</th>\n",
       "    </tr>\n",
       "  </thead><tbody><tr><td>Loading... (need <a href=https://mwouts.github.io/itables/troubleshooting.html>help</a>?)</td></tr></tbody></table>\n",
       "<script>\n",
       "    // We use a namespace per table (= the next curly bracket)\n",
       "    // to avoid conflicts between the various tables' data & dt_args\n",
       "    {\n",
       "        // Define the table data\n",
       "        const data = [];\n",
       "        // Display the table\n",
       "        $(document).ready(function () {\n",
       "            window.dataTablePromise.then(() => {\n",
       "                // Define the dt_args\n",
       "                let dt_args = {\"order\": [], \"dom\": \"t\"};\n",
       "                dt_args[\"data\"] = data;\n",
       "\n",
       "                \n",
       "                $('#a0cc5540-8ae6-44f8-8a2f-37b5a3f61326').DataTable(dt_args);\n",
       "            });\n",
       "        })\n",
       "    }\n",
       "</script>\n",
       "</div>\n"
      ],
      "text/plain": [
       "Empty DataFrame\n",
       "Columns: [d16, d15, sex, dob_c, bthyr, dob_m, cou, case_id, bth_cert1, fetal_cert, dth_cert, racethm, Mom_Age, MaternalAgeGroup, fips, county_name]\n",
       "Index: []"
      ]
     },
     "execution_count": 26,
     "metadata": {},
     "output_type": "execute_result"
    }
   ],
   "source": [
    "# Check if the merge has worked out fine!\n",
    "bd_2[bd_2['cou'] != bd_2['county_name']]"
   ]
  },
  {
   "cell_type": "code",
   "execution_count": 27,
   "metadata": {},
   "outputs": [],
   "source": [
    "# Removing cou and renaming the new column\n",
    "bd_2 = bd_2.drop(columns=['cou', 'county_name'])\n",
    "bd_2.rename(columns={'fips': 'County', 'sex':'InfantSex'}, inplace=True)"
   ]
  },
  {
   "cell_type": "markdown",
   "metadata": {},
   "source": [
    "### Maternal Race and Ethnicity\n",
    "Following HTG one column for each"
   ]
  },
  {
   "cell_type": "code",
   "execution_count": 28,
   "metadata": {},
   "outputs": [],
   "source": [
    "race = {1:'W', 2:'B', 3:'O', 4:'O', 8:'O', 9:'U'}\n",
    "ethnicity = {1:'NH', 2:'NH', 3:'NH', 4:'NH', 8: 'H', 9:'U'}"
   ]
  },
  {
   "cell_type": "code",
   "execution_count": 30,
   "metadata": {},
   "outputs": [],
   "source": [
    "bd_2.racethm = bd_2.racethm.astype('int')"
   ]
  },
  {
   "cell_type": "code",
   "execution_count": 31,
   "metadata": {},
   "outputs": [],
   "source": [
    "bd_2['MaternalEthnicity'] = bd_2['racethm'].replace(ethnicity)\n",
    "bd_2['MaternalRace'] = bd_2['racethm'].replace(race)"
   ]
  },
  {
   "cell_type": "code",
   "execution_count": 32,
   "metadata": {},
   "outputs": [],
   "source": [
    "bd_2 = bd_2.drop(columns='racethm')"
   ]
  },
  {
   "cell_type": "code",
   "execution_count": 33,
   "metadata": {},
   "outputs": [],
   "source": [
    "bd_2['StartDate'] = bd_2['bthyr'].astype('str')+'0101'\n",
    "bd_2['EndDate'] = bd_2['bthyr'].astype('str')+'1231'"
   ]
  },
  {
   "cell_type": "code",
   "execution_count": 35,
   "metadata": {},
   "outputs": [],
   "source": [
    "bd_2 = bd_2.drop(columns=['dob_c', 'bthyr', 'dob_m', 'case_id', 'Mom_Age'])"
   ]
  },
  {
   "cell_type": "markdown",
   "metadata": {},
   "source": [
    "### Converting ICD-9 and ICD-10s to BirthDefect Codes"
   ]
  },
  {
   "cell_type": "code",
   "execution_count": 36,
   "metadata": {},
   "outputs": [],
   "source": [
    "import json\n",
    "\n",
    "# Reading ICD-9 codes related to the Birth Defects\n",
    "with open('Data/Dictionaries/BirthDefects_icd_9_convert.json', 'r') as f:\n",
    "     icd_9_dict = json.load(f)\n",
    "\n",
    "# Reading CDC/BPA codes related to the Birth Defects\n",
    "with open('Data/Dictionaries/BirthDefects_CDC_BPA_convert.json', 'r') as f:\n",
    "    icd_BPA_dict = json.load(f)"
   ]
  },
  {
   "cell_type": "code",
   "execution_count": 37,
   "metadata": {},
   "outputs": [],
   "source": [
    "with open('Data/Dictionaries/BirthDefects_icd_10_convert.json') as f:\n",
    "    icd_10_dict = json.load(f)"
   ]
  },
  {
   "cell_type": "code",
   "execution_count": 153,
   "metadata": {},
   "outputs": [
    {
     "data": {
      "text/plain": [
       "{'740.00': 21,\n",
       " '740.01': 21,\n",
       " '740.02': 21,\n",
       " '740.03': 21,\n",
       " '740.04': 21,\n",
       " '740.05': 21,\n",
       " '740.06': 21,\n",
       " '740.07': 21,\n",
       " '740.08': 21,\n",
       " '740.09': 21,\n",
       " '740.10': 21,\n",
       " '749.20': 22,\n",
       " '749.21': 22,\n",
       " '749.22': 22,\n",
       " '749.23': 22,\n",
       " '749.24': 22,\n",
       " '749.25': 22,\n",
       " '749.26': 22,\n",
       " '749.27': 22,\n",
       " '749.28': 22,\n",
       " '749.29': 22,\n",
       " '749.10': 23,\n",
       " '749.11': 23,\n",
       " '749.12': 23,\n",
       " '749.13': 23,\n",
       " '749.14': 23,\n",
       " '749.15': 23,\n",
       " '749.16': 23,\n",
       " '749.17': 23,\n",
       " '749.18': 23,\n",
       " '749.19': 23,\n",
       " '749.00': 24,\n",
       " '749.01': 24,\n",
       " '749.02': 24,\n",
       " '749.03': 24,\n",
       " '749.04': 24,\n",
       " '749.05': 24,\n",
       " '749.06': 24,\n",
       " '749.07': 24,\n",
       " '749.08': 24,\n",
       " '749.09': 24,\n",
       " '756.71': 25,\n",
       " '746.70': 26,\n",
       " '752.60': 27,\n",
       " '752.62': 27,\n",
       " '755.20': 28,\n",
       " '755.21': 28,\n",
       " '755.22': 28,\n",
       " '755.23': 28,\n",
       " '755.24': 28,\n",
       " '755.25': 28,\n",
       " '755.26': 28,\n",
       " '755.27': 28,\n",
       " '755.28': 28,\n",
       " '755.29': 28,\n",
       " '755.30': 28,\n",
       " '755.31': 28,\n",
       " '755.32': 28,\n",
       " '755.33': 28,\n",
       " '755.34': 28,\n",
       " '755.35': 28,\n",
       " '755.36': 28,\n",
       " '755.37': 28,\n",
       " '755.38': 28,\n",
       " '755.39': 28,\n",
       " '755.40': 28,\n",
       " '755.41': 28,\n",
       " '755.42': 28,\n",
       " '755.43': 28,\n",
       " '755.44': 28,\n",
       " '755.45': 28,\n",
       " '755.46': 28,\n",
       " '755.47': 28,\n",
       " '755.48': 28,\n",
       " '755.49': 28,\n",
       " '741.00': 29,\n",
       " '741.01': 29,\n",
       " '741.02': 29,\n",
       " '741.03': 29,\n",
       " '741.04': 29,\n",
       " '741.05': 29,\n",
       " '741.06': 29,\n",
       " '741.07': 29,\n",
       " '741.08': 29,\n",
       " '741.09': 29,\n",
       " '741.10': 29,\n",
       " '741.11': 29,\n",
       " '741.12': 29,\n",
       " '741.13': 29,\n",
       " '741.14': 29,\n",
       " '741.15': 29,\n",
       " '741.16': 29,\n",
       " '741.17': 29,\n",
       " '741.18': 29,\n",
       " '741.19': 29,\n",
       " '741.20': 29,\n",
       " '741.21': 29,\n",
       " '741.22': 29,\n",
       " '741.23': 29,\n",
       " '741.24': 29,\n",
       " '741.25': 29,\n",
       " '741.26': 29,\n",
       " '741.27': 29,\n",
       " '741.28': 29,\n",
       " '741.29': 29,\n",
       " '741.30': 29,\n",
       " '741.31': 29,\n",
       " '741.32': 29,\n",
       " '741.33': 29,\n",
       " '741.34': 29,\n",
       " '741.35': 29,\n",
       " '741.36': 29,\n",
       " '741.37': 29,\n",
       " '741.38': 29,\n",
       " '741.39': 29,\n",
       " '741.40': 29,\n",
       " '741.41': 29,\n",
       " '741.42': 29,\n",
       " '741.43': 29,\n",
       " '741.44': 29,\n",
       " '741.45': 29,\n",
       " '741.46': 29,\n",
       " '741.47': 29,\n",
       " '741.48': 29,\n",
       " '741.49': 29,\n",
       " '741.50': 29,\n",
       " '741.51': 29,\n",
       " '741.52': 29,\n",
       " '741.53': 29,\n",
       " '741.54': 29,\n",
       " '741.55': 29,\n",
       " '741.56': 29,\n",
       " '741.57': 29,\n",
       " '741.58': 29,\n",
       " '741.59': 29,\n",
       " '741.60': 29,\n",
       " '741.61': 29,\n",
       " '741.62': 29,\n",
       " '741.63': 29,\n",
       " '741.64': 29,\n",
       " '741.65': 29,\n",
       " '741.66': 29,\n",
       " '741.67': 29,\n",
       " '741.68': 29,\n",
       " '741.69': 29,\n",
       " '741.70': 29,\n",
       " '741.71': 29,\n",
       " '741.72': 29,\n",
       " '741.73': 29,\n",
       " '741.74': 29,\n",
       " '741.75': 29,\n",
       " '741.76': 29,\n",
       " '741.77': 29,\n",
       " '741.78': 29,\n",
       " '741.79': 29,\n",
       " '741.80': 29,\n",
       " '741.81': 29,\n",
       " '741.82': 29,\n",
       " '741.83': 29,\n",
       " '741.84': 29,\n",
       " '741.85': 29,\n",
       " '741.86': 29,\n",
       " '741.87': 29,\n",
       " '741.88': 29,\n",
       " '741.89': 29,\n",
       " '741.90': 29,\n",
       " '741.91': 29,\n",
       " '741.92': 29,\n",
       " '741.93': 29,\n",
       " '741.94': 29,\n",
       " '741.95': 29,\n",
       " '741.96': 29,\n",
       " '741.97': 29,\n",
       " '741.98': 29,\n",
       " '741.99': 29,\n",
       " '745.20': 30,\n",
       " '745.21': 30,\n",
       " '747.31': 30,\n",
       " '745.10': 31,\n",
       " '745.11': 31,\n",
       " '745.12': 31,\n",
       " '745.18': 31,\n",
       " '745.19': 31,\n",
       " '758.00': 32,\n",
       " '758.01': 32,\n",
       " '758.02': 32,\n",
       " '758.03': 32,\n",
       " '758.04': 32,\n",
       " '758.05': 32,\n",
       " '758.06': 32,\n",
       " '758.07': 32,\n",
       " '758.08': 32,\n",
       " '758.09': 32}"
      ]
     },
     "execution_count": 153,
     "metadata": {},
     "output_type": "execute_result"
    }
   ],
   "source": [
    "icd_BPA_dict"
   ]
  },
  {
   "cell_type": "code",
   "execution_count": 154,
   "metadata": {},
   "outputs": [],
   "source": [
    "# this function maps the values of icd_9 or icd_10 into the values of BirthDefect 12 codes\n",
    "# This method was not used\n",
    "# def lookup_icd_value(value, icd_code = 10):\n",
    "#     if icd_code == 10:\n",
    "#         return icd_10_dict.get(value, np.nan)\n",
    "#     if icd_code == 9:\n",
    "#         return icd_9_dict.get(value, np.nan)\n",
    "#     \n",
    "# # Creating a column mapping from ICD-9\n",
    "# bd['BIRTH_DEFECTS_from_9'] = bd['DEFECT_CODE'].apply(lookup_icd_value, icd_code = 9)\n",
    "# bd['BIRTH_DEFECTS_from_10'] = bd['DEFECT_CODE10CM'].apply(lookup_icd_value)"
   ]
  },
  {
   "cell_type": "code",
   "execution_count": 39,
   "metadata": {},
   "outputs": [],
   "source": [
    "# The second method: Instead of the exact match, look if it starts with a key in the dictionary\n",
    "def lookup_icd_value_startsWith(value, icd_code=10):\n",
    "    if pd.isnull(value):\n",
    "        return np.nan\n",
    "    # value = str(value)\n",
    "    if icd_code == 10:\n",
    "        for key in icd_10_dict:\n",
    "            if value.startswith(key):\n",
    "                return icd_10_dict[key]\n",
    "        return np.nan\n",
    "    if icd_code == 9:\n",
    "        for key in icd_9_dict:\n",
    "            if value.startswith(key):\n",
    "                return icd_9_dict[key]\n",
    "        return np.nan\n",
    "    if icd_code == 8:\n",
    "        for key in icd_BPA_dict:\n",
    "            if value.startswith(key):\n",
    "                return icd_BPA_dict[key]\n",
    "    \n",
    "# Creating a column mapping from ICD-9\n",
    "#bd_2['BIRTH_DEFECTS_from_9'] = bd_2['d15'].apply(lookup_icd_value_startsWith, icd_code = 9)\n",
    "bd_2['BIRTH_DEFECTS_from_9'] = bd_2['d15'].apply(lookup_icd_value_startsWith, icd_code = 8)\n",
    "bd_2['BIRTH_DEFECTS_from_10'] = bd_2['d16'].apply(lookup_icd_value_startsWith)"
   ]
  },
  {
   "cell_type": "code",
   "execution_count": 40,
   "metadata": {},
   "outputs": [],
   "source": [
    "# Birth Defects out of our 12 categories\n",
    "not_matches = bd_2[bd_2['BIRTH_DEFECTS_from_9'].isna() & bd_2['BIRTH_DEFECTS_from_10'].isna()]\n",
    "\n",
    "# Birth Defects of our 12 categories\n",
    "matches = bd_2[bd_2['BIRTH_DEFECTS_from_9'].notna() | bd_2['BIRTH_DEFECTS_from_10'].notna()]\n"
   ]
  },
  {
   "cell_type": "markdown",
   "metadata": {},
   "source": [
    "Checking what percentages of total birth defects for 2005 to 2021 are from the 12 categories from the Tracking(below shows it's around 6.3%)"
   ]
  },
  {
   "cell_type": "code",
   "execution_count": 41,
   "metadata": {},
   "outputs": [
    {
     "data": {
      "text/plain": [
       "8.289161030890147"
      ]
     },
     "execution_count": 41,
     "metadata": {},
     "output_type": "execute_result"
    }
   ],
   "source": [
    "matches.shape[0]* 100 / bd_2.shape[0]"
   ]
  },
  {
   "cell_type": "code",
   "execution_count": 42,
   "metadata": {},
   "outputs": [
    {
     "data": {
      "text/plain": [
       "0"
      ]
     },
     "execution_count": 42,
     "metadata": {},
     "output_type": "execute_result"
    }
   ],
   "source": [
    "# Checking if the duplicated values that values for both ICD-10 and CDC/BPA result into similar BD ids\n",
    "dup_check = bd_2[bd_2['BIRTH_DEFECTS_from_10'].notna() & bd_2['BIRTH_DEFECTS_from_9'].notna()]\n",
    "sum(dup_check['BIRTH_DEFECTS_from_10'] != dup_check['BIRTH_DEFECTS_from_9'])"
   ]
  },
  {
   "cell_type": "code",
   "execution_count": 43,
   "metadata": {},
   "outputs": [],
   "source": [
    "# Merge the two columns into BirthDefect column\n",
    "def merge_defect_columns(row, ICD_9_Col='BIRTH_DEFECTS_from_9', ICD_10_Col= 'BIRTH_DEFECTS_from_10'):\n",
    "    val_10 = row[ICD_10_Col]\n",
    "    val_9 = row[ICD_9_Col]\n",
    "    \n",
    "    if pd.isna(val_10) and pd.isna(val_9):\n",
    "        return np.nan\n",
    "    elif pd.isna(val_10):\n",
    "        return val_9\n",
    "    elif pd.isna(val_9):\n",
    "        return val_10\n",
    "    else:\n",
    "        return val_10 if val_10 == val_9 else np.nan\n",
    "\n",
    "bd_2['BirthDefects'] = bd_2.apply(merge_defect_columns, axis=1)"
   ]
  },
  {
   "cell_type": "code",
   "execution_count": 44,
   "metadata": {},
   "outputs": [
    {
     "data": {
      "text/html": [
       "<style>.itables table td {\n",
       "    text-overflow: ellipsis;\n",
       "    overflow: hidden;\n",
       "}\n",
       "\n",
       ".itables table th {\n",
       "    text-overflow: ellipsis;\n",
       "    overflow: hidden;\n",
       "}\n",
       "\n",
       ".itables thead input {\n",
       "    width: 100%;\n",
       "    padding: 3px;\n",
       "    box-sizing: border-box;\n",
       "}\n",
       "\n",
       ".itables tfoot input {\n",
       "    width: 100%;\n",
       "    padding: 3px;\n",
       "    box-sizing: border-box;\n",
       "}\n",
       "</style>\n",
       "<div class=\"itables\">\n",
       "<table id=\"73914e83-0880-4a30-8629-94a70f6859ba\" class=\"display nowrap\"style=\"table-layout:auto;width:auto;margin:auto;caption-side:bottom\"><thead>\n",
       "    <tr style=\"text-align: right;\">\n",
       "      <th></th>\n",
       "      <th>count</th>\n",
       "    </tr>\n",
       "    <tr>\n",
       "      <th>BirthDefects</th>\n",
       "      <th></th>\n",
       "    </tr>\n",
       "  </thead><tbody><tr><td>Loading... (need <a href=https://mwouts.github.io/itables/troubleshooting.html>help</a>?)</td></tr></tbody></table>\n",
       "<script>\n",
       "    // We use a namespace per table (= the next curly bracket)\n",
       "    // to avoid conflicts between the various tables' data & dt_args\n",
       "    {\n",
       "        // Define the table data\n",
       "        const data = [[NaN, 60210], [27.0, 1943], [32.0, 844], [22.0, 397], [29.0, 378], [24.0, 374], [28.0, 352], [23.0, 257], [31.0, 248], [25.0, 234], [30.0, 159], [26.0, 148], [21.0, 108]];\n",
       "        // Display the table\n",
       "        $(document).ready(function () {\n",
       "            window.dataTablePromise.then(() => {\n",
       "                // Define the dt_args\n",
       "                let dt_args = {\"order\": []};\n",
       "                dt_args[\"data\"] = data;\n",
       "\n",
       "                \n",
       "                $('#73914e83-0880-4a30-8629-94a70f6859ba').DataTable(dt_args);\n",
       "            });\n",
       "        })\n",
       "    }\n",
       "</script>\n",
       "</div>\n"
      ],
      "text/plain": [
       "BirthDefects\n",
       "NaN     60210\n",
       "27.0     1943\n",
       "32.0      844\n",
       "22.0      397\n",
       "29.0      378\n",
       "24.0      374\n",
       "28.0      352\n",
       "23.0      257\n",
       "31.0      248\n",
       "25.0      234\n",
       "30.0      159\n",
       "26.0      148\n",
       "21.0      108\n",
       "Name: count, dtype: int64"
      ]
     },
     "execution_count": 44,
     "metadata": {},
     "output_type": "execute_result"
    }
   ],
   "source": [
    "bd_2['BirthDefects'].value_counts(dropna=False)"
   ]
  },
  {
   "cell_type": "markdown",
   "metadata": {},
   "source": [
    "### Final preparations of the Birth Defect data"
   ]
  },
  {
   "cell_type": "markdown",
   "metadata": {},
   "source": [
    "* We are only interested in `matches` section of data that contains the 12 BDs of interest"
   ]
  },
  {
   "cell_type": "code",
   "execution_count": 45,
   "metadata": {},
   "outputs": [
    {
     "name": "stderr",
     "output_type": "stream",
     "text": [
      "/var/folders/tx/f40dd1zx7154kx9yjmytmw_00000gr/T/ipykernel_79146/1431824544.py:1: SettingWithCopyWarning: \n",
      "A value is trying to be set on a copy of a slice from a DataFrame.\n",
      "Try using .loc[row_indexer,col_indexer] = value instead\n",
      "\n",
      "See the caveats in the documentation: https://pandas.pydata.org/pandas-docs/stable/user_guide/indexing.html#returning-a-view-versus-a-copy\n",
      "  matches['BirthDefect'] = matches.apply(merge_defect_columns, axis=1)\n"
     ]
    },
    {
     "data": {
      "text/html": [
       "<style>.itables table td {\n",
       "    text-overflow: ellipsis;\n",
       "    overflow: hidden;\n",
       "}\n",
       "\n",
       ".itables table th {\n",
       "    text-overflow: ellipsis;\n",
       "    overflow: hidden;\n",
       "}\n",
       "\n",
       ".itables thead input {\n",
       "    width: 100%;\n",
       "    padding: 3px;\n",
       "    box-sizing: border-box;\n",
       "}\n",
       "\n",
       ".itables tfoot input {\n",
       "    width: 100%;\n",
       "    padding: 3px;\n",
       "    box-sizing: border-box;\n",
       "}\n",
       "</style>\n",
       "<div class=\"itables\">\n",
       "<table id=\"8492048b-c27e-4476-86c5-be967d7318d2\" class=\"display nowrap\"style=\"table-layout:auto;width:auto;margin:auto;caption-side:bottom\"><thead>\n",
       "    <tr style=\"text-align: right;\">\n",
       "      <th></th>\n",
       "      <th>count</th>\n",
       "    </tr>\n",
       "    <tr>\n",
       "      <th>BirthDefect</th>\n",
       "      <th></th>\n",
       "    </tr>\n",
       "  </thead><tbody><tr><td>Loading... (need <a href=https://mwouts.github.io/itables/troubleshooting.html>help</a>?)</td></tr></tbody></table>\n",
       "<script>\n",
       "    // We use a namespace per table (= the next curly bracket)\n",
       "    // to avoid conflicts between the various tables' data & dt_args\n",
       "    {\n",
       "        // Define the table data\n",
       "        const data = [[27.0, 1943], [32.0, 844], [22.0, 397], [29.0, 378], [24.0, 374], [28.0, 352], [23.0, 257], [31.0, 248], [25.0, 234], [30.0, 159], [26.0, 148], [21.0, 108]];\n",
       "        // Display the table\n",
       "        $(document).ready(function () {\n",
       "            window.dataTablePromise.then(() => {\n",
       "                // Define the dt_args\n",
       "                let dt_args = {\"order\": []};\n",
       "                dt_args[\"data\"] = data;\n",
       "\n",
       "                \n",
       "                $('#8492048b-c27e-4476-86c5-be967d7318d2').DataTable(dt_args);\n",
       "            });\n",
       "        })\n",
       "    }\n",
       "</script>\n",
       "</div>\n"
      ],
      "text/plain": [
       "BirthDefect\n",
       "27.0    1943\n",
       "32.0     844\n",
       "22.0     397\n",
       "29.0     378\n",
       "24.0     374\n",
       "28.0     352\n",
       "23.0     257\n",
       "31.0     248\n",
       "25.0     234\n",
       "30.0     159\n",
       "26.0     148\n",
       "21.0     108\n",
       "Name: count, dtype: int64"
      ]
     },
     "execution_count": 45,
     "metadata": {},
     "output_type": "execute_result"
    }
   ],
   "source": [
    "matches['BirthDefect'] = matches.apply(merge_defect_columns, axis=1)\n",
    "matches['BirthDefect'].value_counts(dropna=False)"
   ]
  },
  {
   "cell_type": "code",
   "execution_count": 46,
   "metadata": {},
   "outputs": [
    {
     "data": {
      "text/html": [
       "<style>.itables table td {\n",
       "    text-overflow: ellipsis;\n",
       "    overflow: hidden;\n",
       "}\n",
       "\n",
       ".itables table th {\n",
       "    text-overflow: ellipsis;\n",
       "    overflow: hidden;\n",
       "}\n",
       "\n",
       ".itables thead input {\n",
       "    width: 100%;\n",
       "    padding: 3px;\n",
       "    box-sizing: border-box;\n",
       "}\n",
       "\n",
       ".itables tfoot input {\n",
       "    width: 100%;\n",
       "    padding: 3px;\n",
       "    box-sizing: border-box;\n",
       "}\n",
       "</style>\n",
       "<div class=\"itables\">\n",
       "<table id=\"66442d2f-5974-40b2-86de-b173b2503170\" class=\"display nowrap\"style=\"table-layout:auto;width:auto;margin:auto;caption-side:bottom\"><thead>\n",
       "    <tr style=\"text-align: right;\">\n",
       "      <th></th>\n",
       "      <th>count</th>\n",
       "    </tr>\n",
       "    <tr>\n",
       "      <th>MaternalEthnicity</th>\n",
       "      <th></th>\n",
       "    </tr>\n",
       "  </thead><tbody><tr><td>Loading... (need <a href=https://mwouts.github.io/itables/troubleshooting.html>help</a>?)</td></tr></tbody></table>\n",
       "<script>\n",
       "    // We use a namespace per table (= the next curly bracket)\n",
       "    // to avoid conflicts between the various tables' data & dt_args\n",
       "    {\n",
       "        // Define the table data\n",
       "        const data = [[\"NH\", 4500], [\"H\", 756], [\"U\", 186]];\n",
       "        // Display the table\n",
       "        $(document).ready(function () {\n",
       "            window.dataTablePromise.then(() => {\n",
       "                // Define the dt_args\n",
       "                let dt_args = {\"order\": [], \"dom\": \"t\"};\n",
       "                dt_args[\"data\"] = data;\n",
       "\n",
       "                \n",
       "                $('#66442d2f-5974-40b2-86de-b173b2503170').DataTable(dt_args);\n",
       "            });\n",
       "        })\n",
       "    }\n",
       "</script>\n",
       "</div>\n"
      ],
      "text/plain": [
       "MaternalEthnicity\n",
       "NH    4500\n",
       "H      756\n",
       "U      186\n",
       "Name: count, dtype: int64"
      ]
     },
     "execution_count": 46,
     "metadata": {},
     "output_type": "execute_result"
    }
   ],
   "source": [
    "matches.MaternalEthnicity.value_counts(dropna=False)"
   ]
  },
  {
   "cell_type": "code",
   "execution_count": 47,
   "metadata": {},
   "outputs": [
    {
     "data": {
      "text/html": [
       "<style>.itables table td {\n",
       "    text-overflow: ellipsis;\n",
       "    overflow: hidden;\n",
       "}\n",
       "\n",
       ".itables table th {\n",
       "    text-overflow: ellipsis;\n",
       "    overflow: hidden;\n",
       "}\n",
       "\n",
       ".itables thead input {\n",
       "    width: 100%;\n",
       "    padding: 3px;\n",
       "    box-sizing: border-box;\n",
       "}\n",
       "\n",
       ".itables tfoot input {\n",
       "    width: 100%;\n",
       "    padding: 3px;\n",
       "    box-sizing: border-box;\n",
       "}\n",
       "</style>\n",
       "<div class=\"itables\">\n",
       "<table id=\"e088dd97-7262-4ed8-8b01-9fe5fdf91407\" class=\"display nowrap\"style=\"table-layout:auto;width:auto;margin:auto;caption-side:bottom\"><thead>\n",
       "    <tr style=\"text-align: right;\">\n",
       "      <th></th>\n",
       "      <th>count</th>\n",
       "    </tr>\n",
       "    <tr>\n",
       "      <th>MaternalRace</th>\n",
       "      <th></th>\n",
       "    </tr>\n",
       "  </thead><tbody><tr><td>Loading... (need <a href=https://mwouts.github.io/itables/troubleshooting.html>help</a>?)</td></tr></tbody></table>\n",
       "<script>\n",
       "    // We use a namespace per table (= the next curly bracket)\n",
       "    // to avoid conflicts between the various tables' data & dt_args\n",
       "    {\n",
       "        // Define the table data\n",
       "        const data = [[\"W\", 4042], [\"O\", 927], [\"B\", 287], [\"U\", 186]];\n",
       "        // Display the table\n",
       "        $(document).ready(function () {\n",
       "            window.dataTablePromise.then(() => {\n",
       "                // Define the dt_args\n",
       "                let dt_args = {\"order\": [], \"dom\": \"t\"};\n",
       "                dt_args[\"data\"] = data;\n",
       "\n",
       "                \n",
       "                $('#e088dd97-7262-4ed8-8b01-9fe5fdf91407').DataTable(dt_args);\n",
       "            });\n",
       "        })\n",
       "    }\n",
       "</script>\n",
       "</div>\n"
      ],
      "text/plain": [
       "MaternalRace\n",
       "W    4042\n",
       "O     927\n",
       "B     287\n",
       "U     186\n",
       "Name: count, dtype: int64"
      ]
     },
     "execution_count": 47,
     "metadata": {},
     "output_type": "execute_result"
    }
   ],
   "source": [
    "matches.MaternalRace.value_counts(dropna=False)"
   ]
  },
  {
   "cell_type": "code",
   "execution_count": 48,
   "metadata": {},
   "outputs": [
    {
     "data": {
      "text/plain": [
       "97.85005512679162"
      ]
     },
     "execution_count": 48,
     "metadata": {},
     "output_type": "execute_result"
    }
   ],
   "source": [
    "# Percent of live births with the specified birth defects\n",
    "matches.bth_cert1.notna().sum()*100/matches.shape[0]"
   ]
  },
  {
   "cell_type": "code",
   "execution_count": 49,
   "metadata": {},
   "outputs": [
    {
     "data": {
      "text/plain": [
       "2.1499448732083795"
      ]
     },
     "execution_count": 49,
     "metadata": {},
     "output_type": "execute_result"
    }
   ],
   "source": [
    "# Percent of fetal death with the specified birth defects\n",
    "matches.fetal_cert.notna().sum()*100/matches.shape[0]"
   ]
  },
  {
   "cell_type": "code",
   "execution_count": 50,
   "metadata": {},
   "outputs": [
    {
     "data": {
      "text/plain": [
       "Index(['d16', 'd15', 'InfantSex', 'bth_cert1', 'fetal_cert', 'dth_cert',\n",
       "       'MaternalAgeGroup', 'County', 'MaternalEthnicity', 'MaternalRace',\n",
       "       'StartDate', 'EndDate', 'BIRTH_DEFECTS_from_9', 'BIRTH_DEFECTS_from_10',\n",
       "       'BirthDefect'],\n",
       "      dtype='object')"
      ]
     },
     "execution_count": 50,
     "metadata": {},
     "output_type": "execute_result"
    }
   ],
   "source": [
    "matches.columns"
   ]
  },
  {
   "cell_type": "code",
   "execution_count": 52,
   "metadata": {},
   "outputs": [],
   "source": [
    "group_by = ['BirthDefect', 'County', 'StartDate', 'EndDate','MaternalAgeGroup', 'MaternalEthnicity', 'MaternalRace',\n",
    "                   'InfantSex']"
   ]
  },
  {
   "cell_type": "code",
   "execution_count": 53,
   "metadata": {},
   "outputs": [],
   "source": [
    "# bd_grouped = matches.groupby(group_by).agg(LBWBD=('bth_cert1', 'size')).reset_index()\n",
    "bd_grouped = matches.groupby(group_by).agg(LBWBD=('bth_cert1', lambda x: x.notna().sum()),\n",
    "                                           LBFDTWD=('bth_cert1', 'size')).reset_index()\n"
   ]
  },
  {
   "cell_type": "code",
   "execution_count": 54,
   "metadata": {},
   "outputs": [],
   "source": [
    "bd_grouped.to_csv('Data/BIRTHDEFECTS080823/BirthDefects_without_TBL_BPA.csv')"
   ]
  },
  {
   "cell_type": "code",
   "execution_count": null,
   "metadata": {},
   "outputs": [],
   "source": [
    "# At the end of this section the following command deletes all the memory.\n",
    "%reset"
   ]
  },
  {
   "cell_type": "markdown",
   "metadata": {},
   "source": [
    "## 2.Preparing the Live Birth Data"
   ]
  },
  {
   "cell_type": "code",
   "execution_count": null,
   "metadata": {},
   "outputs": [],
   "source": [
    "import numpy as np\n",
    "import pandas as pd\n",
    "\n",
    "\n",
    "from libraries import general as ge\n",
    "\n",
    "# from itables import init_notebook_mode\n",
    "\n",
    "#init_notebook_mode(all_interactive=True)\n",
    "\n",
    "\n",
    "import os\n",
    "os.chdir('/Users/babak.jfard/projects/EPHTracking')"
   ]
  },
  {
   "cell_type": "code",
   "execution_count": 2,
   "metadata": {},
   "outputs": [],
   "source": [
    "#live_births = pd.read_csv('Data/BIRTHDEFECTS080823/Live Births/bth2005.csv')\n",
    "folder = r'Data/BIRTHDEFECTS080823/Live Births'\n",
    "live_births = pd.concat((pd.read_csv(folder+'/'+filename)) for filename in os.listdir(folder) if filename.endswith('.csv'))"
   ]
  },
  {
   "cell_type": "code",
   "execution_count": 7,
   "metadata": {},
   "outputs": [
    {
     "name": "stdout",
     "output_type": "stream",
     "text": [
      "Number of live births in each year\n"
     ]
    },
    {
     "data": {
      "text/plain": [
       "2009    25899\n",
       "2008    25885\n",
       "2007    25822\n",
       "2014    25819\n",
       "2015    25728\n",
       "2006    25661\n",
       "2016    25656\n",
       "2013    25159\n",
       "2005    25103\n",
       "2012    25010\n",
       "2010    24937\n",
       "2017    24885\n",
       "2011    24834\n",
       "2018    24538\n",
       "2019    23860\n",
       "2021    23646\n",
       "2020    23419\n",
       "Name: DOB_YY, dtype: int64"
      ]
     },
     "execution_count": 7,
     "metadata": {},
     "output_type": "execute_result"
    }
   ],
   "source": [
    "print(\"Number of live births in each year\")\n",
    "live_births.DOB_YY.value_counts()"
   ]
  },
  {
   "cell_type": "code",
   "execution_count": 4,
   "metadata": {},
   "outputs": [],
   "source": [
    "# keep only those with mother state of residence as NE\n",
    "live_births = live_births[live_births.strm == 'NE']"
   ]
  },
  {
   "cell_type": "code",
   "execution_count": 6,
   "metadata": {},
   "outputs": [
    {
     "data": {
      "text/plain": [
       "93"
      ]
     },
     "execution_count": 6,
     "metadata": {},
     "output_type": "execute_result"
    }
   ],
   "source": [
    "live_births['coures'].nunique()"
   ]
  },
  {
   "cell_type": "markdown",
   "metadata": {},
   "source": [
    "### Correcting the FIPS code, Maternal Ethnicity, and Dates\n",
    "received FIPS codes for the counties are in three digit format. needs to be chanded into five digits"
   ]
  },
  {
   "cell_type": "code",
   "execution_count": 8,
   "metadata": {},
   "outputs": [],
   "source": [
    "# Making FIPS codes into 5 dgigts\n",
    "state_FIPS = '31' #For Nebraska.\n",
    "\n",
    "live_births.coures = live_births.coures.astype('str').str.zfill(3) #Pad strings in the Series/Index by prepending ‘0’ characters.\n",
    "live_births['County'] = (state_FIPS+ live_births['coures']).astype('int')\n",
    "live_births.drop(columns='coures', inplace=True)"
   ]
  },
  {
   "cell_type": "code",
   "execution_count": 9,
   "metadata": {},
   "outputs": [],
   "source": [
    "live_births['StartDate'] = live_births['DOB_YY'].astype('str') + '0101'"
   ]
  },
  {
   "cell_type": "code",
   "execution_count": 10,
   "metadata": {},
   "outputs": [],
   "source": [
    "live_births.rename(columns={'sex': 'InfantSex'}, inplace=True)"
   ]
  },
  {
   "cell_type": "code",
   "execution_count": 11,
   "metadata": {},
   "outputs": [],
   "source": [
    "# Distinguishing Ethnicity\n",
    "# Define the conditions and choices\n",
    "conditions = [\n",
    "    live_births['hispanicm'].str.contains('H'),\n",
    "    live_births['hispanicm'].str.contains('U')\n",
    "]\n",
    "choices = ['H', 'U']\n",
    "\n",
    "# Create the new column using np.select\n",
    "live_births['MaternalEthnicity'] = np.select(conditions, choices, default='NH')\n",
    "live_births = live_births.drop(columns='hispanicm')"
   ]
  },
  {
   "cell_type": "code",
   "execution_count": 12,
   "metadata": {},
   "outputs": [
    {
     "data": {
      "text/plain": [
       "NH    360100\n",
       "H      65593\n",
       "U        168\n",
       "Name: MaternalEthnicity, dtype: int64"
      ]
     },
     "execution_count": 12,
     "metadata": {},
     "output_type": "execute_result"
    }
   ],
   "source": [
    "live_births.MaternalEthnicity.value_counts()"
   ]
  },
  {
   "cell_type": "code",
   "execution_count": 15,
   "metadata": {},
   "outputs": [],
   "source": [
    "# Categorizing maternal age into the groups from the HTG, and saving it into the appropriate column\n",
    "live_births = categorize_age(live_births, age_col='agemo')"
   ]
  },
  {
   "cell_type": "markdown",
   "metadata": {},
   "source": [
    "### Editing Maternal Race"
   ]
  },
  {
   "cell_type": "code",
   "execution_count": 16,
   "metadata": {},
   "outputs": [],
   "source": [
    "race_other_columns = ['aindianm', 'chamorrom', 'chinesem', 'filipinom', 'indianm', 'japanesem',\n",
    "                      'koreanm', 'nhawaiianm', 'opacislm', 'otheram', 'otherm', 'samoanm', 'vietnamesem']\n",
    "race_black_columns = 'blackm'\n",
    "race_white_columns = 'whitem'"
   ]
  },
  {
   "cell_type": "code",
   "execution_count": 17,
   "metadata": {},
   "outputs": [
    {
     "name": "stdout",
     "output_type": "stream",
     "text": [
      "aindianm: N    422923\n",
      "Y      2938\n",
      "Name: aindianm, dtype: int64\n",
      "chamorrom: N    425594\n",
      "Y       267\n",
      "Name: chamorrom, dtype: int64\n",
      "chinesem: N    424307\n",
      "Y      1554\n",
      "Name: chinesem, dtype: int64\n",
      "filipinom: N    424199\n",
      "Y      1662\n",
      "Name: filipinom, dtype: int64\n",
      "indianm: N    418615\n",
      "Y      7246\n",
      "Name: indianm, dtype: int64\n",
      "japanesem: N    425135\n",
      "Y       726\n",
      "Name: japanesem, dtype: int64\n",
      "koreanm: N    424915\n",
      "Y       946\n",
      "Name: koreanm, dtype: int64\n",
      "nhawaiianm: N    425645\n",
      "Y       216\n",
      "Name: nhawaiianm, dtype: int64\n",
      "opacislm: N    425521\n",
      "Y       340\n",
      "Name: opacislm, dtype: int64\n",
      "otheram: N    422109\n",
      "Y      3752\n",
      "Name: otheram, dtype: int64\n",
      "otherm: N    375978\n",
      "Y     49883\n",
      "Name: otherm, dtype: int64\n",
      "samoanm: N    425768\n",
      "Y        93\n",
      "Name: samoanm, dtype: int64\n",
      "vietnamesem: N    423590\n",
      "Y      2271\n",
      "Name: vietnamesem, dtype: int64\n"
     ]
    },
    {
     "data": {
      "text/plain": [
       "[None, None, None, None, None, None, None, None, None, None, None, None, None]"
      ]
     },
     "execution_count": 17,
     "metadata": {},
     "output_type": "execute_result"
    }
   ],
   "source": [
    "# checking the unique values in all other race columns are 'Y' or 'N'\n",
    "[print(f\"{col}: {live_births[col].value_counts(dropna=False)}\") for col in race_other_columns]"
   ]
  },
  {
   "cell_type": "code",
   "execution_count": 18,
   "metadata": {},
   "outputs": [],
   "source": [
    "# changing to digist to better be able to check consistency\n",
    "to_digits = {'Y':1, 'N':0}"
   ]
  },
  {
   "cell_type": "code",
   "execution_count": 19,
   "metadata": {},
   "outputs": [
    {
     "data": {
      "text/plain": [
       "[None, None, None, None, None, None, None, None, None, None, None, None, None]"
      ]
     },
     "execution_count": 19,
     "metadata": {},
     "output_type": "execute_result"
    }
   ],
   "source": [
    "[live_births[col].replace(to_digits, inplace=True) for col in race_other_columns]"
   ]
  },
  {
   "cell_type": "code",
   "execution_count": 20,
   "metadata": {},
   "outputs": [],
   "source": [
    "# Calculating all into one column for other\n",
    "live_births['race_other'] = live_births[race_other_columns].sum(axis=1)\n",
    "live_births['race_other'] = np.where(live_births['race_other']>0, 1, 0)"
   ]
  },
  {
   "cell_type": "code",
   "execution_count": 21,
   "metadata": {},
   "outputs": [],
   "source": [
    "# Doing the same for Black and White races\n",
    "live_births[race_white_columns].replace(to_digits, inplace=True)\n",
    "live_births[race_black_columns].replace(to_digits, inplace=True)"
   ]
  },
  {
   "cell_type": "code",
   "execution_count": 22,
   "metadata": {},
   "outputs": [
    {
     "data": {
      "text/plain": [
       "1    412706\n",
       "2     11786\n",
       "0       720\n",
       "3       649\n",
       "dtype: int64"
      ]
     },
     "execution_count": 22,
     "metadata": {},
     "output_type": "execute_result"
    }
   ],
   "source": [
    "# checking potential values. In an ideal situation there must be only one\n",
    "# or 0 for unknown\n",
    "three_races = ['blackm', 'whitem', 'race_other']\n",
    "live_births[three_races].sum(axis=1).value_counts(dropna=False)"
   ]
  },
  {
   "cell_type": "markdown",
   "metadata": {},
   "source": [
    "Well. Looks good. only about 3% are not 1. Now if this value is other than one it will return 'U', otherwise checks which of 'W', 'B' or 'O' applies"
   ]
  },
  {
   "cell_type": "code",
   "execution_count": 23,
   "metadata": {},
   "outputs": [],
   "source": [
    "# Calculate the sum of the three columns\n",
    "live_births['sum_race'] = live_births[['blackm', 'whitem', 'race_other']].sum(axis=1)\n",
    "\n",
    "# Define the conditions and choices for the 'MaternalRace' column\n",
    "conditions = [\n",
    "    (live_births['sum_race'] != 1),\n",
    "    (live_births['blackm'] == 1),\n",
    "    (live_births['whitem'] == 1),\n",
    "    (live_births['race_other'] == 1)\n",
    "]\n",
    "choices = ['U', 'B', 'W', 'O']\n",
    "\n",
    "# Create the 'MaternalRace' column using numpy.select\n",
    "live_births['MaternalRace'] = np.select(conditions, choices)\n",
    "\n",
    "# Drop the 'sum_race' column as it's no longer needed\n",
    "live_births.drop('sum_race', axis=1, inplace=True)\n"
   ]
  },
  {
   "cell_type": "code",
   "execution_count": 24,
   "metadata": {},
   "outputs": [
    {
     "data": {
      "text/plain": [
       "W    324607\n",
       "O     62008\n",
       "B     26091\n",
       "U     13155\n",
       "Name: MaternalRace, dtype: int64"
      ]
     },
     "execution_count": 24,
     "metadata": {},
     "output_type": "execute_result"
    }
   ],
   "source": [
    "live_births.MaternalRace.value_counts()"
   ]
  },
  {
   "cell_type": "markdown",
   "metadata": {},
   "source": [
    "### Wrapping up\n",
    "Here we prepare, rename and reorder column to get ready for joining with the birth defects data"
   ]
  },
  {
   "cell_type": "code",
   "execution_count": 25,
   "metadata": {},
   "outputs": [],
   "source": [
    "columns_to_keep = ['County', 'StartDate', 'MaternalAgeGroup', 'MaternalEthnicity', 'MaternalRace',\n",
    "                   'InfantSex']\n",
    "live_births = live_births[columns_to_keep]"
   ]
  },
  {
   "cell_type": "code",
   "execution_count": 27,
   "metadata": {},
   "outputs": [
    {
     "data": {
      "text/plain": [
       "20090101    25899\n",
       "20080101    25885\n",
       "20070101    25822\n",
       "20140101    25819\n",
       "20150101    25728\n",
       "20060101    25661\n",
       "20160101    25656\n",
       "20130101    25159\n",
       "20050101    25103\n",
       "20120101    25010\n",
       "20100101    24937\n",
       "20170101    24885\n",
       "20110101    24834\n",
       "20180101    24538\n",
       "20190101    23860\n",
       "20210101    23646\n",
       "20200101    23419\n",
       "Name: StartDate, dtype: int64"
      ]
     },
     "execution_count": 27,
     "metadata": {},
     "output_type": "execute_result"
    }
   ],
   "source": [
    "live_births.StartDate.value_counts()"
   ]
  },
  {
   "cell_type": "code",
   "execution_count": 386,
   "metadata": {},
   "outputs": [],
   "source": [
    "live_births.to_csv('Data/BIRTHDEFECTS080823/live_births_cleaned.csv')"
   ]
  },
  {
   "cell_type": "code",
   "execution_count": 388,
   "metadata": {},
   "outputs": [],
   "source": [
    "# Now grouping them and calculating TLB\n",
    "#live_births['TLB'] = live_births.groupby(columns_to_keep).transform('size')\n",
    "lb_grouped = live_births.groupby(columns_to_keep).agg(TLB=('County', 'size')).reset_index()\n"
   ]
  },
  {
   "cell_type": "code",
   "execution_count": 390,
   "metadata": {},
   "outputs": [
    {
     "data": {
      "text/html": [
       "<style>.itables table td {\n",
       "    text-overflow: ellipsis;\n",
       "    overflow: hidden;\n",
       "}\n",
       "\n",
       ".itables table th {\n",
       "    text-overflow: ellipsis;\n",
       "    overflow: hidden;\n",
       "}\n",
       "\n",
       ".itables thead input {\n",
       "    width: 100%;\n",
       "    padding: 3px;\n",
       "    box-sizing: border-box;\n",
       "}\n",
       "\n",
       ".itables tfoot input {\n",
       "    width: 100%;\n",
       "    padding: 3px;\n",
       "    box-sizing: border-box;\n",
       "}\n",
       "</style>\n",
       "<div class=\"itables\">\n",
       "<table id=\"8f3d7281-a06a-49ef-9390-c5623d09b5bd\" class=\"display nowrap\"style=\"table-layout:auto;width:auto;margin:auto;caption-side:bottom\"><thead>\n",
       "    <tr style=\"text-align: right;\">\n",
       "      \n",
       "      <th>County</th>\n",
       "      <th>StartDate</th>\n",
       "      <th>MaternalAgeGroup</th>\n",
       "      <th>MaternalEthnicity</th>\n",
       "      <th>MaternalRace</th>\n",
       "      <th>InfantSex</th>\n",
       "      <th>TLB</th>\n",
       "    </tr>\n",
       "  </thead><tbody><tr><td>Loading... (need <a href=https://mwouts.github.io/itables/troubleshooting.html>help</a>?)</td></tr></tbody></table>\n",
       "<script>\n",
       "    // We use a namespace per table (= the next curly bracket)\n",
       "    // to avoid conflicts between the various tables' data & dt_args\n",
       "    {\n",
       "        // Define the table data\n",
       "        const data = [[31001, \"20050101\", 1, \"H\", \"O\", \"F\", 2], [31001, \"20050101\", 1, \"H\", \"O\", \"M\", 5], [31001, \"20050101\", 1, \"H\", \"W\", \"M\", 1], [31001, \"20050101\", 1, \"NH\", \"B\", \"F\", 1], [31001, \"20050101\", 1, \"NH\", \"B\", \"M\", 1], [31001, \"20050101\", 1, \"NH\", \"U\", \"M\", 2], [31001, \"20050101\", 1, \"NH\", \"W\", \"F\", 19], [31001, \"20050101\", 1, \"NH\", \"W\", \"M\", 19], [31001, \"20050101\", 2, \"H\", \"B\", \"F\", 1], [31001, \"20050101\", 2, \"H\", \"O\", \"F\", 9], [31001, \"20050101\", 2, \"H\", \"O\", \"M\", 8], [31001, \"20050101\", 2, \"H\", \"W\", \"F\", 1], [31001, \"20050101\", 2, \"H\", \"W\", \"M\", 1], [31001, \"20050101\", 2, \"NH\", \"B\", \"M\", 1], [31001, \"20050101\", 2, \"NH\", \"O\", \"F\", 1], [31001, \"20050101\", 2, \"NH\", \"U\", \"M\", 1], [31001, \"20050101\", 2, \"NH\", \"W\", \"F\", 53], [31001, \"20050101\", 2, \"NH\", \"W\", \"M\", 45], [31001, \"20050101\", 3, \"H\", \"O\", \"F\", 8], [31001, \"20050101\", 3, \"H\", \"O\", \"M\", 9], [31001, \"20050101\", 3, \"H\", \"W\", \"F\", 1], [31001, \"20050101\", 3, \"H\", \"W\", \"M\", 1], [31001, \"20050101\", 3, \"NH\", \"O\", \"F\", 3], [31001, \"20050101\", 3, \"NH\", \"O\", \"M\", 6], [31001, \"20050101\", 3, \"NH\", \"U\", \"F\", 2], [31001, \"20050101\", 3, \"NH\", \"W\", \"F\", 44], [31001, \"20050101\", 3, \"NH\", \"W\", \"M\", 65], [31001, \"20050101\", 4, \"H\", \"O\", \"F\", 6], [31001, \"20050101\", 4, \"H\", \"O\", \"M\", 1], [31001, \"20050101\", 4, \"H\", \"W\", \"F\", 2], [31001, \"20050101\", 4, \"NH\", \"O\", \"F\", 1], [31001, \"20050101\", 4, \"NH\", \"O\", \"M\", 4], [31001, \"20050101\", 4, \"NH\", \"W\", \"F\", 32], [31001, \"20050101\", 4, \"NH\", \"W\", \"M\", 32], [31001, \"20050101\", 5, \"H\", \"O\", \"F\", 1], [31001, \"20050101\", 5, \"H\", \"W\", \"F\", 1], [31001, \"20050101\", 5, \"H\", \"W\", \"M\", 1], [31001, \"20050101\", 5, \"NH\", \"O\", \"F\", 3], [31001, \"20050101\", 5, \"NH\", \"O\", \"M\", 1], [31001, \"20050101\", 5, \"NH\", \"W\", \"F\", 19], [31001, \"20050101\", 5, \"NH\", \"W\", \"M\", 18], [31001, \"20050101\", 6, \"H\", \"O\", \"F\", 1], [31001, \"20050101\", 6, \"NH\", \"W\", \"F\", 4], [31001, \"20050101\", 6, \"NH\", \"W\", \"M\", 2], [31001, \"20060101\", 1, \"H\", \"O\", \"F\", 6], [31001, \"20060101\", 1, \"H\", \"O\", \"M\", 4], [31001, \"20060101\", 1, \"H\", \"W\", \"F\", 1], [31001, \"20060101\", 1, \"H\", \"W\", \"M\", 2], [31001, \"20060101\", 1, \"NH\", \"O\", \"F\", 1], [31001, \"20060101\", 1, \"NH\", \"W\", \"F\", 13]];\n",
       "        // Display the table\n",
       "        $(document).ready(function () {\n",
       "            window.dataTablePromise.then(() => {\n",
       "                // Define the dt_args\n",
       "                let dt_args = {\"order\": []};\n",
       "                dt_args[\"data\"] = data;\n",
       "\n",
       "                \n",
       "                $('#8f3d7281-a06a-49ef-9390-c5623d09b5bd').DataTable(dt_args);\n",
       "            });\n",
       "        })\n",
       "    }\n",
       "</script>\n",
       "</div>\n"
      ],
      "text/plain": [
       "    County StartDate  MaternalAgeGroup MaternalEthnicity MaternalRace  \\\n",
       "0    31001  20050101                 1                 H            O   \n",
       "1    31001  20050101                 1                 H            O   \n",
       "2    31001  20050101                 1                 H            W   \n",
       "3    31001  20050101                 1                NH            B   \n",
       "4    31001  20050101                 1                NH            B   \n",
       "5    31001  20050101                 1                NH            U   \n",
       "6    31001  20050101                 1                NH            W   \n",
       "7    31001  20050101                 1                NH            W   \n",
       "8    31001  20050101                 2                 H            B   \n",
       "9    31001  20050101                 2                 H            O   \n",
       "10   31001  20050101                 2                 H            O   \n",
       "11   31001  20050101                 2                 H            W   \n",
       "12   31001  20050101                 2                 H            W   \n",
       "13   31001  20050101                 2                NH            B   \n",
       "14   31001  20050101                 2                NH            O   \n",
       "15   31001  20050101                 2                NH            U   \n",
       "16   31001  20050101                 2                NH            W   \n",
       "17   31001  20050101                 2                NH            W   \n",
       "18   31001  20050101                 3                 H            O   \n",
       "19   31001  20050101                 3                 H            O   \n",
       "20   31001  20050101                 3                 H            W   \n",
       "21   31001  20050101                 3                 H            W   \n",
       "22   31001  20050101                 3                NH            O   \n",
       "23   31001  20050101                 3                NH            O   \n",
       "24   31001  20050101                 3                NH            U   \n",
       "25   31001  20050101                 3                NH            W   \n",
       "26   31001  20050101                 3                NH            W   \n",
       "27   31001  20050101                 4                 H            O   \n",
       "28   31001  20050101                 4                 H            O   \n",
       "29   31001  20050101                 4                 H            W   \n",
       "30   31001  20050101                 4                NH            O   \n",
       "31   31001  20050101                 4                NH            O   \n",
       "32   31001  20050101                 4                NH            W   \n",
       "33   31001  20050101                 4                NH            W   \n",
       "34   31001  20050101                 5                 H            O   \n",
       "35   31001  20050101                 5                 H            W   \n",
       "36   31001  20050101                 5                 H            W   \n",
       "37   31001  20050101                 5                NH            O   \n",
       "38   31001  20050101                 5                NH            O   \n",
       "39   31001  20050101                 5                NH            W   \n",
       "40   31001  20050101                 5                NH            W   \n",
       "41   31001  20050101                 6                 H            O   \n",
       "42   31001  20050101                 6                NH            W   \n",
       "43   31001  20050101                 6                NH            W   \n",
       "44   31001  20060101                 1                 H            O   \n",
       "45   31001  20060101                 1                 H            O   \n",
       "46   31001  20060101                 1                 H            W   \n",
       "47   31001  20060101                 1                 H            W   \n",
       "48   31001  20060101                 1                NH            O   \n",
       "49   31001  20060101                 1                NH            W   \n",
       "\n",
       "   InfantSex  TLB  \n",
       "0          F    2  \n",
       "1          M    5  \n",
       "2          M    1  \n",
       "3          F    1  \n",
       "4          M    1  \n",
       "5          M    2  \n",
       "6          F   19  \n",
       "7          M   19  \n",
       "8          F    1  \n",
       "9          F    9  \n",
       "10         M    8  \n",
       "11         F    1  \n",
       "12         M    1  \n",
       "13         M    1  \n",
       "14         F    1  \n",
       "15         M    1  \n",
       "16         F   53  \n",
       "17         M   45  \n",
       "18         F    8  \n",
       "19         M    9  \n",
       "20         F    1  \n",
       "21         M    1  \n",
       "22         F    3  \n",
       "23         M    6  \n",
       "24         F    2  \n",
       "25         F   44  \n",
       "26         M   65  \n",
       "27         F    6  \n",
       "28         M    1  \n",
       "29         F    2  \n",
       "30         F    1  \n",
       "31         M    4  \n",
       "32         F   32  \n",
       "33         M   32  \n",
       "34         F    1  \n",
       "35         F    1  \n",
       "36         M    1  \n",
       "37         F    3  \n",
       "38         M    1  \n",
       "39         F   19  \n",
       "40         M   18  \n",
       "41         F    1  \n",
       "42         F    4  \n",
       "43         M    2  \n",
       "44         F    6  \n",
       "45         M    4  \n",
       "46         F    1  \n",
       "47         M    2  \n",
       "48         F    1  \n",
       "49         F   13  "
      ]
     },
     "execution_count": 390,
     "metadata": {},
     "output_type": "execute_result"
    }
   ],
   "source": [
    "lb_grouped.head(50)"
   ]
  },
  {
   "cell_type": "code",
   "execution_count": 391,
   "metadata": {},
   "outputs": [],
   "source": [
    "# Saving Total births\n",
    "lb_grouped.to_csv('Data/BIRTHDEFECTS080823/live_births_summarized.csv', index=False)\n",
    "\n",
    "# ****************************** F I N I S H E D (Live Birth data section)"
   ]
  },
  {
   "cell_type": "code",
   "execution_count": null,
   "metadata": {},
   "outputs": [],
   "source": [
    "# Cleaning the memory\n",
    "%reset"
   ]
  },
  {
   "cell_type": "markdown",
   "metadata": {},
   "source": [
    "## 3.Joining the Datasets\n",
    "Here we join the two tables into the final table. But first check to make sure that the key columns actually match"
   ]
  },
  {
   "cell_type": "code",
   "execution_count": null,
   "metadata": {},
   "outputs": [],
   "source": [
    "import numpy as np\n",
    "import pandas as pd\n",
    "\n",
    "\n",
    "from libraries import general as ge\n",
    "\n",
    "# from itables import init_notebook_mode\n",
    "\n",
    "#init_notebook_mode(all_interactive=True)\n",
    "\n",
    "\n",
    "import os\n",
    "os.chdir('/Users/babak.jfard/projects/EPHTracking')"
   ]
  },
  {
   "cell_type": "markdown",
   "metadata": {},
   "source": [
    "### Preparing the tables"
   ]
  },
  {
   "cell_type": "code",
   "execution_count": 52,
   "metadata": {},
   "outputs": [],
   "source": [
    "bd_grouped = pd.read_csv('Data/BIRTHDEFECTS080823/BirthDefects_without_TBL_BPA.csv')\n",
    "lb_grouped = pd.read_csv('Data/BIRTHDEFECTS080823/live_births_summarized.csv')"
   ]
  },
  {
   "cell_type": "code",
   "execution_count": 53,
   "metadata": {},
   "outputs": [
    {
     "data": {
      "text/plain": [
       "StartDate\n",
       "20050101    93\n",
       "20060101    93\n",
       "20070101    93\n",
       "20080101    93\n",
       "20090101    93\n",
       "20100101    93\n",
       "20110101    93\n",
       "20120101    92\n",
       "20130101    93\n",
       "20140101    93\n",
       "20150101    93\n",
       "20160101    93\n",
       "20170101    93\n",
       "20180101    93\n",
       "20190101    93\n",
       "20200101    93\n",
       "20210101    93\n",
       "Name: County, dtype: int64"
      ]
     },
     "execution_count": 53,
     "metadata": {},
     "output_type": "execute_result"
    }
   ],
   "source": [
    "# Check if all the years have all 93 counties\n",
    "lb_grouped.groupby('StartDate')['County'].nunique()"
   ]
  },
  {
   "cell_type": "code",
   "execution_count": 56,
   "metadata": {},
   "outputs": [
    {
     "data": {
      "text/plain": [
       "{31117}"
      ]
     },
     "execution_count": 56,
     "metadata": {},
     "output_type": "execute_result"
    }
   ],
   "source": [
    "# Which county is missing in 20120101?\n",
    "set(lb_grouped.County) - set(lb_grouped[lb_grouped['StartDate']==20120101]['County'])"
   ]
  },
  {
   "cell_type": "code",
   "execution_count": 58,
   "metadata": {},
   "outputs": [],
   "source": [
    "import pandas as pd\n",
    "\n",
    "def check_and_insert_row(df, new_row, key_columns):\n",
    "    \"\"\"\n",
    "    Check if a new row is a duplicate based on key columns and insert it if not.\n",
    "\n",
    "    Parameters:\n",
    "    df (pd.DataFrame): The DataFrame to check against.\n",
    "    new_row (dict): The new row to insert, in the form of a dictionary.\n",
    "    key_columns (list): The list of columns to check for duplicates.\n",
    "\n",
    "    Returns:\n",
    "    tuple: (is_duplicate, df)\n",
    "        is_duplicate (bool): True if the new row is a duplicate, False otherwise.\n",
    "        df (pd.DataFrame): The updated DataFrame with the new row inserted if not a duplicate.\n",
    "    \"\"\"\n",
    "    # Check if the new_row values for key columns match any existing rows\n",
    "    is_duplicate = (df[key_columns] == pd.Series(new_row, index=key_columns)).all(axis=1).any()\n",
    "\n",
    "    if is_duplicate:\n",
    "        print(\"The new row is a duplicate based on the key columns.\")\n",
    "    else:\n",
    "        print(\"The new row is not a duplicate and has been added to the DataFrame.\")\n",
    "        # Add the new row to the DataFrame\n",
    "        df = df.append(new_row, ignore_index=True)\n",
    "    \n",
    "    return is_duplicate, df\n",
    "\n",
    "# Example usage:\n",
    "# df is your existing DataFrame\n",
    "# new_row is a dictionary with your new row data\n",
    "# key_columns are the columns you want to check for duplicates\n",
    "# is_duplicate, updated_df = check_and_insert_row(df, new_row, key_columns)\n"
   ]
  },
  {
   "cell_type": "code",
   "execution_count": 59,
   "metadata": {},
   "outputs": [
    {
     "name": "stdout",
     "output_type": "stream",
     "text": [
      "The new row is not a duplicate and has been added to the DataFrame.\n"
     ]
    }
   ],
   "source": [
    "# Adding a new row for 2012\n",
    "new_row = {'County': 31117 , 'StartDate': 20120101, 'MaternalAgeGroup':9, 'MaternalEthnicity': \"U\",\n",
    "       'MaternalRace': \"U\", 'InfantSex': \"U\", 'TLB': 0}\n",
    "key_columns = ['County', 'StartDate', 'MaternalAgeGroup', 'MaternalEthnicity',\n",
    "       'MaternalRace', 'InfantSex']\n",
    "_, lb_grouped = check_and_insert_row(lb_grouped, new_row, key_columns)\n"
   ]
  },
  {
   "cell_type": "code",
   "execution_count": 60,
   "metadata": {},
   "outputs": [
    {
     "data": {
      "text/plain": [
       "StartDate\n",
       "20050101    93\n",
       "20060101    93\n",
       "20070101    93\n",
       "20080101    93\n",
       "20090101    93\n",
       "20100101    93\n",
       "20110101    93\n",
       "20120101    93\n",
       "20130101    93\n",
       "20140101    93\n",
       "20150101    93\n",
       "20160101    93\n",
       "20170101    93\n",
       "20180101    93\n",
       "20190101    93\n",
       "20200101    93\n",
       "20210101    93\n",
       "Name: County, dtype: int64"
      ]
     },
     "execution_count": 60,
     "metadata": {},
     "output_type": "execute_result"
    }
   ],
   "source": [
    "# Checking again\n",
    "lb_grouped.groupby('StartDate')['County'].nunique()"
   ]
  },
  {
   "cell_type": "code",
   "execution_count": 61,
   "metadata": {},
   "outputs": [],
   "source": [
    "# The key columns to join the live birth and birth defects tables\n",
    "key_cols = ['County', 'StartDate', 'MaternalAgeGroup', 'MaternalEthnicity', 'MaternalRace', 'InfantSex']"
   ]
  },
  {
   "cell_type": "code",
   "execution_count": 63,
   "metadata": {},
   "outputs": [],
   "source": [
    "# Comparing the unique values of key columns in each df befor joining them\n",
    "def comp_col_types(lb_grouped, bd_grouped, key_cols):\n",
    "    lb_cols = lb_grouped[key_cols].dtypes.to_list()\n",
    "    bd_cols = bd_grouped[key_cols].dtypes.to_list()\n",
    "\n",
    "    if lb_cols == bd_cols:\n",
    "        print(\"Columns match. We're good to go!\")\n",
    "    else:\n",
    "        print(\"There are some mismatches between key columns\")\n",
    "        print(key_cols)\n",
    "        print(f\"Birth Defects: {bd_cols}\")\n",
    "        print(f\"Live Births: {lb_cols}\")\n"
   ]
  },
  {
   "cell_type": "code",
   "execution_count": 64,
   "metadata": {},
   "outputs": [
    {
     "name": "stdout",
     "output_type": "stream",
     "text": [
      "Columns match. We're good to go!\n"
     ]
    }
   ],
   "source": [
    "comp_col_types(lb_grouped, bd_grouped, key_cols)"
   ]
  },
  {
   "cell_type": "code",
   "execution_count": 65,
   "metadata": {},
   "outputs": [
    {
     "name": "stdout",
     "output_type": "stream",
     "text": [
      "Values in County unique to Birth Defects: set()\n",
      "Values in County unique to Live Births: {31009, 31171, 31117, 31091, 31165, 31007}\n",
      "\n",
      "Values in StartDate unique to Birth Defects: set()\n",
      "Values in StartDate unique to Live Births: set()\n",
      "\n",
      "Values in MaternalAgeGroup unique to Birth Defects: set()\n",
      "Values in MaternalAgeGroup unique to Live Births: set()\n",
      "\n",
      "Values in MaternalEthnicity unique to Birth Defects: set()\n",
      "Values in MaternalEthnicity unique to Live Births: set()\n",
      "\n",
      "Values in MaternalRace unique to Birth Defects: set()\n",
      "Values in MaternalRace unique to Live Births: set()\n",
      "\n",
      "Values in InfantSex unique to Birth Defects: set()\n",
      "Values in InfantSex unique to Live Births: {'U'}\n",
      "\n"
     ]
    }
   ],
   "source": [
    "# Checking for the differences in the unique values for corresponding columns\n",
    "for col in key_cols:\n",
    "    values_bd = set(bd_grouped[col])\n",
    "    values_lb = set(lb_grouped[col])\n",
    "    \n",
    "    unique_to_bd = values_bd - values_lb\n",
    "    unique_to_lb = values_lb - values_bd\n",
    "    \n",
    "    print(f\"Values in {col} unique to Birth Defects: {unique_to_bd}\")\n",
    "    print(f\"Values in {col} unique to Live Births: {unique_to_lb}\\n\")\n",
    "\n"
   ]
  },
  {
   "cell_type": "markdown",
   "metadata": {},
   "source": [
    "### Outer join between Birth Defects and Live Births\n",
    "We will have all counties present in each year. But LBWBD and LBFDTWD values for many cases will be 0 because there is no Birth Defect in such cases. It will require an outer join method. Also, each birth defct when added for TLBs must add up into total live births. Therefore, we separate BD data for each BirthDefect, do outer join and in the end concatenate all the resulted 12 tables into one final table\n",
    "\n",
    "***Note:*** to make sure that the denominator for each Birth Defect is the total live birth, data for each birth defect is separated and is outer joined with the live birth data, and in the end all the separate 12 joined tables are concatenated into the final dataframe. "
   ]
  },
  {
   "cell_type": "code",
   "execution_count": 67,
   "metadata": {},
   "outputs": [],
   "source": [
    "# Merging the two datasets\n",
    "all_bds = []  # Create an empty list to store the dataframes\n",
    "\n",
    "# Loop over unique values of 'BirthDefects' column in bd_grouped\n",
    "for defect in bd_grouped['BirthDefect'].unique():\n",
    "    # Separate rows with the current 'BirthDefects' value\n",
    "    current_defect_df = bd_grouped[bd_grouped['BirthDefect'] == defect]\n",
    "    \n",
    "    # Perform the outer join with lb_grouped on key columns\n",
    "    merged_df = lb_grouped.merge(current_defect_df, on=key_cols, how='outer')\n",
    "    \n",
    "    # For unassigned 'BirthDefects', change them to the current 'BirthDefect' value\n",
    "    merged_df['BirthDefect'].fillna(defect, inplace=True)\n",
    "    \n",
    "    # Add the new dataframe to the 'all_bds' list\n",
    "    all_bds.append(merged_df)\n",
    "\n",
    "# Continue the loop for the next 'BirthDefect'\n"
   ]
  },
  {
   "cell_type": "code",
   "execution_count": 68,
   "metadata": {},
   "outputs": [],
   "source": [
    "final_bd = pd.concat(all_bds, ignore_index=True)"
   ]
  },
  {
   "cell_type": "markdown",
   "metadata": {},
   "source": [
    "* Next step will be to take care of Nan values for non-matched rows"
   ]
  },
  {
   "cell_type": "code",
   "execution_count": 72,
   "metadata": {},
   "outputs": [],
   "source": [
    "final_bd.drop(columns='Unnamed: 0', inplace=True)"
   ]
  },
  {
   "cell_type": "code",
   "execution_count": 73,
   "metadata": {},
   "outputs": [
    {
     "data": {
      "text/plain": [
       "County                    0\n",
       "StartDate                 0\n",
       "MaternalAgeGroup          0\n",
       "MaternalEthnicity         0\n",
       "MaternalRace              0\n",
       "InfantSex                 0\n",
       "TLB                     260\n",
       "BirthDefect               0\n",
       "EndDate              368528\n",
       "LBWBD                368528\n",
       "LBFDTWD              368528\n",
       "dtype: int64"
      ]
     },
     "execution_count": 73,
     "metadata": {},
     "output_type": "execute_result"
    }
   ],
   "source": [
    "final_bd.isna().sum()"
   ]
  },
  {
   "cell_type": "markdown",
   "metadata": {},
   "source": [
    "1) TLB: TLB is for those cases that we have maternal age 9. This is exactly the same number as we had in the first approach. Therefore we set them to -999\n",
    "2) BirthDefect: For cases that we only want to provide live births. We add 21\n",
    "3) EndDate = (StartDate // 1e4)* 1e4 + 1231\n",
    "4) LBWBD will be 0 for all missing values\n",
    "5) LBFDTWD same as LBWBD"
   ]
  },
  {
   "cell_type": "code",
   "execution_count": 135,
   "metadata": {},
   "outputs": [],
   "source": [
    "final_bd['TLB'].fillna(-999, inplace=True)\n",
    "final_bd['EndDate'] = (final_bd['StartDate'] // 1e4) * 1e4 + 1231\n",
    "final_bd['LBWBD'].fillna(0, inplace=True)\n",
    "final_bd['LBFDTWD'].fillna(0, inplace=True)"
   ]
  },
  {
   "cell_type": "code",
   "execution_count": 136,
   "metadata": {},
   "outputs": [],
   "source": [
    "data_toSave = final_bd"
   ]
  },
  {
   "cell_type": "markdown",
   "metadata": {},
   "source": [
    "### Final step: Prepare Data to Save\n",
    "This is the final step to save data into format and numbers that can be submitted to the Tracking system"
   ]
  },
  {
   "cell_type": "code",
   "execution_count": 137,
   "metadata": {},
   "outputs": [],
   "source": [
    "# Order the columns in the same order as Data Dictionary\n",
    "ordered_columns = ['County', 'StartDate', 'EndDate', 'BirthDefect', 'MaternalAgeGroup',\n",
    "                   'MaternalEthnicity', 'MaternalRace', 'InfantSex', 'TLB', 'LBWBD', 'LBFDTWD']\n",
    "\n",
    "data_toSave = data_toSave[ordered_columns]"
   ]
  },
  {
   "cell_type": "code",
   "execution_count": 138,
   "metadata": {},
   "outputs": [
    {
     "data": {
      "text/plain": [
       "County                 int64\n",
       "StartDate              int64\n",
       "EndDate              float64\n",
       "BirthDefect            int64\n",
       "MaternalAgeGroup       int64\n",
       "MaternalEthnicity     object\n",
       "MaternalRace          object\n",
       "InfantSex             object\n",
       "TLB                  float64\n",
       "LBWBD                float64\n",
       "LBFDTWD              float64\n",
       "dtype: object"
      ]
     },
     "execution_count": 138,
     "metadata": {},
     "output_type": "execute_result"
    }
   ],
   "source": [
    "# Checking the data types\n",
    "data_toSave.dtypes"
   ]
  },
  {
   "cell_type": "code",
   "execution_count": 139,
   "metadata": {},
   "outputs": [],
   "source": [
    "cols_to_int = ['EndDate', 'BirthDefect', 'TLB', 'LBWBD', 'LBFDTWD']\n",
    "data_toSave[cols_to_int] = data_toSave[cols_to_int].astype('int')\n",
    "\n",
    "data_toSave.InfantSex.replace({'N': 'U'}, inplace=True)"
   ]
  },
  {
   "cell_type": "code",
   "execution_count": 140,
   "metadata": {},
   "outputs": [
    {
     "name": "stdout",
     "output_type": "stream",
     "text": [
      "Column: County\n",
      "[31001 31003 31005 31007 31009 31011 31013 31015 31017 31019 31021 31023\n",
      " 31025 31027 31029 31031 31033 31035 31037 31039 31041 31043 31045 31047\n",
      " 31049 31051 31053 31055 31057 31059 31061 31063 31065 31067 31069 31071\n",
      " 31073 31075 31077 31079 31081 31083 31085 31087 31089 31091 31093 31095\n",
      " 31097 31099 31101 31103 31105 31107 31109 31111 31113 31115 31117 31119\n",
      " 31121 31123 31125 31127 31129 31131 31133 31135 31137 31139 31141 31143\n",
      " 31145 31147 31149 31151 31153 31155 31157 31159 31161 31163 31165 31167\n",
      " 31169 31171 31173 31175 31177 31179 31181 31183 31185]\n",
      "\n",
      "\n",
      "Column: StartDate\n",
      "[20050101 20060101 20070101 20080101 20090101 20100101 20110101 20120101\n",
      " 20130101 20140101 20150101 20160101 20170101 20180101 20190101 20200101\n",
      " 20210101]\n",
      "\n",
      "\n",
      "Column: EndDate\n",
      "[20051231 20061231 20071231 20081231 20091231 20101231 20111231 20121231\n",
      " 20131231 20141231 20151231 20161231 20171231 20181231 20191231 20201231\n",
      " 20211231]\n",
      "\n",
      "\n",
      "Column: BirthDefect\n",
      "[21 22 23 24 25 26 27 28 29 30 31 32]\n",
      "\n",
      "\n",
      "Column: MaternalAgeGroup\n",
      "[1 2 3 4 5 6 9]\n",
      "\n",
      "\n",
      "Column: MaternalEthnicity\n",
      "['H' 'NH' 'U']\n",
      "\n",
      "\n",
      "Column: MaternalRace\n",
      "['O' 'W' 'B' 'U']\n",
      "\n",
      "\n",
      "Column: InfantSex\n",
      "['F' 'M' 'U']\n",
      "\n",
      "\n"
     ]
    }
   ],
   "source": [
    "# final check\n",
    "for i in range(8):\n",
    "    col = data_toSave.columns[i]\n",
    "    print(f'Column: {col}')\n",
    "    print(data_toSave[col].unique())\n",
    "    print('\\n')"
   ]
  },
  {
   "cell_type": "code",
   "execution_count": 96,
   "metadata": {},
   "outputs": [],
   "source": [
    "# Now saving each year into a separate file:\n",
    "#output_folder = 'Data/BIRTHDEFECTS080823/To_Submit/'\n",
    "output_folder = 'Data/BIRTHDEFECTS080823/final_submit/'\n",
    "\n",
    "for st_date in data_toSave.StartDate.unique():\n",
    "    to_save = data_toSave[data_toSave['StartDate'] == st_date]\n",
    "    to_save.index = range(1, len(to_save) + 1)\n",
    "    year = (st_date//1e4).astype('int').astype('str')\n",
    "    filename = output_folder+'BirthDefects_AllCounties_'+year+ '.csv'\n",
    "\n",
    "    to_save.to_csv(filename, index = True,index_label='RowIdentifier')"
   ]
  },
  {
   "cell_type": "markdown",
   "metadata": {},
   "source": [
    "## A. Some Checks\n",
    "Some checks to make sure the data makes sense\n",
    " "
   ]
  },
  {
   "cell_type": "markdown",
   "metadata": {},
   "source": [
    "* Checking if the sum of TLBs for each BirthDefect adds up to total live births in each year"
   ]
  },
  {
   "cell_type": "code",
   "execution_count": 141,
   "metadata": {},
   "outputs": [
    {
     "data": {
      "text/html": [
       "<div>\n",
       "<style scoped>\n",
       "    .dataframe tbody tr th:only-of-type {\n",
       "        vertical-align: middle;\n",
       "    }\n",
       "\n",
       "    .dataframe tbody tr th {\n",
       "        vertical-align: top;\n",
       "    }\n",
       "\n",
       "    .dataframe thead th {\n",
       "        text-align: right;\n",
       "    }\n",
       "</style>\n",
       "<table border=\"1\" class=\"dataframe\">\n",
       "  <thead>\n",
       "    <tr style=\"text-align: right;\">\n",
       "      <th>BirthDefect</th>\n",
       "      <th>21</th>\n",
       "      <th>22</th>\n",
       "      <th>23</th>\n",
       "      <th>24</th>\n",
       "      <th>25</th>\n",
       "      <th>26</th>\n",
       "      <th>27</th>\n",
       "      <th>28</th>\n",
       "      <th>29</th>\n",
       "      <th>30</th>\n",
       "      <th>31</th>\n",
       "      <th>32</th>\n",
       "    </tr>\n",
       "    <tr>\n",
       "      <th>StartDate</th>\n",
       "      <th></th>\n",
       "      <th></th>\n",
       "      <th></th>\n",
       "      <th></th>\n",
       "      <th></th>\n",
       "      <th></th>\n",
       "      <th></th>\n",
       "      <th></th>\n",
       "      <th></th>\n",
       "      <th></th>\n",
       "      <th></th>\n",
       "      <th></th>\n",
       "    </tr>\n",
       "  </thead>\n",
       "  <tbody>\n",
       "    <tr>\n",
       "      <th>20050101</th>\n",
       "      <td>25103</td>\n",
       "      <td>25103</td>\n",
       "      <td>25103</td>\n",
       "      <td>25103</td>\n",
       "      <td>25103</td>\n",
       "      <td>25103</td>\n",
       "      <td>25103</td>\n",
       "      <td>25103</td>\n",
       "      <td>25103</td>\n",
       "      <td>25103</td>\n",
       "      <td>25103</td>\n",
       "      <td>25103</td>\n",
       "    </tr>\n",
       "    <tr>\n",
       "      <th>20060101</th>\n",
       "      <td>25661</td>\n",
       "      <td>25661</td>\n",
       "      <td>25661</td>\n",
       "      <td>25661</td>\n",
       "      <td>25661</td>\n",
       "      <td>25661</td>\n",
       "      <td>25661</td>\n",
       "      <td>25661</td>\n",
       "      <td>25661</td>\n",
       "      <td>25661</td>\n",
       "      <td>25661</td>\n",
       "      <td>25661</td>\n",
       "    </tr>\n",
       "    <tr>\n",
       "      <th>20070101</th>\n",
       "      <td>25822</td>\n",
       "      <td>25822</td>\n",
       "      <td>25822</td>\n",
       "      <td>25822</td>\n",
       "      <td>25822</td>\n",
       "      <td>25822</td>\n",
       "      <td>25822</td>\n",
       "      <td>25822</td>\n",
       "      <td>25822</td>\n",
       "      <td>25822</td>\n",
       "      <td>25822</td>\n",
       "      <td>25822</td>\n",
       "    </tr>\n",
       "    <tr>\n",
       "      <th>20080101</th>\n",
       "      <td>25885</td>\n",
       "      <td>25885</td>\n",
       "      <td>25885</td>\n",
       "      <td>25885</td>\n",
       "      <td>25885</td>\n",
       "      <td>25885</td>\n",
       "      <td>25885</td>\n",
       "      <td>25885</td>\n",
       "      <td>25885</td>\n",
       "      <td>25885</td>\n",
       "      <td>25885</td>\n",
       "      <td>25885</td>\n",
       "    </tr>\n",
       "    <tr>\n",
       "      <th>20090101</th>\n",
       "      <td>25899</td>\n",
       "      <td>25899</td>\n",
       "      <td>25899</td>\n",
       "      <td>25899</td>\n",
       "      <td>25899</td>\n",
       "      <td>25899</td>\n",
       "      <td>25899</td>\n",
       "      <td>25899</td>\n",
       "      <td>25899</td>\n",
       "      <td>25899</td>\n",
       "      <td>25899</td>\n",
       "      <td>25899</td>\n",
       "    </tr>\n",
       "    <tr>\n",
       "      <th>20100101</th>\n",
       "      <td>24937</td>\n",
       "      <td>24937</td>\n",
       "      <td>24937</td>\n",
       "      <td>24937</td>\n",
       "      <td>24937</td>\n",
       "      <td>24937</td>\n",
       "      <td>24937</td>\n",
       "      <td>24937</td>\n",
       "      <td>24937</td>\n",
       "      <td>24937</td>\n",
       "      <td>24937</td>\n",
       "      <td>24937</td>\n",
       "    </tr>\n",
       "    <tr>\n",
       "      <th>20110101</th>\n",
       "      <td>24834</td>\n",
       "      <td>24834</td>\n",
       "      <td>24834</td>\n",
       "      <td>24834</td>\n",
       "      <td>24834</td>\n",
       "      <td>24834</td>\n",
       "      <td>24834</td>\n",
       "      <td>24834</td>\n",
       "      <td>24834</td>\n",
       "      <td>24834</td>\n",
       "      <td>24834</td>\n",
       "      <td>24834</td>\n",
       "    </tr>\n",
       "    <tr>\n",
       "      <th>20120101</th>\n",
       "      <td>25010</td>\n",
       "      <td>25010</td>\n",
       "      <td>25010</td>\n",
       "      <td>25010</td>\n",
       "      <td>25010</td>\n",
       "      <td>25010</td>\n",
       "      <td>25010</td>\n",
       "      <td>25010</td>\n",
       "      <td>25010</td>\n",
       "      <td>25010</td>\n",
       "      <td>25010</td>\n",
       "      <td>25010</td>\n",
       "    </tr>\n",
       "    <tr>\n",
       "      <th>20130101</th>\n",
       "      <td>25159</td>\n",
       "      <td>25159</td>\n",
       "      <td>25159</td>\n",
       "      <td>25159</td>\n",
       "      <td>25159</td>\n",
       "      <td>25159</td>\n",
       "      <td>25159</td>\n",
       "      <td>25159</td>\n",
       "      <td>25159</td>\n",
       "      <td>25159</td>\n",
       "      <td>25159</td>\n",
       "      <td>25159</td>\n",
       "    </tr>\n",
       "    <tr>\n",
       "      <th>20140101</th>\n",
       "      <td>25819</td>\n",
       "      <td>25819</td>\n",
       "      <td>25819</td>\n",
       "      <td>25819</td>\n",
       "      <td>25819</td>\n",
       "      <td>25819</td>\n",
       "      <td>25819</td>\n",
       "      <td>25819</td>\n",
       "      <td>25819</td>\n",
       "      <td>25819</td>\n",
       "      <td>25819</td>\n",
       "      <td>25819</td>\n",
       "    </tr>\n",
       "    <tr>\n",
       "      <th>20150101</th>\n",
       "      <td>25728</td>\n",
       "      <td>25728</td>\n",
       "      <td>25728</td>\n",
       "      <td>25728</td>\n",
       "      <td>25728</td>\n",
       "      <td>25728</td>\n",
       "      <td>25728</td>\n",
       "      <td>25728</td>\n",
       "      <td>25728</td>\n",
       "      <td>25728</td>\n",
       "      <td>25728</td>\n",
       "      <td>25728</td>\n",
       "    </tr>\n",
       "    <tr>\n",
       "      <th>20160101</th>\n",
       "      <td>25656</td>\n",
       "      <td>25656</td>\n",
       "      <td>25656</td>\n",
       "      <td>25656</td>\n",
       "      <td>25656</td>\n",
       "      <td>25656</td>\n",
       "      <td>25656</td>\n",
       "      <td>25656</td>\n",
       "      <td>25656</td>\n",
       "      <td>25656</td>\n",
       "      <td>25656</td>\n",
       "      <td>25656</td>\n",
       "    </tr>\n",
       "    <tr>\n",
       "      <th>20170101</th>\n",
       "      <td>24885</td>\n",
       "      <td>24885</td>\n",
       "      <td>24885</td>\n",
       "      <td>24885</td>\n",
       "      <td>24885</td>\n",
       "      <td>24885</td>\n",
       "      <td>24885</td>\n",
       "      <td>24885</td>\n",
       "      <td>24885</td>\n",
       "      <td>24885</td>\n",
       "      <td>24885</td>\n",
       "      <td>24885</td>\n",
       "    </tr>\n",
       "    <tr>\n",
       "      <th>20180101</th>\n",
       "      <td>24538</td>\n",
       "      <td>24538</td>\n",
       "      <td>24538</td>\n",
       "      <td>24538</td>\n",
       "      <td>24538</td>\n",
       "      <td>24538</td>\n",
       "      <td>24538</td>\n",
       "      <td>24538</td>\n",
       "      <td>24538</td>\n",
       "      <td>24538</td>\n",
       "      <td>24538</td>\n",
       "      <td>24538</td>\n",
       "    </tr>\n",
       "    <tr>\n",
       "      <th>20190101</th>\n",
       "      <td>23860</td>\n",
       "      <td>23860</td>\n",
       "      <td>23860</td>\n",
       "      <td>23860</td>\n",
       "      <td>23860</td>\n",
       "      <td>23860</td>\n",
       "      <td>23860</td>\n",
       "      <td>23860</td>\n",
       "      <td>23860</td>\n",
       "      <td>23860</td>\n",
       "      <td>23860</td>\n",
       "      <td>23860</td>\n",
       "    </tr>\n",
       "    <tr>\n",
       "      <th>20200101</th>\n",
       "      <td>23419</td>\n",
       "      <td>23419</td>\n",
       "      <td>23419</td>\n",
       "      <td>23419</td>\n",
       "      <td>23419</td>\n",
       "      <td>23419</td>\n",
       "      <td>23419</td>\n",
       "      <td>23419</td>\n",
       "      <td>23419</td>\n",
       "      <td>23419</td>\n",
       "      <td>23419</td>\n",
       "      <td>23419</td>\n",
       "    </tr>\n",
       "    <tr>\n",
       "      <th>20210101</th>\n",
       "      <td>23646</td>\n",
       "      <td>23646</td>\n",
       "      <td>23646</td>\n",
       "      <td>23646</td>\n",
       "      <td>23646</td>\n",
       "      <td>23646</td>\n",
       "      <td>23646</td>\n",
       "      <td>23646</td>\n",
       "      <td>23646</td>\n",
       "      <td>23646</td>\n",
       "      <td>23646</td>\n",
       "      <td>23646</td>\n",
       "    </tr>\n",
       "  </tbody>\n",
       "</table>\n",
       "</div>"
      ],
      "text/plain": [
       "BirthDefect     21     22     23     24     25     26     27     28     29  \\\n",
       "StartDate                                                                    \n",
       "20050101     25103  25103  25103  25103  25103  25103  25103  25103  25103   \n",
       "20060101     25661  25661  25661  25661  25661  25661  25661  25661  25661   \n",
       "20070101     25822  25822  25822  25822  25822  25822  25822  25822  25822   \n",
       "20080101     25885  25885  25885  25885  25885  25885  25885  25885  25885   \n",
       "20090101     25899  25899  25899  25899  25899  25899  25899  25899  25899   \n",
       "20100101     24937  24937  24937  24937  24937  24937  24937  24937  24937   \n",
       "20110101     24834  24834  24834  24834  24834  24834  24834  24834  24834   \n",
       "20120101     25010  25010  25010  25010  25010  25010  25010  25010  25010   \n",
       "20130101     25159  25159  25159  25159  25159  25159  25159  25159  25159   \n",
       "20140101     25819  25819  25819  25819  25819  25819  25819  25819  25819   \n",
       "20150101     25728  25728  25728  25728  25728  25728  25728  25728  25728   \n",
       "20160101     25656  25656  25656  25656  25656  25656  25656  25656  25656   \n",
       "20170101     24885  24885  24885  24885  24885  24885  24885  24885  24885   \n",
       "20180101     24538  24538  24538  24538  24538  24538  24538  24538  24538   \n",
       "20190101     23860  23860  23860  23860  23860  23860  23860  23860  23860   \n",
       "20200101     23419  23419  23419  23419  23419  23419  23419  23419  23419   \n",
       "20210101     23646  23646  23646  23646  23646  23646  23646  23646  23646   \n",
       "\n",
       "BirthDefect     30     31     32  \n",
       "StartDate                         \n",
       "20050101     25103  25103  25103  \n",
       "20060101     25661  25661  25661  \n",
       "20070101     25822  25822  25822  \n",
       "20080101     25885  25885  25885  \n",
       "20090101     25899  25899  25899  \n",
       "20100101     24937  24937  24937  \n",
       "20110101     24834  24834  24834  \n",
       "20120101     25010  25010  25010  \n",
       "20130101     25159  25159  25159  \n",
       "20140101     25819  25819  25819  \n",
       "20150101     25728  25728  25728  \n",
       "20160101     25656  25656  25656  \n",
       "20170101     24885  24885  24885  \n",
       "20180101     24538  24538  24538  \n",
       "20190101     23860  23860  23860  \n",
       "20200101     23419  23419  23419  \n",
       "20210101     23646  23646  23646  "
      ]
     },
     "execution_count": 141,
     "metadata": {},
     "output_type": "execute_result"
    }
   ],
   "source": [
    "def sum_ignore_values(series, ignore=-999):\n",
    "    return series.replace(ignore, np.nan).sum()\n",
    "\n",
    "data_toSave.pivot_table(index='StartDate', columns='BirthDefect', values='TLB', aggfunc=lambda x: sum_ignore_values(x))"
   ]
  },
  {
   "cell_type": "markdown",
   "metadata": {},
   "source": [
    "* Plotting the Sum, max, mean, min for each Birth Defect in each year"
   ]
  },
  {
   "cell_type": "code",
   "execution_count": 142,
   "metadata": {},
   "outputs": [],
   "source": [
    "import seaborn as sns\n",
    "import matplotlib.pyplot as plt\n",
    "\n",
    "def plot_summaries(df, groups, coexist, x_column, nrow):\n",
    "    # Get unique values from the groups column\n",
    "    unique_groups = df[groups].unique()\n",
    "    \n",
    "    # Calculate number of columns for the grid\n",
    "    ncol = len(unique_groups) // nrow\n",
    "    if len(unique_groups) % nrow != 0:\n",
    "        ncol += 1\n",
    "    \n",
    "    # Initialize a figure\n",
    "    fig, axes = plt.subplots(nrow, ncol, figsize=(15, 10))\n",
    "    \n",
    "    # If there's only one row or one column, axes is a 1D array\n",
    "    if nrow == 1 or ncol == 1:\n",
    "        axes = axes.reshape(nrow, ncol)\n",
    "    \n",
    "    # Iterate over each unique group and plot\n",
    "    for idx, group in enumerate(unique_groups):\n",
    "        ax = axes[idx // ncol, idx % ncol]\n",
    "        \n",
    "        # Filter dataframe for the current group\n",
    "        subset = df[df[groups] == group]\n",
    "        \n",
    "        # Plot each column in coexist\n",
    "        for col in coexist:\n",
    "            sns.lineplot(data=subset, x=x_column, y=col, ax=ax, label=col)\n",
    "        \n",
    "        ax.set_title(f\"{groups}: {group}\")\n",
    "        ax.legend()\n",
    "    \n",
    "    # If there are empty subplots, hide them\n",
    "    for idx in range(len(unique_groups), nrow * ncol):\n",
    "        axes[idx // ncol, idx % ncol].axis('off')\n",
    "    \n",
    "    plt.tight_layout()\n",
    "    plt.show()\n"
   ]
  },
  {
   "cell_type": "code",
   "execution_count": 104,
   "metadata": {},
   "outputs": [
    {
     "data": {
      "image/png": "[encoded data removed]",
      "text/plain": [
       "<Figure size 1500x1000 with 12 Axes>"
      ]
     },
     "metadata": {},
     "output_type": "display_data"
    }
   ],
   "source": [
    "ds_summary = data_toSave.groupby(['BirthDefect', 'StartDate'])['LBFDTWD'].agg(SUM = 'sum', MIN='min', MEAN='mean', MAX='max').reset_index()\n",
    "ds_summary['BirthDefect'] = ds_summary['BirthDefect'].astype('int')\n",
    "ds_summary.StartDate = ds_summary.StartDate.astype('str').str[2:4]\n",
    "\n",
    "plot_summaries(df=ds_summary, groups='BirthDefect', coexist=['SUM', 'MIN', 'MEAN', 'MAX'], x_column='StartDate', nrow=3)"
   ]
  }
 ],
 "metadata": {
  "kernelspec": {
   "display_name": "CDC_Tracking",
   "language": "python",
   "name": "python3"
  },
  "language_info": {
   "codemirror_mode": {
    "name": "ipython",
    "version": 3
   },
   "file_extension": ".py",
   "mimetype": "text/x-python",
   "name": "python",
   "nbconvert_exporter": "python",
   "pygments_lexer": "ipython3",
   "version": "3.8.10"
  },
  "orig_nbformat": 4
 },
 "nbformat": 4,
 "nbformat_minor": 2
}
