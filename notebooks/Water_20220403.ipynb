{
 "cells": [
  {
   "attachments": {},
   "cell_type": "markdown",
   "metadata": {},
   "source": [
    "# Testing the Water Data for submission into 2023 Spring Water submission\n",
    "This is the second notebook in creating a dependable model for validating the related water data, and do the tests on Nebraska Water system. "
   ]
  },
  {
   "cell_type": "code",
   "execution_count": 1,
   "metadata": {},
   "outputs": [],
   "source": [
    "# Import the libraries for water data validation\n",
    "import pandas as pd\n",
    "from libraries import general, Validators_2023_Water as vw"
   ]
  },
  {
   "attachments": {},
   "cell_type": "markdown",
   "metadata": {},
   "source": [
    "## Inventory Data\n",
    "Checking the dataset and creating validation report"
   ]
  },
  {
   "cell_type": "code",
   "execution_count": 2,
   "metadata": {},
   "outputs": [],
   "source": [
    "inventory = pd.read_excel('/Users/babak.jfard/projects/ETHTracking/Data/Water_Data/PWSInventory.xlsx')\n",
    "#inventory = pd.read_excel('/Users/babak.jfard/projects/ETHTracking/Data/Water_Data/PWSInventory_latest.xlsx')"
   ]
  },
  {
   "cell_type": "code",
   "execution_count": 3,
   "metadata": {},
   "outputs": [
    {
     "data": {
      "text/plain": [
       "['StateFIPSCode',\n",
       " 'PWSIDNumber',\n",
       " 'YearAssociatedTo',\n",
       " 'YearPulled',\n",
       " 'PWSName',\n",
       " 'PrincipalCountyServedName',\n",
       " 'PrincipalCountyServed FIPS',\n",
       " 'PrincipalCityName',\n",
       " '\\ufeffPrincipalCityFeatureId',\n",
       " 'TotalConnections',\n",
       " 'SystemPopulation',\n",
       " 'PrimarySourceCode',\n",
       " 'FirstOfHoriz_Ref_Datum',\n",
       " 'MinOfLatitude',\n",
       " 'MinOfLongitude',\n",
       " 'LocationDerivationCode',\n",
       " 'LocationFlag']"
      ]
     },
     "execution_count": 3,
     "metadata": {},
     "output_type": "execute_result"
    }
   ],
   "source": [
    "inventory.columns.tolist()"
   ]
  },
  {
   "cell_type": "code",
   "execution_count": 4,
   "metadata": {},
   "outputs": [],
   "source": [
    "inventory.columns = inventory.columns.str.replace('\\ufeff', '')\n",
    "\n",
    "#Change the names of several columns to match the names in the validator\n",
    "inventory.rename(columns={'PrincipalCountyServed FIPS': 'PrincipalCountyServedFIPS', '\\ufeffPrincipalCityFeatureId': 'PrincipalCityFeatureID'}, inplace=True)"
   ]
  },
  {
   "cell_type": "code",
   "execution_count": 5,
   "metadata": {},
   "outputs": [],
   "source": [
    "# Adding a unique identifier for each row\n",
    "inventory['RowIdentifier'] = inventory.index"
   ]
  },
  {
   "cell_type": "code",
   "execution_count": 6,
   "metadata": {},
   "outputs": [],
   "source": [
    "counties = general.get_Counties_FIPS(state='NE')\n",
    "# counties = counties['fips'].to_list()"
   ]
  },
  {
   "attachments": {},
   "cell_type": "markdown",
   "metadata": {},
   "source": [
    "### Validating\n",
    "We will use PWS_Inventory class from vw to validate the data in inventory. Each row will be turned into a PWS_Inventory class"
   ]
  },
  {
   "cell_type": "code",
   "execution_count": 7,
   "metadata": {},
   "outputs": [
    {
     "ename": "ValueError",
     "evalue": "\"PWS_Inventory\" object has no field \"counties\"",
     "output_type": "error",
     "traceback": [
      "\u001b[0;31m---------------------------------------------------------------------------\u001b[0m",
      "\u001b[0;31mValueError\u001b[0m                                Traceback (most recent call last)",
      "Cell \u001b[0;32mIn[7], line 11\u001b[0m\n\u001b[1;32m      8\u001b[0m \u001b[39mfor\u001b[39;00m index, row \u001b[39min\u001b[39;00m inventory\u001b[39m.\u001b[39miterrows():\n\u001b[1;32m     10\u001b[0m     \u001b[39mtry\u001b[39;00m:\n\u001b[0;32m---> 11\u001b[0m         vw\u001b[39m.\u001b[39;49mPWS_Inventory(counties, \u001b[39m*\u001b[39;49m\u001b[39m*\u001b[39;49mrow)\n\u001b[1;32m     12\u001b[0m         \u001b[39m# If passeed, add RowIdentifier into valid_rows list\u001b[39;00m\n\u001b[1;32m     13\u001b[0m         valid_rows\u001b[39m.\u001b[39mappend(row[\u001b[39m'\u001b[39m\u001b[39mRowIdentifier\u001b[39m\u001b[39m'\u001b[39m])\n",
      "File \u001b[0;32m~/projects/ETHTracking/notebooks/libraries/Validators_2023_Water.py:60\u001b[0m, in \u001b[0;36mPWS_Inventory.__init__\u001b[0;34m(self, counties, **data)\u001b[0m\n\u001b[1;32m     59\u001b[0m \u001b[39mdef\u001b[39;00m \u001b[39m__init__\u001b[39m(\u001b[39mself\u001b[39m, counties: pd\u001b[39m.\u001b[39mDataFrame, \u001b[39m*\u001b[39m\u001b[39m*\u001b[39mdata):\n\u001b[0;32m---> 60\u001b[0m     \u001b[39mself\u001b[39;49m\u001b[39m.\u001b[39;49mcounties \u001b[39m=\u001b[39m counties\n\u001b[1;32m     61\u001b[0m     \u001b[39msuper\u001b[39m()\u001b[39m.\u001b[39m\u001b[39m__init__\u001b[39m(\u001b[39m*\u001b[39m\u001b[39m*\u001b[39mdata)\n",
      "File \u001b[0;32m/opt/anaconda3/envs/CDC_Tracking/lib/python3.10/site-packages/pydantic/main.py:357\u001b[0m, in \u001b[0;36mpydantic.main.BaseModel.__setattr__\u001b[0;34m()\u001b[0m\n",
      "\u001b[0;31mValueError\u001b[0m: \"PWS_Inventory\" object has no field \"counties\""
     ]
    }
   ],
   "source": [
    "# Validating each row of inventory dataframe against the PWS_Inventory class\n",
    "# Creat a list that will contain the RowIdentifier of the valid rows\n",
    "from pydantic import ValidationError\n",
    "\n",
    "valid_rows = []\n",
    "# Creat a dictionary that contains the RowIdentifier of the invalid rows and the error message\n",
    "invalid_rows = {}\n",
    "for index, row in inventory.iterrows():\n",
    "    \n",
    "    try:\n",
    "        vw.PWS_Inventory(counties, **row)\n",
    "        # If passeed, add RowIdentifier into valid_rows list\n",
    "        valid_rows.append(row['RowIdentifier'])\n",
    "\n",
    "    except ValidationError as e:\n",
    "        # If failed, add RowIdentifier and the error message into invalid_rows dictionary\n",
    "        invalid_rows[row['RowIdentifier']] = e\n",
    "\n",
    "        print(e)"
   ]
  },
  {
   "cell_type": "code",
   "execution_count": 31,
   "metadata": {},
   "outputs": [
    {
     "data": {
      "text/plain": [
       "Index(['StateFIPSCode', 'PWSIDNumber', 'YearAssociatedTo', 'YearPulled',\n",
       "       'PWSName', 'PrincipalCountyServedName', 'PrincipalCountyServedFIPS',\n",
       "       'PrincipalCityName', 'PrincipalCityFeatureId', 'TotalConnections',\n",
       "       'SystemPopulation', 'PrimarySourceCode', 'Horiz_Ref_Datum', 'Latitude',\n",
       "       'Longitude', 'LocationDerivationCode', 'RowIdentifier'],\n",
       "      dtype='object')"
      ]
     },
     "execution_count": 31,
     "metadata": {},
     "output_type": "execute_result"
    }
   ],
   "source": [
    "inventory.columns"
   ]
  },
  {
   "cell_type": "code",
   "execution_count": 38,
   "metadata": {},
   "outputs": [
    {
     "name": "stdout",
     "output_type": "stream",
     "text": [
      "['RowIdentifier', 'PWSIDNumber', 'YearAssociatedTo', 'YearPulled', 'PWSName', 'PrincipalCountyServedFIPS', 'PrincipalCityFeatureID', 'TotalConnections', 'SystemPopulation', 'PrimarySourceCode', 'Latitude', 'Longitude', 'LocationDerivationCode']\n"
     ]
    }
   ],
   "source": [
    "# get a list of the field keys of PWS_Inventory class\n"
   ]
  },
  {
   "cell_type": "code",
   "execution_count": null,
   "metadata": {},
   "outputs": [],
   "source": []
  }
 ],
 "metadata": {
  "kernelspec": {
   "display_name": "CDC_Tracking",
   "language": "python",
   "name": "python3"
  },
  "language_info": {
   "codemirror_mode": {
    "name": "ipython",
    "version": 3
   },
   "file_extension": ".py",
   "mimetype": "text/x-python",
   "name": "python",
   "nbconvert_exporter": "python",
   "pygments_lexer": "ipython3",
   "version": "3.10.4"
  },
  "orig_nbformat": 4
 },
 "nbformat": 4,
 "nbformat_minor": 2
}
