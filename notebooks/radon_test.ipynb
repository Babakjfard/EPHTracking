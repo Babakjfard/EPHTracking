{
 "cells": [
  {
   "cell_type": "code",
   "execution_count": 1,
   "metadata": {},
   "outputs": [],
   "source": [
    "import pandas as pd\n",
    "import numpy as np\n",
    "import pydantic\n",
    "from pydantic import BaseModel, ValidationError"
   ]
  },
  {
   "cell_type": "code",
   "execution_count": 3,
   "metadata": {},
   "outputs": [],
   "source": [
    "radon_mitigation =pd.read_excel('../Data/Mitigation Data.xlsx')"
   ]
  },
  {
   "cell_type": "code",
   "execution_count": 4,
   "metadata": {},
   "outputs": [
    {
     "data": {
      "text/plain": [
       "(60835, 10)"
      ]
     },
     "execution_count": 4,
     "metadata": {},
     "output_type": "execute_result"
    }
   ],
   "source": [
    "radon_mitigation.shape"
   ]
  },
  {
   "cell_type": "code",
   "execution_count": 5,
   "metadata": {},
   "outputs": [
    {
     "data": {
      "text/plain": [
       "Index(['Authorized By', 'Property Type', 'Address', 'Unit', 'City', 'County',\n",
       "       'Mitigation System Type', 'Date Completed', 'Company Name',\n",
       "       'DateInstalledTemp'],\n",
       "      dtype='object')"
      ]
     },
     "execution_count": 5,
     "metadata": {},
     "output_type": "execute_result"
    }
   ],
   "source": [
    "radon_mitigation.columns"
   ]
  },
  {
   "cell_type": "code",
   "execution_count": 16,
   "metadata": {},
   "outputs": [
    {
     "data": {
      "text/html": [
       "<div>\n",
       "<style scoped>\n",
       "    .dataframe tbody tr th:only-of-type {\n",
       "        vertical-align: middle;\n",
       "    }\n",
       "\n",
       "    .dataframe tbody tr th {\n",
       "        vertical-align: top;\n",
       "    }\n",
       "\n",
       "    .dataframe thead th {\n",
       "        text-align: right;\n",
       "    }\n",
       "</style>\n",
       "<table border=\"1\" class=\"dataframe\">\n",
       "  <thead>\n",
       "    <tr style=\"text-align: right;\">\n",
       "      <th></th>\n",
       "      <th>Authorized By</th>\n",
       "      <th>Property Type</th>\n",
       "      <th>Address</th>\n",
       "      <th>Unit</th>\n",
       "      <th>City</th>\n",
       "      <th>County</th>\n",
       "      <th>Mitigation System Type</th>\n",
       "      <th>Date Completed</th>\n",
       "      <th>Company Name</th>\n",
       "      <th>DateInstalledTemp</th>\n",
       "    </tr>\n",
       "  </thead>\n",
       "  <tbody>\n",
       "    <tr>\n",
       "      <th>0</th>\n",
       "      <td>NaN</td>\n",
       "      <td>Single Family Home</td>\n",
       "      <td>801 E 48TH ST</td>\n",
       "      <td>NaN</td>\n",
       "      <td>Kearney</td>\n",
       "      <td>Buffalo</td>\n",
       "      <td>Sub Slab Depressurization</td>\n",
       "      <td>2007-06-23 00:00:00</td>\n",
       "      <td>NaN</td>\n",
       "      <td>NaN</td>\n",
       "    </tr>\n",
       "    <tr>\n",
       "      <th>1</th>\n",
       "      <td>NaN</td>\n",
       "      <td>Single Family Home</td>\n",
       "      <td>1710 W 42ND ST</td>\n",
       "      <td>NaN</td>\n",
       "      <td>Kearney</td>\n",
       "      <td>Buffalo</td>\n",
       "      <td>Sub Membrane Depressurization</td>\n",
       "      <td>2011-01-25 00:00:00</td>\n",
       "      <td>Thrasher, Inc.</td>\n",
       "      <td>NaN</td>\n",
       "    </tr>\n",
       "    <tr>\n",
       "      <th>2</th>\n",
       "      <td>NaN</td>\n",
       "      <td>Single Family Home</td>\n",
       "      <td>3108 S 123RD ST</td>\n",
       "      <td>NaN</td>\n",
       "      <td>Omaha</td>\n",
       "      <td>Douglas</td>\n",
       "      <td>Sub Slab Depressurization</td>\n",
       "      <td>2010-02-08 00:00:00</td>\n",
       "      <td>Thrasher, Inc.</td>\n",
       "      <td>NaN</td>\n",
       "    </tr>\n",
       "    <tr>\n",
       "      <th>3</th>\n",
       "      <td>NaN</td>\n",
       "      <td>Single Family Home</td>\n",
       "      <td>10400 HOLDREGE ST</td>\n",
       "      <td>NaN</td>\n",
       "      <td>Lincoln</td>\n",
       "      <td>Lancaster</td>\n",
       "      <td>Sub Slab Depressurization</td>\n",
       "      <td>2017-03-03 00:00:00</td>\n",
       "      <td>Luxury Comfort Solutions, LLC</td>\n",
       "      <td>NaN</td>\n",
       "    </tr>\n",
       "    <tr>\n",
       "      <th>4</th>\n",
       "      <td>NaN</td>\n",
       "      <td>Single Family Home</td>\n",
       "      <td>2348 N 71ST ST</td>\n",
       "      <td>NaN</td>\n",
       "      <td>Omaha</td>\n",
       "      <td>Douglas</td>\n",
       "      <td>Sub Slab Depressurization</td>\n",
       "      <td>2011-03-31 00:00:00</td>\n",
       "      <td>Jerry's Basement Waterproofing, Inc.</td>\n",
       "      <td>NaN</td>\n",
       "    </tr>\n",
       "  </tbody>\n",
       "</table>\n",
       "</div>"
      ],
      "text/plain": [
       "  Authorized By       Property Type            Address Unit     City  \\\n",
       "0           NaN  Single Family Home      801 E 48TH ST  NaN  Kearney   \n",
       "1           NaN  Single Family Home     1710 W 42ND ST  NaN  Kearney   \n",
       "2           NaN  Single Family Home    3108 S 123RD ST  NaN    Omaha   \n",
       "3           NaN  Single Family Home  10400 HOLDREGE ST  NaN  Lincoln   \n",
       "4           NaN  Single Family Home     2348 N 71ST ST  NaN    Omaha   \n",
       "\n",
       "      County         Mitigation System Type       Date Completed  \\\n",
       "0    Buffalo      Sub Slab Depressurization  2007-06-23 00:00:00   \n",
       "1    Buffalo  Sub Membrane Depressurization  2011-01-25 00:00:00   \n",
       "2    Douglas      Sub Slab Depressurization  2010-02-08 00:00:00   \n",
       "3  Lancaster      Sub Slab Depressurization  2017-03-03 00:00:00   \n",
       "4    Douglas      Sub Slab Depressurization  2011-03-31 00:00:00   \n",
       "\n",
       "                           Company Name  DateInstalledTemp  \n",
       "0                                   NaN                NaN  \n",
       "1                        Thrasher, Inc.                NaN  \n",
       "2                        Thrasher, Inc.                NaN  \n",
       "3         Luxury Comfort Solutions, LLC                NaN  \n",
       "4  Jerry's Basement Waterproofing, Inc.                NaN  "
      ]
     },
     "execution_count": 16,
     "metadata": {},
     "output_type": "execute_result"
    }
   ],
   "source": [
    "radon_mitigation.head()"
   ]
  },
  {
   "cell_type": "code",
   "execution_count": 9,
   "metadata": {},
   "outputs": [],
   "source": [
    "radon_measurements = pd.read_excel('../Data/Measurement Data.xlsx')"
   ]
  },
  {
   "cell_type": "code",
   "execution_count": 21,
   "metadata": {},
   "outputs": [
    {
     "data": {
      "text/plain": [
       "array([nan, 'Homeowner', 'HOMEOWNER', 'New Construction',\n",
       "       'Real Estate Transaction'], dtype=object)"
      ]
     },
     "execution_count": 21,
     "metadata": {},
     "output_type": "execute_result"
    }
   ],
   "source": [
    "radon_mitigation.loc[:,'Authorized By'].unique()"
   ]
  },
  {
   "cell_type": "code",
   "execution_count": 11,
   "metadata": {},
   "outputs": [
    {
     "data": {
      "text/plain": [
       "Index(['classdisplayname', 'Address', 'Unit', 'City', 'County', 'State',\n",
       "       'ZIPCode', 'PropertyType', 'DeviceID', 'DevicePlacementLevel',\n",
       "       'DeviceType', 'StartDate', 'EndDate', 'ElapsedTime_Hrs',\n",
       "       'MeasurementResult', 'MeasurementType', 'objectid', 'RequestType',\n",
       "       'CompanyName', 'MeasurementLicense', 'SpecialistName', 'LicenseNumber'],\n",
       "      dtype='object')"
      ]
     },
     "execution_count": 11,
     "metadata": {},
     "output_type": "execute_result"
    }
   ],
   "source": [
    "radon_measurements.columns"
   ]
  },
  {
   "cell_type": "code",
   "execution_count": 25,
   "metadata": {},
   "outputs": [
    {
     "data": {
      "text/plain": [
       "0    2018-10-07\n",
       "1    2018-10-14\n",
       "2    2018-10-14\n",
       "3    2018-10-16\n",
       "4    2018-10-30\n",
       "5    2018-10-11\n",
       "6    2000-11-26\n",
       "7    2000-11-13\n",
       "8    2000-11-03\n",
       "9    2000-11-28\n",
       "10   2003-03-03\n",
       "11   2003-02-06\n",
       "12   2003-02-07\n",
       "13   2000-10-29\n",
       "14   2000-11-25\n",
       "15   2003-05-16\n",
       "16   2000-11-06\n",
       "17   2000-11-05\n",
       "18   2000-11-05\n",
       "19   2002-04-22\n",
       "Name: StartDate, dtype: datetime64[ns]"
      ]
     },
     "execution_count": 25,
     "metadata": {},
     "output_type": "execute_result"
    }
   ],
   "source": [
    "radon_measurements.StartDate.head(20)"
   ]
  },
  {
   "cell_type": "code",
   "execution_count": 15,
   "metadata": {},
   "outputs": [
    {
     "data": {
      "text/plain": [
       "7465"
      ]
     },
     "execution_count": 15,
     "metadata": {},
     "output_type": "execute_result"
    }
   ],
   "source": [
    "radon_measurements.Unit.nunique()"
   ]
  },
  {
   "cell_type": "code",
   "execution_count": 26,
   "metadata": {},
   "outputs": [
    {
     "data": {
      "text/plain": [
       "'Babak Wants To Know How Title Will Change This'"
      ]
     },
     "execution_count": 26,
     "metadata": {},
     "output_type": "execute_result"
    }
   ],
   "source": [
    "test = 'Babak wants to KNOW how title will CHANGE this'\n",
    "test.title()"
   ]
  },
  {
   "cell_type": "code",
   "execution_count": null,
   "metadata": {},
   "outputs": [],
   "source": []
  }
 ],
 "metadata": {
  "kernelspec": {
   "display_name": "python-gis",
   "language": "python",
   "name": "python3"
  },
  "language_info": {
   "codemirror_mode": {
    "name": "ipython",
    "version": 3
   },
   "file_extension": ".py",
   "mimetype": "text/x-python",
   "name": "python",
   "nbconvert_exporter": "python",
   "pygments_lexer": "ipython3",
   "version": "3.8.10"
  },
  "orig_nbformat": 4,
  "vscode": {
   "interpreter": {
    "hash": "427096c5b14e8615d33d81212869e5415bdef326dd0b29cdebd4752ca1ef4303"
   }
  }
 },
 "nbformat": 4,
 "nbformat_minor": 2
}
