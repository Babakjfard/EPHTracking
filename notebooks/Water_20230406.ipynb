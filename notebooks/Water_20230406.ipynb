{
 "cells": [
  {
   "cell_type": "markdown",
   "metadata": {},
   "source": [
    "# Testing the Water Data for submission into 2023 Spring Water submission\n",
    "This is the second notebook in creating a dependable model for validating the related water data, and do the tests on Nebraska Water system. "
   ]
  },
  {
   "cell_type": "code",
   "execution_count": 2,
   "metadata": {},
   "outputs": [],
   "source": [
    "import pandas as pd\n",
    "from libraries import general"
   ]
  },
  {
   "cell_type": "code",
   "execution_count": 3,
   "metadata": {},
   "outputs": [],
   "source": [
    "counties = general.get_Counties_FIPS('NE')"
   ]
  },
  {
   "cell_type": "markdown",
   "metadata": {},
   "source": [
    "## Required Libraries\n",
    "These are the required libraries for validation. Will later be added into a separate library"
   ]
  },
  {
   "cell_type": "code",
   "execution_count": 1,
   "metadata": {},
   "outputs": [],
   "source": [
    "# First attempt to creat Data class models\n",
    "import pandas as pd\n",
    "from datetime import date\n",
    "from typing import Optional, List, Literal\n",
    "from pydantic import BaseModel, ValidationError, Field, conint, confloat, constr, validator\n",
    "import datetime"
   ]
  },
  {
   "cell_type": "code",
   "execution_count": 3,
   "metadata": {},
   "outputs": [],
   "source": [
    "# ['RowIdentifier', 'PWSIDNumber', 'YearAssociatedTo', 'YearPulled',\n",
    "#       'PWSName', 'PrincipalCountyServedFIPS', 'PrincipalCityFeatureID',\n",
    "#       'TotalConnections', 'SystemPopulation', 'PrimarySourceCode', 'Latitude',\n",
    "#       'Longitude', 'LocationDerivationCode']\n",
    "\n",
    "class PWS_Inventory(BaseModel):\n",
    "    RowIdentifier: int\n",
    "    StateFIPSCode: int\n",
    "    PWSIDNumber: constr(regex=r'^NE\\d{7}') #Change NE to represent your state code\n",
    "    \n",
    "    YearAssociatedTo: conint(ge=1999, le=2023) \n",
    "    YearPulled: conint(ge=1999, le=2023)\n",
    "    \n",
    "    PWSName: str #Should it have distinction between Unknows and Not Submitted? or just be blank?\n",
    "    \n",
    "    PrincipalCountyServedFIPS: str\n",
    "\n",
    "    @validator('PrincipalCountyServedFIPS')\n",
    "    def check_PrincipalCountyServedFIPS(cls, v):\n",
    "        allowed_values = counties['fips'].tolist()\n",
    "        if v not in allowed_values:\n",
    "            raise ValueError('PrincipalCountyServedFIPS must be a valid FIPS code')\n",
    "        return v      \n",
    "\n",
    "    PrincipalCityFeatureID: int # ????How to get it from the introduced source?\n",
    "\n",
    "    TotalConnections: conint(ge=1, le=9999999)\n",
    "    SystemPopulation: conint(ge=10, le=99999999)\n",
    "    PrimarySourceCode: Literal['GU', 'GUP', 'GW', 'GWP', 'SW', 'SWP', 'U', 'NS']\n",
    "\n",
    "    # For Nebraska in NAD83\n",
    "    Latitude: confloat(ge= 39.999998, le=43.001702) \n",
    "    Longitude: confloat(ge= -104.053514, le=-95.308290)\n",
    "    LocationDerivationCode: Literal['SA', 'MFL', 'PCS', 'GSH','O', '-999', '-888']\n",
    "\n",
    "        \n",
    "# ['RowIdentifier', 'PWSIDNumber', 'Year', 'AnalyteCode', 'DateSampled',\n",
    "#        'AggregationType', 'NumSamplingLocations', 'SummaryTimePeriod',\n",
    "#        'NumSamples', 'NumNonDetects', 'ConcentrationUnits', 'Concentration']\n",
    "class Sampling_Summary(BaseModel):\n",
    "    RowIdentifier: int\n",
    "    PWSIDNumber: constr(regex=r'^NE\\d{7}') #for Nebraska\n",
    "\n",
    "    Year: conint(ge=1999, le=2023)\n",
    "    \n",
    "    \n",
    "    AnalyteCode: Literal['1005', '2050', '2456', '2950', '2039','1040', '2987', \n",
    "    '2984', '4010', '4006']\n",
    "    ConcentrationUnits: Literal['ug/l', 'mg/l','pci/l'] # TODO: Apply the rules of what Analyte each applies to\n",
    "    Concentration: float\n",
    "\n",
    "    DateSampled: datetime.date #validate to be from 1/1/1999 to the latest complete year\n",
    "\n",
    "    AggregationType: Literal['X', 'MX']\n",
    "    NumSamplingLocations: conint(ge=1, le=9999) #TODO: '-888' for Not Submitted\n",
    "    SummaryTimePeriod: str #TODO: look into its Data Dictionary\n",
    "    NumSamples: int\n",
    "    NumNonDetects: int\n",
    "\n",
    "\n",
    "\n",
    "class Sampling(BaseModel):\n",
    "    RowIdentifier: int\n",
    "    PWSIDNumber: constr(regex=r'^NE\\d{7}') #for Nebraska\n",
    "\n",
    "    Year: conint(ge=1999, le=2023)\n",
    "    \n",
    "    \n",
    "    AnalyteCode: Literal['1005', '2050', '2456', '2950', '2039','1040', '2987', \n",
    "    '2984', '4010', '4006']\n",
    "    # check if ConcentrationUnits is one of the strings in this list, make the list case insensitive\n",
    "    ConcentrationUnits: Literal['ug/l', 'mg/l','pci/l'] # TODO: Apply the rules of what Analyte each applies to\n",
    "\n",
    "    # check if Concentration is a float and is greater than or equal to 0\n",
    "    Concentration: confloat(ge=0.0)\n",
    "\n",
    "    DateSampled: datetime.date #validate to be from 1/1/1999 to the latest complete year\n"
   ]
  },
  {
   "cell_type": "markdown",
   "metadata": {},
   "source": [
    "## Checking the PWS_Inventory\n"
   ]
  },
  {
   "cell_type": "code",
   "execution_count": 4,
   "metadata": {},
   "outputs": [],
   "source": [
    "inventory = pd.read_excel('/Users/babak.jfard/projects/ETHTracking/Data/Water_Data/PWSInventory_latest.xlsx')"
   ]
  },
  {
   "cell_type": "code",
   "execution_count": 5,
   "metadata": {},
   "outputs": [
    {
     "data": {
      "text/plain": [
       "596"
      ]
     },
     "execution_count": 5,
     "metadata": {},
     "output_type": "execute_result"
    }
   ],
   "source": [
    "inventory.PWSIDNumber.nunique()"
   ]
  },
  {
   "cell_type": "code",
   "execution_count": 6,
   "metadata": {},
   "outputs": [
    {
     "data": {
      "text/html": [
       "<div>\n",
       "<style scoped>\n",
       "    .dataframe tbody tr th:only-of-type {\n",
       "        vertical-align: middle;\n",
       "    }\n",
       "\n",
       "    .dataframe tbody tr th {\n",
       "        vertical-align: top;\n",
       "    }\n",
       "\n",
       "    .dataframe thead th {\n",
       "        text-align: right;\n",
       "    }\n",
       "</style>\n",
       "<table border=\"1\" class=\"dataframe\">\n",
       "  <thead>\n",
       "    <tr style=\"text-align: right;\">\n",
       "      <th></th>\n",
       "      <th>StateFIPSCode</th>\n",
       "      <th>PWSIDNumber</th>\n",
       "      <th>YearAssociatedTo</th>\n",
       "      <th>YearPulled</th>\n",
       "      <th>PWSName</th>\n",
       "      <th>PrincipalCountyServedName</th>\n",
       "      <th>PrincipalCountyServed FIPS</th>\n",
       "      <th>PrincipalCityName</th>\n",
       "      <th>﻿PrincipalCityFeatureId</th>\n",
       "      <th>TotalConnections</th>\n",
       "      <th>SystemPopulation</th>\n",
       "      <th>PrimarySourceCode</th>\n",
       "      <th>Horiz_Ref_Datum</th>\n",
       "      <th>Latitude</th>\n",
       "      <th>Longitude</th>\n",
       "      <th>LocationDerivationCode</th>\n",
       "    </tr>\n",
       "  </thead>\n",
       "  <tbody>\n",
       "  </tbody>\n",
       "</table>\n",
       "</div>"
      ],
      "text/plain": [
       "Empty DataFrame\n",
       "Columns: [StateFIPSCode, PWSIDNumber, YearAssociatedTo, YearPulled, PWSName, PrincipalCountyServedName, PrincipalCountyServed FIPS, PrincipalCityName, ﻿PrincipalCityFeatureId, TotalConnections, SystemPopulation, PrimarySourceCode, Horiz_Ref_Datum, Latitude, Longitude, LocationDerivationCode]\n",
       "Index: []"
      ]
     },
     "execution_count": 6,
     "metadata": {},
     "output_type": "execute_result"
    }
   ],
   "source": [
    "# Check for duplicates\n",
    "inventory[inventory.duplicated(subset=['PWSIDNumber', 'YearAssociatedTo'], keep=False)]"
   ]
  },
  {
   "cell_type": "code",
   "execution_count": 7,
   "metadata": {},
   "outputs": [
    {
     "data": {
      "text/plain": [
       "['StateFIPSCode',\n",
       " 'PWSIDNumber',\n",
       " 'YearAssociatedTo',\n",
       " 'YearPulled',\n",
       " 'PWSName',\n",
       " 'PrincipalCountyServedName',\n",
       " 'PrincipalCountyServed FIPS',\n",
       " 'PrincipalCityName',\n",
       " '\\ufeffPrincipalCityFeatureId',\n",
       " 'TotalConnections',\n",
       " 'SystemPopulation',\n",
       " 'PrimarySourceCode',\n",
       " 'Horiz_Ref_Datum',\n",
       " 'Latitude',\n",
       " 'Longitude',\n",
       " 'LocationDerivationCode']"
      ]
     },
     "execution_count": 7,
     "metadata": {},
     "output_type": "execute_result"
    }
   ],
   "source": [
    "inventory.columns.tolist()"
   ]
  },
  {
   "cell_type": "code",
   "execution_count": 10,
   "metadata": {},
   "outputs": [],
   "source": [
    "#inventory.columns = inventory.columns.str.replace('\\ufeff', '')\n",
    "\n",
    "#Change the names of several columns to match the names in the validator\n",
    "inventory.rename(columns={'PrincipalCountyServed FIPS': 'PrincipalCountyServedFIPS', '\\ufeffPrincipalCityFeatureId': 'PrincipalCityFeatureID'}, inplace=True)"
   ]
  },
  {
   "cell_type": "code",
   "execution_count": 11,
   "metadata": {},
   "outputs": [],
   "source": [
    "inventory.to_csv('/Users/babak.jfard/projects/ETHTracking/Data/Water_Data/PWSInventory_latest.csv', index=False)"
   ]
  },
  {
   "cell_type": "code",
   "execution_count": 10,
   "metadata": {},
   "outputs": [],
   "source": [
    "# Adding a uique Identifier, as first column, for each row\n",
    "inventory.insert(0, 'RowIdentifier', inventory.index)\n",
    "#inventory['RowIdentifier'] = inventory.index"
   ]
  },
  {
   "cell_type": "code",
   "execution_count": 11,
   "metadata": {},
   "outputs": [],
   "source": [
    "rm_column = list(set(inventory.columns) - set((PWS_Inventory.__fields__.keys())))"
   ]
  },
  {
   "cell_type": "code",
   "execution_count": 14,
   "metadata": {},
   "outputs": [
    {
     "data": {
      "text/plain": [
       "set()"
      ]
     },
     "execution_count": 14,
     "metadata": {},
     "output_type": "execute_result"
    }
   ],
   "source": [
    "set(PWS_Inventory.__fields__.keys()) - set(inventory.columns)"
   ]
  },
  {
   "cell_type": "code",
   "execution_count": 15,
   "metadata": {},
   "outputs": [
    {
     "data": {
      "text/plain": [
       "28"
      ]
     },
     "execution_count": 15,
     "metadata": {},
     "output_type": "execute_result"
    }
   ],
   "source": [
    "inventory.Horiz_Ref_Datum.isna().sum()"
   ]
  },
  {
   "cell_type": "code",
   "execution_count": 13,
   "metadata": {},
   "outputs": [],
   "source": [
    "inventory.drop(columns=rm_column, inplace=True)"
   ]
  },
  {
   "cell_type": "code",
   "execution_count": 17,
   "metadata": {},
   "outputs": [
    {
     "data": {
      "text/plain": [
       "Index(['RowIdentifier', 'StateFIPSCode', 'PWSIDNumber', 'YearAssociatedTo',\n",
       "       'YearPulled', 'PWSName', 'PrincipalCountyServedName',\n",
       "       'PrincipalCountyServedFIPS', 'PrincipalCityName',\n",
       "       'PrincipalCityFeatureID', 'TotalConnections', 'SystemPopulation',\n",
       "       'PrimarySourceCode', 'Horiz_Ref_Datum', 'Latitude', 'Longitude',\n",
       "       'LocationDerivationCode'],\n",
       "      dtype='object')"
      ]
     },
     "execution_count": 17,
     "metadata": {},
     "output_type": "execute_result"
    }
   ],
   "source": [
    "inventory.columns"
   ]
  },
  {
   "cell_type": "code",
   "execution_count": 18,
   "metadata": {},
   "outputs": [
    {
     "data": {
      "text/plain": [
       "dict_keys(['RowIdentifier', 'StateFIPSCode', 'PWSIDNumber', 'YearAssociatedTo', 'YearPulled', 'PWSName', 'PrincipalCountyServedFIPS', 'PrincipalCityFeatureID', 'TotalConnections', 'SystemPopulation', 'PrimarySourceCode', 'Latitude', 'Longitude', 'LocationDerivationCode'])"
      ]
     },
     "execution_count": 18,
     "metadata": {},
     "output_type": "execute_result"
    }
   ],
   "source": [
    "PWS_Inventory.__fields__.keys()"
   ]
  },
  {
   "cell_type": "code",
   "execution_count": 19,
   "metadata": {},
   "outputs": [
    {
     "ename": "NameError",
     "evalue": "name 'counties' is not defined",
     "output_type": "error",
     "traceback": [
      "\u001b[0;31m---------------------------------------------------------------------------\u001b[0m",
      "\u001b[0;31mNameError\u001b[0m                                 Traceback (most recent call last)",
      "Cell \u001b[0;32mIn[19], line 8\u001b[0m\n\u001b[1;32m      5\u001b[0m \u001b[39mfor\u001b[39;00m index, row \u001b[39min\u001b[39;00m inventory\u001b[39m.\u001b[39miterrows():\n\u001b[1;32m      7\u001b[0m     \u001b[39mtry\u001b[39;00m:\n\u001b[0;32m----> 8\u001b[0m         PWS_Inventory(\u001b[39m*\u001b[39;49m\u001b[39m*\u001b[39;49mrow)\n\u001b[1;32m      9\u001b[0m         \u001b[39m# If passeed, add RowIdentifier into valid_rows list\u001b[39;00m\n\u001b[1;32m     10\u001b[0m         valid_rows\u001b[39m.\u001b[39mappend(row[\u001b[39m'\u001b[39m\u001b[39mRowIdentifier\u001b[39m\u001b[39m'\u001b[39m])\n",
      "File \u001b[0;32m/opt/anaconda3/envs/CDC_Tracking/lib/python3.10/site-packages/pydantic/main.py:339\u001b[0m, in \u001b[0;36mpydantic.main.BaseModel.__init__\u001b[0;34m()\u001b[0m\n",
      "File \u001b[0;32m/opt/anaconda3/envs/CDC_Tracking/lib/python3.10/site-packages/pydantic/main.py:1076\u001b[0m, in \u001b[0;36mpydantic.main.validate_model\u001b[0;34m()\u001b[0m\n",
      "File \u001b[0;32m/opt/anaconda3/envs/CDC_Tracking/lib/python3.10/site-packages/pydantic/fields.py:898\u001b[0m, in \u001b[0;36mpydantic.fields.ModelField.validate\u001b[0;34m()\u001b[0m\n",
      "File \u001b[0;32m/opt/anaconda3/envs/CDC_Tracking/lib/python3.10/site-packages/pydantic/fields.py:1151\u001b[0m, in \u001b[0;36mpydantic.fields.ModelField._apply_validators\u001b[0;34m()\u001b[0m\n",
      "File \u001b[0;32m/opt/anaconda3/envs/CDC_Tracking/lib/python3.10/site-packages/pydantic/class_validators.py:304\u001b[0m, in \u001b[0;36mpydantic.class_validators._generic_validator_cls.lambda4\u001b[0;34m()\u001b[0m\n",
      "Cell \u001b[0;32mIn[3], line 20\u001b[0m, in \u001b[0;36mPWS_Inventory.check_PrincipalCountyServedFIPS\u001b[0;34m(cls, v)\u001b[0m\n\u001b[1;32m     18\u001b[0m \u001b[39m@validator\u001b[39m(\u001b[39m'\u001b[39m\u001b[39mPrincipalCountyServedFIPS\u001b[39m\u001b[39m'\u001b[39m)\n\u001b[1;32m     19\u001b[0m \u001b[39mdef\u001b[39;00m \u001b[39mcheck_PrincipalCountyServedFIPS\u001b[39m(\u001b[39mcls\u001b[39m, v):\n\u001b[0;32m---> 20\u001b[0m     allowed_values \u001b[39m=\u001b[39m counties[\u001b[39m'\u001b[39m\u001b[39mfips\u001b[39m\u001b[39m'\u001b[39m]\u001b[39m.\u001b[39mtolist()\n\u001b[1;32m     21\u001b[0m     \u001b[39mif\u001b[39;00m v \u001b[39mnot\u001b[39;00m \u001b[39min\u001b[39;00m allowed_values:\n\u001b[1;32m     22\u001b[0m         \u001b[39mraise\u001b[39;00m \u001b[39mValueError\u001b[39;00m(\u001b[39m'\u001b[39m\u001b[39mPrincipalCountyServedFIPS must be a valid FIPS code\u001b[39m\u001b[39m'\u001b[39m)\n",
      "\u001b[0;31mNameError\u001b[0m: name 'counties' is not defined"
     ]
    }
   ],
   "source": [
    "# Doing the validation for each row as a PWS_Inventory object\n",
    "valid_rows = []\n",
    "# Creat a dictionary that contains the RowIdentifier of the invalid rows and the error message\n",
    "invalid_rows = {}\n",
    "for index, row in inventory.iterrows():\n",
    "    \n",
    "    try:\n",
    "        PWS_Inventory(**row)\n",
    "        # If passeed, add RowIdentifier into valid_rows list\n",
    "        valid_rows.append(row['RowIdentifier'])\n",
    "\n",
    "    except ValidationError as e:\n",
    "        # If failed, add RowIdentifier and the error message into invalid_rows dictionary\n",
    "        invalid_rows[row['RowIdentifier']] = e.errors\n",
    "\n",
    "        print(e)"
   ]
  },
  {
   "cell_type": "code",
   "execution_count": 17,
   "metadata": {},
   "outputs": [
    {
     "data": {
      "text/plain": [
       "{47: <bound method ValidationError.errors of ValidationError(model='PWS_Inventory', errors=[{'loc': ('Latitude',), 'msg': 'ensure this value is greater than or equal to 39.999998', 'type': 'value_error.number.not_ge', 'ctx': {'limit_value': 39.999998}}, {'loc': ('Longitude',), 'msg': 'ensure this value is greater than or equal to -104.053514', 'type': 'value_error.number.not_ge', 'ctx': {'limit_value': -104.053514}}, {'loc': ('LocationDerivationCode',), 'msg': \"unexpected value; permitted: 'SA', 'MFL', 'PCS', 'GSH', 'O', '-999', '-888'\", 'type': 'value_error.const', 'ctx': {'given': nan, 'permitted': ('SA', 'MFL', 'PCS', 'GSH', 'O', '-999', '-888')}}])>,\n",
       " 49: <bound method ValidationError.errors of ValidationError(model='PWS_Inventory', errors=[{'loc': ('Latitude',), 'msg': 'ensure this value is greater than or equal to 39.999998', 'type': 'value_error.number.not_ge', 'ctx': {'limit_value': 39.999998}}, {'loc': ('Longitude',), 'msg': 'ensure this value is greater than or equal to -104.053514', 'type': 'value_error.number.not_ge', 'ctx': {'limit_value': -104.053514}}, {'loc': ('LocationDerivationCode',), 'msg': \"unexpected value; permitted: 'SA', 'MFL', 'PCS', 'GSH', 'O', '-999', '-888'\", 'type': 'value_error.const', 'ctx': {'given': nan, 'permitted': ('SA', 'MFL', 'PCS', 'GSH', 'O', '-999', '-888')}}])>,\n",
       " 127: <bound method ValidationError.errors of ValidationError(model='PWS_Inventory', errors=[{'loc': ('Latitude',), 'msg': 'ensure this value is greater than or equal to 39.999998', 'type': 'value_error.number.not_ge', 'ctx': {'limit_value': 39.999998}}, {'loc': ('Longitude',), 'msg': 'ensure this value is greater than or equal to -104.053514', 'type': 'value_error.number.not_ge', 'ctx': {'limit_value': -104.053514}}, {'loc': ('LocationDerivationCode',), 'msg': \"unexpected value; permitted: 'SA', 'MFL', 'PCS', 'GSH', 'O', '-999', '-888'\", 'type': 'value_error.const', 'ctx': {'given': nan, 'permitted': ('SA', 'MFL', 'PCS', 'GSH', 'O', '-999', '-888')}}])>,\n",
       " 138: <bound method ValidationError.errors of ValidationError(model='PWS_Inventory', errors=[{'loc': ('Latitude',), 'msg': 'ensure this value is greater than or equal to 39.999998', 'type': 'value_error.number.not_ge', 'ctx': {'limit_value': 39.999998}}, {'loc': ('Longitude',), 'msg': 'ensure this value is greater than or equal to -104.053514', 'type': 'value_error.number.not_ge', 'ctx': {'limit_value': -104.053514}}, {'loc': ('LocationDerivationCode',), 'msg': \"unexpected value; permitted: 'SA', 'MFL', 'PCS', 'GSH', 'O', '-999', '-888'\", 'type': 'value_error.const', 'ctx': {'given': nan, 'permitted': ('SA', 'MFL', 'PCS', 'GSH', 'O', '-999', '-888')}}])>,\n",
       " 139: <bound method ValidationError.errors of ValidationError(model='PWS_Inventory', errors=[{'loc': ('Latitude',), 'msg': 'ensure this value is greater than or equal to 39.999998', 'type': 'value_error.number.not_ge', 'ctx': {'limit_value': 39.999998}}, {'loc': ('Longitude',), 'msg': 'ensure this value is greater than or equal to -104.053514', 'type': 'value_error.number.not_ge', 'ctx': {'limit_value': -104.053514}}, {'loc': ('LocationDerivationCode',), 'msg': \"unexpected value; permitted: 'SA', 'MFL', 'PCS', 'GSH', 'O', '-999', '-888'\", 'type': 'value_error.const', 'ctx': {'given': nan, 'permitted': ('SA', 'MFL', 'PCS', 'GSH', 'O', '-999', '-888')}}])>,\n",
       " 180: <bound method ValidationError.errors of ValidationError(model='PWS_Inventory', errors=[{'loc': ('Latitude',), 'msg': 'ensure this value is greater than or equal to 39.999998', 'type': 'value_error.number.not_ge', 'ctx': {'limit_value': 39.999998}}, {'loc': ('Longitude',), 'msg': 'ensure this value is greater than or equal to -104.053514', 'type': 'value_error.number.not_ge', 'ctx': {'limit_value': -104.053514}}, {'loc': ('LocationDerivationCode',), 'msg': \"unexpected value; permitted: 'SA', 'MFL', 'PCS', 'GSH', 'O', '-999', '-888'\", 'type': 'value_error.const', 'ctx': {'given': nan, 'permitted': ('SA', 'MFL', 'PCS', 'GSH', 'O', '-999', '-888')}}])>,\n",
       " 279: <bound method ValidationError.errors of ValidationError(model='PWS_Inventory', errors=[{'loc': ('Latitude',), 'msg': 'ensure this value is greater than or equal to 39.999998', 'type': 'value_error.number.not_ge', 'ctx': {'limit_value': 39.999998}}, {'loc': ('Longitude',), 'msg': 'ensure this value is greater than or equal to -104.053514', 'type': 'value_error.number.not_ge', 'ctx': {'limit_value': -104.053514}}, {'loc': ('LocationDerivationCode',), 'msg': \"unexpected value; permitted: 'SA', 'MFL', 'PCS', 'GSH', 'O', '-999', '-888'\", 'type': 'value_error.const', 'ctx': {'given': nan, 'permitted': ('SA', 'MFL', 'PCS', 'GSH', 'O', '-999', '-888')}}])>,\n",
       " 311: <bound method ValidationError.errors of ValidationError(model='PWS_Inventory', errors=[{'loc': ('Latitude',), 'msg': 'ensure this value is greater than or equal to 39.999998', 'type': 'value_error.number.not_ge', 'ctx': {'limit_value': 39.999998}}, {'loc': ('Longitude',), 'msg': 'ensure this value is greater than or equal to -104.053514', 'type': 'value_error.number.not_ge', 'ctx': {'limit_value': -104.053514}}, {'loc': ('LocationDerivationCode',), 'msg': \"unexpected value; permitted: 'SA', 'MFL', 'PCS', 'GSH', 'O', '-999', '-888'\", 'type': 'value_error.const', 'ctx': {'given': nan, 'permitted': ('SA', 'MFL', 'PCS', 'GSH', 'O', '-999', '-888')}}])>,\n",
       " 328: <bound method ValidationError.errors of ValidationError(model='PWS_Inventory', errors=[{'loc': ('Latitude',), 'msg': 'ensure this value is greater than or equal to 39.999998', 'type': 'value_error.number.not_ge', 'ctx': {'limit_value': 39.999998}}, {'loc': ('Longitude',), 'msg': 'ensure this value is greater than or equal to -104.053514', 'type': 'value_error.number.not_ge', 'ctx': {'limit_value': -104.053514}}, {'loc': ('LocationDerivationCode',), 'msg': \"unexpected value; permitted: 'SA', 'MFL', 'PCS', 'GSH', 'O', '-999', '-888'\", 'type': 'value_error.const', 'ctx': {'given': nan, 'permitted': ('SA', 'MFL', 'PCS', 'GSH', 'O', '-999', '-888')}}])>,\n",
       " 338: <bound method ValidationError.errors of ValidationError(model='PWS_Inventory', errors=[{'loc': ('Latitude',), 'msg': 'ensure this value is greater than or equal to 39.999998', 'type': 'value_error.number.not_ge', 'ctx': {'limit_value': 39.999998}}, {'loc': ('Longitude',), 'msg': 'ensure this value is greater than or equal to -104.053514', 'type': 'value_error.number.not_ge', 'ctx': {'limit_value': -104.053514}}, {'loc': ('LocationDerivationCode',), 'msg': \"unexpected value; permitted: 'SA', 'MFL', 'PCS', 'GSH', 'O', '-999', '-888'\", 'type': 'value_error.const', 'ctx': {'given': nan, 'permitted': ('SA', 'MFL', 'PCS', 'GSH', 'O', '-999', '-888')}}])>,\n",
       " 365: <bound method ValidationError.errors of ValidationError(model='PWS_Inventory', errors=[{'loc': ('Latitude',), 'msg': 'ensure this value is greater than or equal to 39.999998', 'type': 'value_error.number.not_ge', 'ctx': {'limit_value': 39.999998}}, {'loc': ('Longitude',), 'msg': 'ensure this value is greater than or equal to -104.053514', 'type': 'value_error.number.not_ge', 'ctx': {'limit_value': -104.053514}}, {'loc': ('LocationDerivationCode',), 'msg': \"unexpected value; permitted: 'SA', 'MFL', 'PCS', 'GSH', 'O', '-999', '-888'\", 'type': 'value_error.const', 'ctx': {'given': nan, 'permitted': ('SA', 'MFL', 'PCS', 'GSH', 'O', '-999', '-888')}}])>,\n",
       " 384: <bound method ValidationError.errors of ValidationError(model='PWS_Inventory', errors=[{'loc': ('Latitude',), 'msg': 'ensure this value is greater than or equal to 39.999998', 'type': 'value_error.number.not_ge', 'ctx': {'limit_value': 39.999998}}, {'loc': ('Longitude',), 'msg': 'ensure this value is greater than or equal to -104.053514', 'type': 'value_error.number.not_ge', 'ctx': {'limit_value': -104.053514}}, {'loc': ('LocationDerivationCode',), 'msg': \"unexpected value; permitted: 'SA', 'MFL', 'PCS', 'GSH', 'O', '-999', '-888'\", 'type': 'value_error.const', 'ctx': {'given': nan, 'permitted': ('SA', 'MFL', 'PCS', 'GSH', 'O', '-999', '-888')}}])>,\n",
       " 399: <bound method ValidationError.errors of ValidationError(model='PWS_Inventory', errors=[{'loc': ('Latitude',), 'msg': 'ensure this value is greater than or equal to 39.999998', 'type': 'value_error.number.not_ge', 'ctx': {'limit_value': 39.999998}}, {'loc': ('Longitude',), 'msg': 'ensure this value is greater than or equal to -104.053514', 'type': 'value_error.number.not_ge', 'ctx': {'limit_value': -104.053514}}, {'loc': ('LocationDerivationCode',), 'msg': \"unexpected value; permitted: 'SA', 'MFL', 'PCS', 'GSH', 'O', '-999', '-888'\", 'type': 'value_error.const', 'ctx': {'given': nan, 'permitted': ('SA', 'MFL', 'PCS', 'GSH', 'O', '-999', '-888')}}])>,\n",
       " 400: <bound method ValidationError.errors of ValidationError(model='PWS_Inventory', errors=[{'loc': ('Latitude',), 'msg': 'ensure this value is greater than or equal to 39.999998', 'type': 'value_error.number.not_ge', 'ctx': {'limit_value': 39.999998}}, {'loc': ('Longitude',), 'msg': 'ensure this value is greater than or equal to -104.053514', 'type': 'value_error.number.not_ge', 'ctx': {'limit_value': -104.053514}}, {'loc': ('LocationDerivationCode',), 'msg': \"unexpected value; permitted: 'SA', 'MFL', 'PCS', 'GSH', 'O', '-999', '-888'\", 'type': 'value_error.const', 'ctx': {'given': nan, 'permitted': ('SA', 'MFL', 'PCS', 'GSH', 'O', '-999', '-888')}}])>,\n",
       " 411: <bound method ValidationError.errors of ValidationError(model='PWS_Inventory', errors=[{'loc': ('Latitude',), 'msg': 'ensure this value is greater than or equal to 39.999998', 'type': 'value_error.number.not_ge', 'ctx': {'limit_value': 39.999998}}, {'loc': ('Longitude',), 'msg': 'ensure this value is greater than or equal to -104.053514', 'type': 'value_error.number.not_ge', 'ctx': {'limit_value': -104.053514}}, {'loc': ('LocationDerivationCode',), 'msg': \"unexpected value; permitted: 'SA', 'MFL', 'PCS', 'GSH', 'O', '-999', '-888'\", 'type': 'value_error.const', 'ctx': {'given': nan, 'permitted': ('SA', 'MFL', 'PCS', 'GSH', 'O', '-999', '-888')}}])>,\n",
       " 412: <bound method ValidationError.errors of ValidationError(model='PWS_Inventory', errors=[{'loc': ('Latitude',), 'msg': 'ensure this value is greater than or equal to 39.999998', 'type': 'value_error.number.not_ge', 'ctx': {'limit_value': 39.999998}}, {'loc': ('Longitude',), 'msg': 'ensure this value is greater than or equal to -104.053514', 'type': 'value_error.number.not_ge', 'ctx': {'limit_value': -104.053514}}, {'loc': ('LocationDerivationCode',), 'msg': \"unexpected value; permitted: 'SA', 'MFL', 'PCS', 'GSH', 'O', '-999', '-888'\", 'type': 'value_error.const', 'ctx': {'given': nan, 'permitted': ('SA', 'MFL', 'PCS', 'GSH', 'O', '-999', '-888')}}])>,\n",
       " 439: <bound method ValidationError.errors of ValidationError(model='PWS_Inventory', errors=[{'loc': ('Latitude',), 'msg': 'ensure this value is greater than or equal to 39.999998', 'type': 'value_error.number.not_ge', 'ctx': {'limit_value': 39.999998}}, {'loc': ('Longitude',), 'msg': 'ensure this value is greater than or equal to -104.053514', 'type': 'value_error.number.not_ge', 'ctx': {'limit_value': -104.053514}}, {'loc': ('LocationDerivationCode',), 'msg': \"unexpected value; permitted: 'SA', 'MFL', 'PCS', 'GSH', 'O', '-999', '-888'\", 'type': 'value_error.const', 'ctx': {'given': nan, 'permitted': ('SA', 'MFL', 'PCS', 'GSH', 'O', '-999', '-888')}}])>,\n",
       " 446: <bound method ValidationError.errors of ValidationError(model='PWS_Inventory', errors=[{'loc': ('Latitude',), 'msg': 'ensure this value is greater than or equal to 39.999998', 'type': 'value_error.number.not_ge', 'ctx': {'limit_value': 39.999998}}, {'loc': ('Longitude',), 'msg': 'ensure this value is greater than or equal to -104.053514', 'type': 'value_error.number.not_ge', 'ctx': {'limit_value': -104.053514}}, {'loc': ('LocationDerivationCode',), 'msg': \"unexpected value; permitted: 'SA', 'MFL', 'PCS', 'GSH', 'O', '-999', '-888'\", 'type': 'value_error.const', 'ctx': {'given': nan, 'permitted': ('SA', 'MFL', 'PCS', 'GSH', 'O', '-999', '-888')}}])>,\n",
       " 447: <bound method ValidationError.errors of ValidationError(model='PWS_Inventory', errors=[{'loc': ('Latitude',), 'msg': 'ensure this value is greater than or equal to 39.999998', 'type': 'value_error.number.not_ge', 'ctx': {'limit_value': 39.999998}}, {'loc': ('Longitude',), 'msg': 'ensure this value is greater than or equal to -104.053514', 'type': 'value_error.number.not_ge', 'ctx': {'limit_value': -104.053514}}, {'loc': ('LocationDerivationCode',), 'msg': \"unexpected value; permitted: 'SA', 'MFL', 'PCS', 'GSH', 'O', '-999', '-888'\", 'type': 'value_error.const', 'ctx': {'given': nan, 'permitted': ('SA', 'MFL', 'PCS', 'GSH', 'O', '-999', '-888')}}])>,\n",
       " 462: <bound method ValidationError.errors of ValidationError(model='PWS_Inventory', errors=[{'loc': ('Latitude',), 'msg': 'ensure this value is greater than or equal to 39.999998', 'type': 'value_error.number.not_ge', 'ctx': {'limit_value': 39.999998}}, {'loc': ('Longitude',), 'msg': 'ensure this value is greater than or equal to -104.053514', 'type': 'value_error.number.not_ge', 'ctx': {'limit_value': -104.053514}}, {'loc': ('LocationDerivationCode',), 'msg': \"unexpected value; permitted: 'SA', 'MFL', 'PCS', 'GSH', 'O', '-999', '-888'\", 'type': 'value_error.const', 'ctx': {'given': nan, 'permitted': ('SA', 'MFL', 'PCS', 'GSH', 'O', '-999', '-888')}}])>,\n",
       " 502: <bound method ValidationError.errors of ValidationError(model='PWS_Inventory', errors=[{'loc': ('Latitude',), 'msg': 'ensure this value is greater than or equal to 39.999998', 'type': 'value_error.number.not_ge', 'ctx': {'limit_value': 39.999998}}, {'loc': ('Longitude',), 'msg': 'ensure this value is greater than or equal to -104.053514', 'type': 'value_error.number.not_ge', 'ctx': {'limit_value': -104.053514}}, {'loc': ('LocationDerivationCode',), 'msg': \"unexpected value; permitted: 'SA', 'MFL', 'PCS', 'GSH', 'O', '-999', '-888'\", 'type': 'value_error.const', 'ctx': {'given': nan, 'permitted': ('SA', 'MFL', 'PCS', 'GSH', 'O', '-999', '-888')}}])>,\n",
       " 532: <bound method ValidationError.errors of ValidationError(model='PWS_Inventory', errors=[{'loc': ('Latitude',), 'msg': 'ensure this value is greater than or equal to 39.999998', 'type': 'value_error.number.not_ge', 'ctx': {'limit_value': 39.999998}}, {'loc': ('Longitude',), 'msg': 'ensure this value is greater than or equal to -104.053514', 'type': 'value_error.number.not_ge', 'ctx': {'limit_value': -104.053514}}, {'loc': ('LocationDerivationCode',), 'msg': \"unexpected value; permitted: 'SA', 'MFL', 'PCS', 'GSH', 'O', '-999', '-888'\", 'type': 'value_error.const', 'ctx': {'given': nan, 'permitted': ('SA', 'MFL', 'PCS', 'GSH', 'O', '-999', '-888')}}])>,\n",
       " 550: <bound method ValidationError.errors of ValidationError(model='PWS_Inventory', errors=[{'loc': ('Latitude',), 'msg': 'ensure this value is greater than or equal to 39.999998', 'type': 'value_error.number.not_ge', 'ctx': {'limit_value': 39.999998}}, {'loc': ('Longitude',), 'msg': 'ensure this value is greater than or equal to -104.053514', 'type': 'value_error.number.not_ge', 'ctx': {'limit_value': -104.053514}}, {'loc': ('LocationDerivationCode',), 'msg': \"unexpected value; permitted: 'SA', 'MFL', 'PCS', 'GSH', 'O', '-999', '-888'\", 'type': 'value_error.const', 'ctx': {'given': nan, 'permitted': ('SA', 'MFL', 'PCS', 'GSH', 'O', '-999', '-888')}}])>,\n",
       " 560: <bound method ValidationError.errors of ValidationError(model='PWS_Inventory', errors=[{'loc': ('Latitude',), 'msg': 'ensure this value is greater than or equal to 39.999998', 'type': 'value_error.number.not_ge', 'ctx': {'limit_value': 39.999998}}, {'loc': ('Longitude',), 'msg': 'ensure this value is greater than or equal to -104.053514', 'type': 'value_error.number.not_ge', 'ctx': {'limit_value': -104.053514}}, {'loc': ('LocationDerivationCode',), 'msg': \"unexpected value; permitted: 'SA', 'MFL', 'PCS', 'GSH', 'O', '-999', '-888'\", 'type': 'value_error.const', 'ctx': {'given': nan, 'permitted': ('SA', 'MFL', 'PCS', 'GSH', 'O', '-999', '-888')}}])>,\n",
       " 565: <bound method ValidationError.errors of ValidationError(model='PWS_Inventory', errors=[{'loc': ('Latitude',), 'msg': 'ensure this value is greater than or equal to 39.999998', 'type': 'value_error.number.not_ge', 'ctx': {'limit_value': 39.999998}}, {'loc': ('Longitude',), 'msg': 'ensure this value is greater than or equal to -104.053514', 'type': 'value_error.number.not_ge', 'ctx': {'limit_value': -104.053514}}, {'loc': ('LocationDerivationCode',), 'msg': \"unexpected value; permitted: 'SA', 'MFL', 'PCS', 'GSH', 'O', '-999', '-888'\", 'type': 'value_error.const', 'ctx': {'given': nan, 'permitted': ('SA', 'MFL', 'PCS', 'GSH', 'O', '-999', '-888')}}])>,\n",
       " 573: <bound method ValidationError.errors of ValidationError(model='PWS_Inventory', errors=[{'loc': ('Latitude',), 'msg': 'ensure this value is greater than or equal to 39.999998', 'type': 'value_error.number.not_ge', 'ctx': {'limit_value': 39.999998}}, {'loc': ('Longitude',), 'msg': 'ensure this value is greater than or equal to -104.053514', 'type': 'value_error.number.not_ge', 'ctx': {'limit_value': -104.053514}}, {'loc': ('LocationDerivationCode',), 'msg': \"unexpected value; permitted: 'SA', 'MFL', 'PCS', 'GSH', 'O', '-999', '-888'\", 'type': 'value_error.const', 'ctx': {'given': nan, 'permitted': ('SA', 'MFL', 'PCS', 'GSH', 'O', '-999', '-888')}}])>,\n",
       " 583: <bound method ValidationError.errors of ValidationError(model='PWS_Inventory', errors=[{'loc': ('Latitude',), 'msg': 'ensure this value is greater than or equal to 39.999998', 'type': 'value_error.number.not_ge', 'ctx': {'limit_value': 39.999998}}, {'loc': ('Longitude',), 'msg': 'ensure this value is greater than or equal to -104.053514', 'type': 'value_error.number.not_ge', 'ctx': {'limit_value': -104.053514}}, {'loc': ('LocationDerivationCode',), 'msg': \"unexpected value; permitted: 'SA', 'MFL', 'PCS', 'GSH', 'O', '-999', '-888'\", 'type': 'value_error.const', 'ctx': {'given': nan, 'permitted': ('SA', 'MFL', 'PCS', 'GSH', 'O', '-999', '-888')}}])>,\n",
       " 585: <bound method ValidationError.errors of ValidationError(model='PWS_Inventory', errors=[{'loc': ('Latitude',), 'msg': 'ensure this value is greater than or equal to 39.999998', 'type': 'value_error.number.not_ge', 'ctx': {'limit_value': 39.999998}}, {'loc': ('Longitude',), 'msg': 'ensure this value is greater than or equal to -104.053514', 'type': 'value_error.number.not_ge', 'ctx': {'limit_value': -104.053514}}, {'loc': ('LocationDerivationCode',), 'msg': \"unexpected value; permitted: 'SA', 'MFL', 'PCS', 'GSH', 'O', '-999', '-888'\", 'type': 'value_error.const', 'ctx': {'given': nan, 'permitted': ('SA', 'MFL', 'PCS', 'GSH', 'O', '-999', '-888')}}])>}"
      ]
     },
     "execution_count": 17,
     "metadata": {},
     "output_type": "execute_result"
    }
   ],
   "source": [
    "invalid_rows"
   ]
  },
  {
   "cell_type": "code",
   "execution_count": 18,
   "metadata": {},
   "outputs": [],
   "source": [
    "# Take the errorous rows of the inventory dataframe from key values in invalid_rows dictionary\n",
    "errorous_rows = inventory[inventory['RowIdentifier'].isin(invalid_rows.keys())]"
   ]
  },
  {
   "cell_type": "code",
   "execution_count": 19,
   "metadata": {},
   "outputs": [
    {
     "data": {
      "text/html": [
       "<div>\n",
       "<style scoped>\n",
       "    .dataframe tbody tr th:only-of-type {\n",
       "        vertical-align: middle;\n",
       "    }\n",
       "\n",
       "    .dataframe tbody tr th {\n",
       "        vertical-align: top;\n",
       "    }\n",
       "\n",
       "    .dataframe thead th {\n",
       "        text-align: right;\n",
       "    }\n",
       "</style>\n",
       "<table border=\"1\" class=\"dataframe\">\n",
       "  <thead>\n",
       "    <tr style=\"text-align: right;\">\n",
       "      <th></th>\n",
       "      <th>RowIdentifier</th>\n",
       "      <th>StateFIPSCode</th>\n",
       "      <th>PWSIDNumber</th>\n",
       "      <th>YearAssociatedTo</th>\n",
       "      <th>YearPulled</th>\n",
       "      <th>PWSName</th>\n",
       "      <th>PrincipalCountyServedFIPS</th>\n",
       "      <th>PrincipalCityFeatureID</th>\n",
       "      <th>TotalConnections</th>\n",
       "      <th>SystemPopulation</th>\n",
       "      <th>PrimarySourceCode</th>\n",
       "      <th>Latitude</th>\n",
       "      <th>Longitude</th>\n",
       "      <th>LocationDerivationCode</th>\n",
       "    </tr>\n",
       "  </thead>\n",
       "  <tbody>\n",
       "    <tr>\n",
       "      <th>47</th>\n",
       "      <td>47</td>\n",
       "      <td>31</td>\n",
       "      <td>NE3110910</td>\n",
       "      <td>2022</td>\n",
       "      <td>2023</td>\n",
       "      <td>BENNET, VILLAGE OF</td>\n",
       "      <td>31109</td>\n",
       "      <td>-888</td>\n",
       "      <td>428</td>\n",
       "      <td>1084</td>\n",
       "      <td>GWP</td>\n",
       "      <td>NaN</td>\n",
       "      <td>NaN</td>\n",
       "      <td>NaN</td>\n",
       "    </tr>\n",
       "    <tr>\n",
       "      <th>49</th>\n",
       "      <td>49</td>\n",
       "      <td>31</td>\n",
       "      <td>NE3121227</td>\n",
       "      <td>2022</td>\n",
       "      <td>2023</td>\n",
       "      <td>BIC JOINT WATER AGENCY</td>\n",
       "      <td>31065</td>\n",
       "      <td>827204</td>\n",
       "      <td>3</td>\n",
       "      <td>355</td>\n",
       "      <td>GW</td>\n",
       "      <td>NaN</td>\n",
       "      <td>NaN</td>\n",
       "      <td>NaN</td>\n",
       "    </tr>\n",
       "    <tr>\n",
       "      <th>127</th>\n",
       "      <td>127</td>\n",
       "      <td>31</td>\n",
       "      <td>NE3121429</td>\n",
       "      <td>2022</td>\n",
       "      <td>2023</td>\n",
       "      <td>COTTONWOOD TERRACE</td>\n",
       "      <td>31111</td>\n",
       "      <td>831719</td>\n",
       "      <td>243</td>\n",
       "      <td>550</td>\n",
       "      <td>GWP</td>\n",
       "      <td>NaN</td>\n",
       "      <td>NaN</td>\n",
       "      <td>NaN</td>\n",
       "    </tr>\n",
       "    <tr>\n",
       "      <th>138</th>\n",
       "      <td>138</td>\n",
       "      <td>31</td>\n",
       "      <td>NE3110704</td>\n",
       "      <td>2022</td>\n",
       "      <td>2023</td>\n",
       "      <td>CROFTON, CITY OF</td>\n",
       "      <td>31107</td>\n",
       "      <td>828463</td>\n",
       "      <td>368</td>\n",
       "      <td>754</td>\n",
       "      <td>SWP</td>\n",
       "      <td>NaN</td>\n",
       "      <td>NaN</td>\n",
       "      <td>NaN</td>\n",
       "    </tr>\n",
       "    <tr>\n",
       "      <th>139</th>\n",
       "      <td>139</td>\n",
       "      <td>31</td>\n",
       "      <td>NE3120824</td>\n",
       "      <td>2022</td>\n",
       "      <td>2023</td>\n",
       "      <td>CROOKED CREEK WATER SYSTEM</td>\n",
       "      <td>31109</td>\n",
       "      <td>837279</td>\n",
       "      <td>33</td>\n",
       "      <td>64</td>\n",
       "      <td>GW</td>\n",
       "      <td>NaN</td>\n",
       "      <td>NaN</td>\n",
       "      <td>NaN</td>\n",
       "    </tr>\n",
       "    <tr>\n",
       "      <th>180</th>\n",
       "      <td>180</td>\n",
       "      <td>31</td>\n",
       "      <td>NE3121485</td>\n",
       "      <td>2022</td>\n",
       "      <td>2023</td>\n",
       "      <td>EAGLE MHC</td>\n",
       "      <td>31025</td>\n",
       "      <td>828917</td>\n",
       "      <td>53</td>\n",
       "      <td>97</td>\n",
       "      <td>GWP</td>\n",
       "      <td>NaN</td>\n",
       "      <td>NaN</td>\n",
       "      <td>NaN</td>\n",
       "    </tr>\n",
       "    <tr>\n",
       "      <th>279</th>\n",
       "      <td>279</td>\n",
       "      <td>31</td>\n",
       "      <td>NE3121481</td>\n",
       "      <td>2022</td>\n",
       "      <td>2023</td>\n",
       "      <td>K &amp; K MANUFACTURED HOME COMMUNITY</td>\n",
       "      <td>31001</td>\n",
       "      <td>829848</td>\n",
       "      <td>50</td>\n",
       "      <td>180</td>\n",
       "      <td>GWP</td>\n",
       "      <td>NaN</td>\n",
       "      <td>NaN</td>\n",
       "      <td>NaN</td>\n",
       "    </tr>\n",
       "    <tr>\n",
       "      <th>311</th>\n",
       "      <td>311</td>\n",
       "      <td>31</td>\n",
       "      <td>NE3121368</td>\n",
       "      <td>2022</td>\n",
       "      <td>2023</td>\n",
       "      <td>LOWER BIG BLUE NRD - WYMORE</td>\n",
       "      <td>31067</td>\n",
       "      <td>834893</td>\n",
       "      <td>228</td>\n",
       "      <td>856</td>\n",
       "      <td>GWP</td>\n",
       "      <td>NaN</td>\n",
       "      <td>NaN</td>\n",
       "      <td>NaN</td>\n",
       "    </tr>\n",
       "    <tr>\n",
       "      <th>328</th>\n",
       "      <td>328</td>\n",
       "      <td>31</td>\n",
       "      <td>NE3121486</td>\n",
       "      <td>2022</td>\n",
       "      <td>2023</td>\n",
       "      <td>MARTINVIEW MHP</td>\n",
       "      <td>31153</td>\n",
       "      <td>827304</td>\n",
       "      <td>94</td>\n",
       "      <td>385</td>\n",
       "      <td>SWP</td>\n",
       "      <td>NaN</td>\n",
       "      <td>NaN</td>\n",
       "      <td>NaN</td>\n",
       "    </tr>\n",
       "    <tr>\n",
       "      <th>338</th>\n",
       "      <td>338</td>\n",
       "      <td>31</td>\n",
       "      <td>NE3121363</td>\n",
       "      <td>2022</td>\n",
       "      <td>2023</td>\n",
       "      <td>MEADOWBROOK ESTATES WATER SYSTEM</td>\n",
       "      <td>31055</td>\n",
       "      <td>835483</td>\n",
       "      <td>266</td>\n",
       "      <td>675</td>\n",
       "      <td>SWP</td>\n",
       "      <td>NaN</td>\n",
       "      <td>NaN</td>\n",
       "      <td>NaN</td>\n",
       "    </tr>\n",
       "    <tr>\n",
       "      <th>365</th>\n",
       "      <td>365</td>\n",
       "      <td>31</td>\n",
       "      <td>NE3121478</td>\n",
       "      <td>2022</td>\n",
       "      <td>2023</td>\n",
       "      <td>NEBRASKAN MANUFACTURED HOME COMMUNITY</td>\n",
       "      <td>31001</td>\n",
       "      <td>829848</td>\n",
       "      <td>61</td>\n",
       "      <td>108</td>\n",
       "      <td>GWP</td>\n",
       "      <td>NaN</td>\n",
       "      <td>NaN</td>\n",
       "      <td>NaN</td>\n",
       "    </tr>\n",
       "    <tr>\n",
       "      <th>384</th>\n",
       "      <td>384</td>\n",
       "      <td>31</td>\n",
       "      <td>NE3102704</td>\n",
       "      <td>2022</td>\n",
       "      <td>2023</td>\n",
       "      <td>OBERT, VILLAGE OF</td>\n",
       "      <td>31027</td>\n",
       "      <td>831824</td>\n",
       "      <td>14</td>\n",
       "      <td>58</td>\n",
       "      <td>SWP</td>\n",
       "      <td>NaN</td>\n",
       "      <td>NaN</td>\n",
       "      <td>NaN</td>\n",
       "    </tr>\n",
       "    <tr>\n",
       "      <th>399</th>\n",
       "      <td>399</td>\n",
       "      <td>31</td>\n",
       "      <td>NE3113109</td>\n",
       "      <td>2022</td>\n",
       "      <td>2023</td>\n",
       "      <td>OTOE CO RWD 1</td>\n",
       "      <td>31131</td>\n",
       "      <td>-888</td>\n",
       "      <td>684</td>\n",
       "      <td>1300</td>\n",
       "      <td>GUP</td>\n",
       "      <td>NaN</td>\n",
       "      <td>NaN</td>\n",
       "      <td>NaN</td>\n",
       "    </tr>\n",
       "    <tr>\n",
       "      <th>400</th>\n",
       "      <td>400</td>\n",
       "      <td>31</td>\n",
       "      <td>NE3121382</td>\n",
       "      <td>2022</td>\n",
       "      <td>2023</td>\n",
       "      <td>OTOE CO. RWD #3 - LOUISVILLE</td>\n",
       "      <td>31025</td>\n",
       "      <td>834012</td>\n",
       "      <td>286</td>\n",
       "      <td>630</td>\n",
       "      <td>GWP</td>\n",
       "      <td>NaN</td>\n",
       "      <td>NaN</td>\n",
       "      <td>NaN</td>\n",
       "    </tr>\n",
       "    <tr>\n",
       "      <th>411</th>\n",
       "      <td>411</td>\n",
       "      <td>31</td>\n",
       "      <td>NE3113304</td>\n",
       "      <td>2022</td>\n",
       "      <td>2023</td>\n",
       "      <td>PAWNEE CO RWD #1</td>\n",
       "      <td>31133</td>\n",
       "      <td>-888</td>\n",
       "      <td>486</td>\n",
       "      <td>1500</td>\n",
       "      <td>GW</td>\n",
       "      <td>NaN</td>\n",
       "      <td>NaN</td>\n",
       "      <td>NaN</td>\n",
       "    </tr>\n",
       "    <tr>\n",
       "      <th>412</th>\n",
       "      <td>412</td>\n",
       "      <td>31</td>\n",
       "      <td>NE3121445</td>\n",
       "      <td>2022</td>\n",
       "      <td>2023</td>\n",
       "      <td>PAWNEE CO RWD #2</td>\n",
       "      <td>31133</td>\n",
       "      <td>-888</td>\n",
       "      <td>4</td>\n",
       "      <td>40</td>\n",
       "      <td>GWP</td>\n",
       "      <td>NaN</td>\n",
       "      <td>NaN</td>\n",
       "      <td>NaN</td>\n",
       "    </tr>\n",
       "    <tr>\n",
       "      <th>439</th>\n",
       "      <td>439</td>\n",
       "      <td>31</td>\n",
       "      <td>NE3121381</td>\n",
       "      <td>2022</td>\n",
       "      <td>2023</td>\n",
       "      <td>RAVEN'S NEST</td>\n",
       "      <td>31025</td>\n",
       "      <td>830916</td>\n",
       "      <td>25</td>\n",
       "      <td>70</td>\n",
       "      <td>GW</td>\n",
       "      <td>NaN</td>\n",
       "      <td>NaN</td>\n",
       "      <td>NaN</td>\n",
       "    </tr>\n",
       "    <tr>\n",
       "      <th>446</th>\n",
       "      <td>446</td>\n",
       "      <td>31</td>\n",
       "      <td>NE3114704</td>\n",
       "      <td>2022</td>\n",
       "      <td>2023</td>\n",
       "      <td>RICHARDSON CO RWD 2</td>\n",
       "      <td>31147</td>\n",
       "      <td>829265</td>\n",
       "      <td>233</td>\n",
       "      <td>915</td>\n",
       "      <td>GWP</td>\n",
       "      <td>NaN</td>\n",
       "      <td>NaN</td>\n",
       "      <td>NaN</td>\n",
       "    </tr>\n",
       "    <tr>\n",
       "      <th>447</th>\n",
       "      <td>447</td>\n",
       "      <td>31</td>\n",
       "      <td>NE3121527</td>\n",
       "      <td>2022</td>\n",
       "      <td>2023</td>\n",
       "      <td>RIO VISTA MHP</td>\n",
       "      <td>31055</td>\n",
       "      <td>835483</td>\n",
       "      <td>40</td>\n",
       "      <td>100</td>\n",
       "      <td>SWP</td>\n",
       "      <td>NaN</td>\n",
       "      <td>NaN</td>\n",
       "      <td>NaN</td>\n",
       "    </tr>\n",
       "    <tr>\n",
       "      <th>462</th>\n",
       "      <td>462</td>\n",
       "      <td>31</td>\n",
       "      <td>NE3121401</td>\n",
       "      <td>2022</td>\n",
       "      <td>2023</td>\n",
       "      <td>SANDY POINTE LAKE DEVELOPMENT</td>\n",
       "      <td>31155</td>\n",
       "      <td>827094</td>\n",
       "      <td>35</td>\n",
       "      <td>100</td>\n",
       "      <td>GW</td>\n",
       "      <td>NaN</td>\n",
       "      <td>NaN</td>\n",
       "      <td>NaN</td>\n",
       "    </tr>\n",
       "    <tr>\n",
       "      <th>502</th>\n",
       "      <td>502</td>\n",
       "      <td>31</td>\n",
       "      <td>NE3120175</td>\n",
       "      <td>2022</td>\n",
       "      <td>2023</td>\n",
       "      <td>ST HELENA, VILLAGE OF</td>\n",
       "      <td>31027</td>\n",
       "      <td>-888</td>\n",
       "      <td>43</td>\n",
       "      <td>89</td>\n",
       "      <td>SWP</td>\n",
       "      <td>NaN</td>\n",
       "      <td>NaN</td>\n",
       "      <td>NaN</td>\n",
       "    </tr>\n",
       "    <tr>\n",
       "      <th>532</th>\n",
       "      <td>532</td>\n",
       "      <td>31</td>\n",
       "      <td>NE3120301</td>\n",
       "      <td>2022</td>\n",
       "      <td>2023</td>\n",
       "      <td>THURSTON CO RURAL WATER</td>\n",
       "      <td>31173</td>\n",
       "      <td>832034</td>\n",
       "      <td>152</td>\n",
       "      <td>448</td>\n",
       "      <td>GWP</td>\n",
       "      <td>NaN</td>\n",
       "      <td>NaN</td>\n",
       "      <td>NaN</td>\n",
       "    </tr>\n",
       "    <tr>\n",
       "      <th>550</th>\n",
       "      <td>550</td>\n",
       "      <td>31</td>\n",
       "      <td>NE3110713</td>\n",
       "      <td>2022</td>\n",
       "      <td>2023</td>\n",
       "      <td>VERDIGRE, VILLAGE OF</td>\n",
       "      <td>31107</td>\n",
       "      <td>834365</td>\n",
       "      <td>303</td>\n",
       "      <td>530</td>\n",
       "      <td>GWP</td>\n",
       "      <td>NaN</td>\n",
       "      <td>NaN</td>\n",
       "      <td>NaN</td>\n",
       "    </tr>\n",
       "    <tr>\n",
       "      <th>560</th>\n",
       "      <td>560</td>\n",
       "      <td>31</td>\n",
       "      <td>NE3121518</td>\n",
       "      <td>2022</td>\n",
       "      <td>2023</td>\n",
       "      <td>WASHINGTON TERRACE LLC</td>\n",
       "      <td>31153</td>\n",
       "      <td>827304</td>\n",
       "      <td>106</td>\n",
       "      <td>223</td>\n",
       "      <td>SWP</td>\n",
       "      <td>NaN</td>\n",
       "      <td>NaN</td>\n",
       "      <td>NaN</td>\n",
       "    </tr>\n",
       "    <tr>\n",
       "      <th>565</th>\n",
       "      <td>565</td>\n",
       "      <td>31</td>\n",
       "      <td>NE3102901</td>\n",
       "      <td>2022</td>\n",
       "      <td>2023</td>\n",
       "      <td>WAUNETA, VILLAGE OF</td>\n",
       "      <td>31029</td>\n",
       "      <td>834507</td>\n",
       "      <td>364</td>\n",
       "      <td>577</td>\n",
       "      <td>GW</td>\n",
       "      <td>NaN</td>\n",
       "      <td>NaN</td>\n",
       "      <td>NaN</td>\n",
       "    </tr>\n",
       "    <tr>\n",
       "      <th>573</th>\n",
       "      <td>573</td>\n",
       "      <td>31</td>\n",
       "      <td>NE3121406</td>\n",
       "      <td>2022</td>\n",
       "      <td>2023</td>\n",
       "      <td>WEST SIDE TRAILER COURT</td>\n",
       "      <td>31019</td>\n",
       "      <td>830442</td>\n",
       "      <td>25</td>\n",
       "      <td>25</td>\n",
       "      <td>GW</td>\n",
       "      <td>NaN</td>\n",
       "      <td>NaN</td>\n",
       "      <td>NaN</td>\n",
       "    </tr>\n",
       "    <tr>\n",
       "      <th>583</th>\n",
       "      <td>583</td>\n",
       "      <td>31</td>\n",
       "      <td>NE3121434</td>\n",
       "      <td>2022</td>\n",
       "      <td>2023</td>\n",
       "      <td>WINNEBAGO TRIBL FACILITIES-MISSION NORTH</td>\n",
       "      <td>31173</td>\n",
       "      <td>834815</td>\n",
       "      <td>33</td>\n",
       "      <td>145</td>\n",
       "      <td>GWP</td>\n",
       "      <td>NaN</td>\n",
       "      <td>NaN</td>\n",
       "      <td>NaN</td>\n",
       "    </tr>\n",
       "    <tr>\n",
       "      <th>585</th>\n",
       "      <td>585</td>\n",
       "      <td>31</td>\n",
       "      <td>NE3110714</td>\n",
       "      <td>2022</td>\n",
       "      <td>2023</td>\n",
       "      <td>WINNETOON, VILLAGE OF</td>\n",
       "      <td>31107</td>\n",
       "      <td>834820</td>\n",
       "      <td>35</td>\n",
       "      <td>75</td>\n",
       "      <td>GWP</td>\n",
       "      <td>NaN</td>\n",
       "      <td>NaN</td>\n",
       "      <td>NaN</td>\n",
       "    </tr>\n",
       "  </tbody>\n",
       "</table>\n",
       "</div>"
      ],
      "text/plain": [
       "     RowIdentifier  StateFIPSCode PWSIDNumber  YearAssociatedTo  YearPulled  \\\n",
       "47              47             31   NE3110910              2022        2023   \n",
       "49              49             31   NE3121227              2022        2023   \n",
       "127            127             31   NE3121429              2022        2023   \n",
       "138            138             31   NE3110704              2022        2023   \n",
       "139            139             31   NE3120824              2022        2023   \n",
       "180            180             31   NE3121485              2022        2023   \n",
       "279            279             31   NE3121481              2022        2023   \n",
       "311            311             31   NE3121368              2022        2023   \n",
       "328            328             31   NE3121486              2022        2023   \n",
       "338            338             31   NE3121363              2022        2023   \n",
       "365            365             31   NE3121478              2022        2023   \n",
       "384            384             31   NE3102704              2022        2023   \n",
       "399            399             31   NE3113109              2022        2023   \n",
       "400            400             31   NE3121382              2022        2023   \n",
       "411            411             31   NE3113304              2022        2023   \n",
       "412            412             31   NE3121445              2022        2023   \n",
       "439            439             31   NE3121381              2022        2023   \n",
       "446            446             31   NE3114704              2022        2023   \n",
       "447            447             31   NE3121527              2022        2023   \n",
       "462            462             31   NE3121401              2022        2023   \n",
       "502            502             31   NE3120175              2022        2023   \n",
       "532            532             31   NE3120301              2022        2023   \n",
       "550            550             31   NE3110713              2022        2023   \n",
       "560            560             31   NE3121518              2022        2023   \n",
       "565            565             31   NE3102901              2022        2023   \n",
       "573            573             31   NE3121406              2022        2023   \n",
       "583            583             31   NE3121434              2022        2023   \n",
       "585            585             31   NE3110714              2022        2023   \n",
       "\n",
       "                                      PWSName  PrincipalCountyServedFIPS  \\\n",
       "47                         BENNET, VILLAGE OF                      31109   \n",
       "49                     BIC JOINT WATER AGENCY                      31065   \n",
       "127                        COTTONWOOD TERRACE                      31111   \n",
       "138                          CROFTON, CITY OF                      31107   \n",
       "139                CROOKED CREEK WATER SYSTEM                      31109   \n",
       "180                                 EAGLE MHC                      31025   \n",
       "279         K & K MANUFACTURED HOME COMMUNITY                      31001   \n",
       "311               LOWER BIG BLUE NRD - WYMORE                      31067   \n",
       "328                            MARTINVIEW MHP                      31153   \n",
       "338          MEADOWBROOK ESTATES WATER SYSTEM                      31055   \n",
       "365     NEBRASKAN MANUFACTURED HOME COMMUNITY                      31001   \n",
       "384                         OBERT, VILLAGE OF                      31027   \n",
       "399                             OTOE CO RWD 1                      31131   \n",
       "400              OTOE CO. RWD #3 - LOUISVILLE                      31025   \n",
       "411                          PAWNEE CO RWD #1                      31133   \n",
       "412                          PAWNEE CO RWD #2                      31133   \n",
       "439                              RAVEN'S NEST                      31025   \n",
       "446                       RICHARDSON CO RWD 2                      31147   \n",
       "447                             RIO VISTA MHP                      31055   \n",
       "462             SANDY POINTE LAKE DEVELOPMENT                      31155   \n",
       "502                     ST HELENA, VILLAGE OF                      31027   \n",
       "532                   THURSTON CO RURAL WATER                      31173   \n",
       "550                      VERDIGRE, VILLAGE OF                      31107   \n",
       "560                    WASHINGTON TERRACE LLC                      31153   \n",
       "565                       WAUNETA, VILLAGE OF                      31029   \n",
       "573                   WEST SIDE TRAILER COURT                      31019   \n",
       "583  WINNEBAGO TRIBL FACILITIES-MISSION NORTH                      31173   \n",
       "585                     WINNETOON, VILLAGE OF                      31107   \n",
       "\n",
       "     PrincipalCityFeatureID  TotalConnections  SystemPopulation  \\\n",
       "47                     -888               428              1084   \n",
       "49                   827204                 3               355   \n",
       "127                  831719               243               550   \n",
       "138                  828463               368               754   \n",
       "139                  837279                33                64   \n",
       "180                  828917                53                97   \n",
       "279                  829848                50               180   \n",
       "311                  834893               228               856   \n",
       "328                  827304                94               385   \n",
       "338                  835483               266               675   \n",
       "365                  829848                61               108   \n",
       "384                  831824                14                58   \n",
       "399                    -888               684              1300   \n",
       "400                  834012               286               630   \n",
       "411                    -888               486              1500   \n",
       "412                    -888                 4                40   \n",
       "439                  830916                25                70   \n",
       "446                  829265               233               915   \n",
       "447                  835483                40               100   \n",
       "462                  827094                35               100   \n",
       "502                    -888                43                89   \n",
       "532                  832034               152               448   \n",
       "550                  834365               303               530   \n",
       "560                  827304               106               223   \n",
       "565                  834507               364               577   \n",
       "573                  830442                25                25   \n",
       "583                  834815                33               145   \n",
       "585                  834820                35                75   \n",
       "\n",
       "    PrimarySourceCode  Latitude  Longitude LocationDerivationCode  \n",
       "47                GWP       NaN        NaN                    NaN  \n",
       "49                 GW       NaN        NaN                    NaN  \n",
       "127               GWP       NaN        NaN                    NaN  \n",
       "138               SWP       NaN        NaN                    NaN  \n",
       "139                GW       NaN        NaN                    NaN  \n",
       "180               GWP       NaN        NaN                    NaN  \n",
       "279               GWP       NaN        NaN                    NaN  \n",
       "311               GWP       NaN        NaN                    NaN  \n",
       "328               SWP       NaN        NaN                    NaN  \n",
       "338               SWP       NaN        NaN                    NaN  \n",
       "365               GWP       NaN        NaN                    NaN  \n",
       "384               SWP       NaN        NaN                    NaN  \n",
       "399               GUP       NaN        NaN                    NaN  \n",
       "400               GWP       NaN        NaN                    NaN  \n",
       "411                GW       NaN        NaN                    NaN  \n",
       "412               GWP       NaN        NaN                    NaN  \n",
       "439                GW       NaN        NaN                    NaN  \n",
       "446               GWP       NaN        NaN                    NaN  \n",
       "447               SWP       NaN        NaN                    NaN  \n",
       "462                GW       NaN        NaN                    NaN  \n",
       "502               SWP       NaN        NaN                    NaN  \n",
       "532               GWP       NaN        NaN                    NaN  \n",
       "550               GWP       NaN        NaN                    NaN  \n",
       "560               SWP       NaN        NaN                    NaN  \n",
       "565                GW       NaN        NaN                    NaN  \n",
       "573                GW       NaN        NaN                    NaN  \n",
       "583               GWP       NaN        NaN                    NaN  \n",
       "585               GWP       NaN        NaN                    NaN  "
      ]
     },
     "execution_count": 19,
     "metadata": {},
     "output_type": "execute_result"
    }
   ],
   "source": [
    "errorous_rows"
   ]
  },
  {
   "cell_type": "markdown",
   "metadata": {},
   "source": [
    "## Checking the Sampling\n",
    "This is the latest file (The unaggregated)"
   ]
  },
  {
   "cell_type": "code",
   "execution_count": 2,
   "metadata": {},
   "outputs": [],
   "source": [
    "import pandas as pd\n",
    "sampling = pd.read_excel('/Users/babak.jfard/projects/ETHTracking/Data/Water_Data/PWSSampleResults_unagregated_20230404.xlsx')"
   ]
  },
  {
   "cell_type": "code",
   "execution_count": 4,
   "metadata": {},
   "outputs": [
    {
     "data": {
      "text/plain": [
       "Index(['PWSIDNumber', 'Year', 'AnalyteName', 'AnalyteCode',\n",
       "       'ConcentrationUnits', 'Concentration', 'DateSampled', 'SamplePointID',\n",
       "       'DetectionLimit', 'DetectionLimitUom', 'NonDetectFlag'],\n",
       "      dtype='object')"
      ]
     },
     "execution_count": 4,
     "metadata": {},
     "output_type": "execute_result"
    }
   ],
   "source": [
    "sampling.columns"
   ]
  },
  {
   "cell_type": "code",
   "execution_count": 29,
   "metadata": {},
   "outputs": [],
   "source": [
    "# check for duplicates, and add them into a separate dataframe\n",
    "\n",
    "duplicates = sampling[sampling.duplicated(subset=['PWSIDNumber', 'Year', 'AnalyteCode', 'DateSampled', 'SamplePointID'], keep=False)]"
   ]
  },
  {
   "cell_type": "code",
   "execution_count": 11,
   "metadata": {},
   "outputs": [],
   "source": [
    "duplicates.to_excel('/Users/babak.jfard/projects/ETHTracking/Data/Water_Data/duplicates.xlsx')"
   ]
  },
  {
   "cell_type": "code",
   "execution_count": 30,
   "metadata": {},
   "outputs": [
    {
     "data": {
      "text/plain": [
       "Index(['PWSIDNumber', 'Year', 'AnalyteName', 'AnalyteCode',\n",
       "       'ConcentrationUnits', 'Concentration', 'DateSampled', 'SamplePointID',\n",
       "       'DetectionLimit', 'DetectionLimitUom', 'NonDetectFlag'],\n",
       "      dtype='object')"
      ]
     },
     "execution_count": 30,
     "metadata": {},
     "output_type": "execute_result"
    }
   ],
   "source": [
    "sampling.columns"
   ]
  },
  {
   "cell_type": "code",
   "execution_count": 31,
   "metadata": {},
   "outputs": [
    {
     "data": {
      "text/plain": [
       "dict_keys(['RowIdentifier', 'PWSIDNumber', 'Year', 'AnalyteCode', 'ConcentrationUnits', 'Concentration', 'DateSampled'])"
      ]
     },
     "execution_count": 31,
     "metadata": {},
     "output_type": "execute_result"
    }
   ],
   "source": [
    "Sampling.__fields__.keys()"
   ]
  },
  {
   "cell_type": "code",
   "execution_count": 6,
   "metadata": {},
   "outputs": [
    {
     "data": {
      "text/plain": [
       "1038    21928\n",
       "2050     7684\n",
       "2039     7684\n",
       "2987     6518\n",
       "2984     6518\n",
       "1005     6268\n",
       "2950     3457\n",
       "2456     3416\n",
       "4010     3093\n",
       "4006     1503\n",
       "1041       17\n",
       "1040       17\n",
       "Name: AnalyteCode, dtype: int64"
      ]
     },
     "execution_count": 6,
     "metadata": {},
     "output_type": "execute_result"
    }
   ],
   "source": [
    "sampling.AnalyteCode.value_counts()"
   ]
  },
  {
   "cell_type": "code",
   "execution_count": 9,
   "metadata": {},
   "outputs": [
    {
     "data": {
      "text/html": [
       "<div>\n",
       "<style scoped>\n",
       "    .dataframe tbody tr th:only-of-type {\n",
       "        vertical-align: middle;\n",
       "    }\n",
       "\n",
       "    .dataframe tbody tr th {\n",
       "        vertical-align: top;\n",
       "    }\n",
       "\n",
       "    .dataframe thead th {\n",
       "        text-align: right;\n",
       "    }\n",
       "</style>\n",
       "<table border=\"1\" class=\"dataframe\">\n",
       "  <thead>\n",
       "    <tr style=\"text-align: right;\">\n",
       "      <th></th>\n",
       "      <th>Number of Rows</th>\n",
       "    </tr>\n",
       "  </thead>\n",
       "  <tbody>\n",
       "    <tr>\n",
       "      <th>2012</th>\n",
       "      <td>9069</td>\n",
       "    </tr>\n",
       "    <tr>\n",
       "      <th>2018</th>\n",
       "      <td>7491</td>\n",
       "    </tr>\n",
       "    <tr>\n",
       "      <th>2015</th>\n",
       "      <td>7140</td>\n",
       "    </tr>\n",
       "    <tr>\n",
       "      <th>2013</th>\n",
       "      <td>6970</td>\n",
       "    </tr>\n",
       "    <tr>\n",
       "      <th>2016</th>\n",
       "      <td>6460</td>\n",
       "    </tr>\n",
       "    <tr>\n",
       "      <th>2021</th>\n",
       "      <td>6444</td>\n",
       "    </tr>\n",
       "    <tr>\n",
       "      <th>2019</th>\n",
       "      <td>6396</td>\n",
       "    </tr>\n",
       "    <tr>\n",
       "      <th>2017</th>\n",
       "      <td>6292</td>\n",
       "    </tr>\n",
       "    <tr>\n",
       "      <th>2020</th>\n",
       "      <td>5972</td>\n",
       "    </tr>\n",
       "    <tr>\n",
       "      <th>2014</th>\n",
       "      <td>5869</td>\n",
       "    </tr>\n",
       "  </tbody>\n",
       "</table>\n",
       "</div>"
      ],
      "text/plain": [
       "      Number of Rows\n",
       "2012            9069\n",
       "2018            7491\n",
       "2015            7140\n",
       "2013            6970\n",
       "2016            6460\n",
       "2021            6444\n",
       "2019            6396\n",
       "2017            6292\n",
       "2020            5972\n",
       "2014            5869"
      ]
     },
     "execution_count": 9,
     "metadata": {},
     "output_type": "execute_result"
    }
   ],
   "source": [
    "# count the number of rows for each year, adding heading to the output\n",
    "sampling.Year.value_counts().to_frame('Number of Rows')"
   ]
  },
  {
   "cell_type": "code",
   "execution_count": 32,
   "metadata": {},
   "outputs": [],
   "source": [
    "# For AnalyteCode Replace all 1038 values with 1040\n",
    "sampling['AnalyteCode'] = sampling['AnalyteCode'].replace(1038, 1040)\n",
    "\n",
    "# Delete all rows with 1041 as AnalyteCode, which are only NITRITE tests\n",
    "sampling = sampling[sampling['AnalyteCode'] != 1041] #Contained only 17 rows"
   ]
  },
  {
   "cell_type": "code",
   "execution_count": 33,
   "metadata": {},
   "outputs": [],
   "source": [
    "sampling['ConcentrationUnits'] = sampling['ConcentrationUnits'].str.lower()"
   ]
  },
  {
   "cell_type": "code",
   "execution_count": 34,
   "metadata": {},
   "outputs": [],
   "source": [
    "del_cols = list(set(sampling.columns) - set(Sampling.__fields__.keys()))\n",
    "\n",
    "# Remove the columns that are not in the Sampling validator\n",
    "sampling_validation = sampling.drop(columns=del_cols)\n",
    "\n",
    "sampling_validation.insert(0, 'RowIdentifier', sampling.index)"
   ]
  },
  {
   "cell_type": "code",
   "execution_count": 35,
   "metadata": {},
   "outputs": [
    {
     "name": "stdout",
     "output_type": "stream",
     "text": [
      "Index(['RowIdentifier', 'PWSIDNumber', 'Year', 'AnalyteCode',\n",
      "       'ConcentrationUnits', 'Concentration', 'DateSampled'],\n",
      "      dtype='object')\n",
      "dict_keys(['RowIdentifier', 'PWSIDNumber', 'Year', 'AnalyteCode', 'ConcentrationUnits', 'Concentration', 'DateSampled'])\n"
     ]
    }
   ],
   "source": [
    "print(sampling_validation.columns)\n",
    "print(Sampling.__fields__.keys())"
   ]
  },
  {
   "cell_type": "code",
   "execution_count": 36,
   "metadata": {},
   "outputs": [],
   "source": [
    "# change type of colum AnlyteCode to string\n",
    "sampling_validation['AnalyteCode'] = sampling_validation['AnalyteCode'].astype(str)"
   ]
  },
  {
   "cell_type": "code",
   "execution_count": 37,
   "metadata": {},
   "outputs": [],
   "source": [
    "# now validating the sampling dataframe\n",
    "# Doing the validation for each row as a PWS_Inventory object\n",
    "valid_rows_sampling = []\n",
    "# Creat a dictionary that contains the RowIdentifier of the invalid rows and the error message\n",
    "invalid_rows_sampling = {}\n",
    "for index, row in sampling_validation.iterrows():\n",
    "    \n",
    "    try:\n",
    "        Sampling(**row)\n",
    "        # If passeed, add RowIdentifier into valid_rows list\n",
    "        valid_rows_sampling.append(row['RowIdentifier'])\n",
    "\n",
    "    except ValidationError as e:\n",
    "        # If failed, add RowIdentifier and the error message into invalid_rows dictionary\n",
    "        invalid_rows_sampling[row['RowIdentifier']] = e.errors\n",
    "\n",
    "        #print(e)"
   ]
  },
  {
   "cell_type": "code",
   "execution_count": 38,
   "metadata": {},
   "outputs": [
    {
     "data": {
      "text/plain": [
       "{}"
      ]
     },
     "execution_count": 38,
     "metadata": {},
     "output_type": "execute_result"
    }
   ],
   "source": [
    "invalid_rows_sampling"
   ]
  },
  {
   "cell_type": "code",
   "execution_count": 65,
   "metadata": {},
   "outputs": [],
   "source": [
    "sampling.to_csv('/Users/babak.jfard/projects/ETHTracking/Data/Water_Data/Sample_results.csv', index=False)"
   ]
  },
  {
   "cell_type": "code",
   "execution_count": 57,
   "metadata": {},
   "outputs": [
    {
     "data": {
      "text/plain": [
       "1040    21945\n",
       "2050     7684\n",
       "2039     7684\n",
       "2987     6518\n",
       "2984     6518\n",
       "1005     6268\n",
       "2950     3457\n",
       "2456     3416\n",
       "4010     3093\n",
       "4006     1503\n",
       "Name: AnalyteCode, dtype: int64"
      ]
     },
     "execution_count": 57,
     "metadata": {},
     "output_type": "execute_result"
    }
   ],
   "source": [
    "# Looks like there are more undefined AnalyteCodes in the sampling dataframe\n",
    "# Let's see what they are\n",
    "sampling.AnalyteCode.value_counts()"
   ]
  },
  {
   "cell_type": "code",
   "execution_count": 64,
   "metadata": {},
   "outputs": [
    {
     "data": {
      "text/plain": [
       "typing.Literal['1005', '2050', '2456', '2950', '2039', '1040', '2987', '2984', '4010', '226', '228', '4006']"
      ]
     },
     "execution_count": 64,
     "metadata": {},
     "output_type": "execute_result"
    }
   ],
   "source": [
    "# What are allowable AnalyteCodes as defined in the Sampling class\n",
    "Sampling.__fields__['AnalyteCode'].type_\n"
   ]
  },
  {
   "cell_type": "markdown",
   "metadata": {},
   "source": [
    "### How to Aggregate into Sampling Results\n",
    "\n",
    "Each community water system:\n",
    "* annual mean and maz concentration of:\n",
    "\n",
    "--- arsenic, disinfection byproducts (HAA5 and TTHM), \n",
    "\n",
    "--- nitrates, \n",
    "\n",
    "--- atrazine, \n",
    "\n",
    "--- di(2-ethylhexyl) phthalate (DEHP), \n",
    "\n",
    "--- radium, \n",
    "\n",
    "--- tetrachloroethene (tetrachloroethylene) (PCE), \n",
    "\n",
    "--- trichloroethene (trichloroethylene) (TCE), and \n",
    "\n",
    "--- uranium\n",
    "\n",
    "\n",
    "* Mean concentration per quarter \n",
    "\n",
    "--- Nitrate\n",
    "\n",
    "---- Atrazine"
   ]
  },
  {
   "cell_type": "code",
   "execution_count": 22,
   "metadata": {},
   "outputs": [
    {
     "data": {
      "text/plain": [
       "{'NE3104308', 'NE3117304', 'NE3117903', 'NE3120358'}"
      ]
     },
     "execution_count": 22,
     "metadata": {},
     "output_type": "execute_result"
    }
   ],
   "source": [
    "set(inventory.PWSIDNumber.unique()) - set(sampling.PWSIDNumber.unique())"
   ]
  },
  {
   "cell_type": "code",
   "execution_count": 30,
   "metadata": {},
   "outputs": [
    {
     "data": {
      "text/plain": [
       "Index(['RowIdentifier', 'PWSIDNumber', 'Year', 'AnalyteCode',\n",
       "       'ConcentrationUnits', 'Concentration', 'DateSampled'],\n",
       "      dtype='object')"
      ]
     },
     "execution_count": 30,
     "metadata": {},
     "output_type": "execute_result"
    }
   ],
   "source": [
    "sampling.columns"
   ]
  },
  {
   "cell_type": "code",
   "execution_count": 33,
   "metadata": {},
   "outputs": [
    {
     "data": {
      "text/plain": [
       "2012    9069\n",
       "2018    7490\n",
       "2015    7139\n",
       "2013    6968\n",
       "2016    6460\n",
       "2021    6441\n",
       "2019    6396\n",
       "2017    6292\n",
       "2020    5963\n",
       "2014    5868\n",
       "Name: Year, dtype: int64"
      ]
     },
     "execution_count": 33,
     "metadata": {},
     "output_type": "execute_result"
    }
   ],
   "source": [
    "sampling.Year.value_counts()"
   ]
  },
  {
   "cell_type": "code",
   "execution_count": 35,
   "metadata": {},
   "outputs": [
    {
     "data": {
      "text/html": [
       "<div>\n",
       "<style scoped>\n",
       "    .dataframe tbody tr th:only-of-type {\n",
       "        vertical-align: middle;\n",
       "    }\n",
       "\n",
       "    .dataframe tbody tr th {\n",
       "        vertical-align: top;\n",
       "    }\n",
       "\n",
       "    .dataframe thead th {\n",
       "        text-align: right;\n",
       "    }\n",
       "</style>\n",
       "<table border=\"1\" class=\"dataframe\">\n",
       "  <thead>\n",
       "    <tr style=\"text-align: right;\">\n",
       "      <th></th>\n",
       "      <th>RowIdentifier</th>\n",
       "      <th>PWSIDNumber</th>\n",
       "      <th>Year</th>\n",
       "      <th>AnalyteCode</th>\n",
       "      <th>ConcentrationUnits</th>\n",
       "      <th>Concentration</th>\n",
       "      <th>DateSampled</th>\n",
       "    </tr>\n",
       "  </thead>\n",
       "  <tbody>\n",
       "    <tr>\n",
       "      <th>0</th>\n",
       "      <td>0</td>\n",
       "      <td>NE3103902</td>\n",
       "      <td>2012</td>\n",
       "      <td>1040</td>\n",
       "      <td>mg/l</td>\n",
       "      <td>5.52</td>\n",
       "      <td>2012-01-03</td>\n",
       "    </tr>\n",
       "    <tr>\n",
       "      <th>1</th>\n",
       "      <td>1</td>\n",
       "      <td>NE3103902</td>\n",
       "      <td>2012</td>\n",
       "      <td>1040</td>\n",
       "      <td>mg/l</td>\n",
       "      <td>4.92</td>\n",
       "      <td>2012-01-03</td>\n",
       "    </tr>\n",
       "    <tr>\n",
       "      <th>2</th>\n",
       "      <td>2</td>\n",
       "      <td>NE3107101</td>\n",
       "      <td>2012</td>\n",
       "      <td>1040</td>\n",
       "      <td>mg/l</td>\n",
       "      <td>5.56</td>\n",
       "      <td>2012-01-03</td>\n",
       "    </tr>\n",
       "    <tr>\n",
       "      <th>3</th>\n",
       "      <td>3</td>\n",
       "      <td>NE3114902</td>\n",
       "      <td>2012</td>\n",
       "      <td>1040</td>\n",
       "      <td>mg/l</td>\n",
       "      <td>1.62</td>\n",
       "      <td>2012-01-03</td>\n",
       "    </tr>\n",
       "    <tr>\n",
       "      <th>4</th>\n",
       "      <td>4</td>\n",
       "      <td>NE3114902</td>\n",
       "      <td>2012</td>\n",
       "      <td>1040</td>\n",
       "      <td>mg/l</td>\n",
       "      <td>6.78</td>\n",
       "      <td>2012-01-03</td>\n",
       "    </tr>\n",
       "  </tbody>\n",
       "</table>\n",
       "</div>"
      ],
      "text/plain": [
       "   RowIdentifier PWSIDNumber  Year AnalyteCode ConcentrationUnits  \\\n",
       "0              0   NE3103902  2012        1040               mg/l   \n",
       "1              1   NE3103902  2012        1040               mg/l   \n",
       "2              2   NE3107101  2012        1040               mg/l   \n",
       "3              3   NE3114902  2012        1040               mg/l   \n",
       "4              4   NE3114902  2012        1040               mg/l   \n",
       "\n",
       "   Concentration DateSampled  \n",
       "0           5.52  2012-01-03  \n",
       "1           4.92  2012-01-03  \n",
       "2           5.56  2012-01-03  \n",
       "3           1.62  2012-01-03  \n",
       "4           6.78  2012-01-03  "
      ]
     },
     "execution_count": 35,
     "metadata": {},
     "output_type": "execute_result"
    }
   ],
   "source": [
    "sampling.head()"
   ]
  },
  {
   "cell_type": "code",
   "execution_count": 36,
   "metadata": {},
   "outputs": [
    {
     "data": {
      "text/plain": [
       "RowIdentifier                  int64\n",
       "PWSIDNumber                   object\n",
       "Year                           int64\n",
       "AnalyteCode                   object\n",
       "ConcentrationUnits            object\n",
       "Concentration                float64\n",
       "DateSampled           datetime64[ns]\n",
       "dtype: object"
      ]
     },
     "execution_count": 36,
     "metadata": {},
     "output_type": "execute_result"
    }
   ],
   "source": [
    "sampling.dtypes"
   ]
  },
  {
   "cell_type": "code",
   "execution_count": null,
   "metadata": {},
   "outputs": [],
   "source": []
  }
 ],
 "metadata": {
  "kernelspec": {
   "display_name": "Python 3 (ipykernel)",
   "language": "python",
   "name": "python3"
  },
  "language_info": {
   "codemirror_mode": {
    "name": "ipython",
    "version": 3
   },
   "file_extension": ".py",
   "mimetype": "text/x-python",
   "name": "python",
   "nbconvert_exporter": "python",
   "pygments_lexer": "ipython3",
   "version": "3.10.4"
  }
 },
 "nbformat": 4,
 "nbformat_minor": 2
}
