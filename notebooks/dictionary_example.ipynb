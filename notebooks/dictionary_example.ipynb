{
 "cells": [
  {
   "cell_type": "code",
   "execution_count": 50,
   "metadata": {},
   "outputs": [
    {
     "name": "stdout",
     "output_type": "stream",
     "text": [
      "123\n",
      "datetime.datetime(2017, 6, 1, 12, 22)\n",
      "[1, 2, 3]\n",
      "{'id': 123, 'name': 'John Doe', 'signup_ts': datetime.datetime(2017, 6, 1, 12, 22), 'friends': [1, 2, 3]}\n"
     ]
    }
   ],
   "source": [
    "from datetime import datetime\n",
    "from typing import List, Optional\n",
    "from pydantic import BaseModel\n",
    "\n",
    "class User(BaseModel):\n",
    "    id: int\n",
    "    name = 'John Doe'\n",
    "    signup_ts: Optional[datetime] = None\n",
    "    friends: List[int] = []\n",
    "\n",
    "external_data = {\n",
    "    'id': '123',\n",
    "    'signup_ts': '2017-06-01 12:22',\n",
    "    'friends': [1, '2', b'3'],\n",
    "}\n",
    "\n",
    "user = User(**external_data)\n",
    "print(user.id)\n",
    "#> 123\n",
    "print(repr(user.signup_ts))\n",
    "#> datetime.datetime(2017, 6, 1, 12, 22)\n",
    "print(user.friends)\n",
    "#> [1, 2, 3]\n",
    "print(user.dict())\n"
   ]
  },
  {
   "cell_type": "code",
   "execution_count": 2,
   "metadata": {},
   "outputs": [
    {
     "data": {
      "text/plain": [
       "<User id=123 name='John Doe' signup_ts=datetime.datetime(2017, 6, 1, 12, 22) friends=[1, 2, 3]>"
      ]
     },
     "execution_count": 2,
     "metadata": {},
     "output_type": "execute_result"
    }
   ],
   "source": [
    "user"
   ]
  },
  {
   "cell_type": "code",
   "execution_count": 48,
   "metadata": {},
   "outputs": [
    {
     "name": "stdout",
     "output_type": "stream",
     "text": [
      "4 validation errors\n",
      "id\n",
      "  field required (type=value_error.missing)\n",
      "signup_ts\n",
      "  invalid datetime format (type=type_error.datetime)\n",
      "signup_ts\n",
      "  value is not none (type=type_error.none.allowed)\n",
      "friends -> 2\n",
      "  value is not a valid integer (type=type_error.integer)\n"
     ]
    }
   ],
   "source": [
    "from pydantic import ValidationError\n",
    "\n",
    "try:\n",
    "    User(signup_ts='broken', friends=[1, 2, 'not number'])\n",
    "except ValidationError as e:\n",
    "    print(e)"
   ]
  },
  {
   "attachments": {},
   "cell_type": "markdown",
   "metadata": {},
   "source": [
    "Now this is another tutorial from [here](https://techtutorialsx.com/2022/06/03/pydantic-getting-started/)"
   ]
  },
  {
   "cell_type": "code",
   "execution_count": 7,
   "metadata": {},
   "outputs": [],
   "source": [
    "import pydantic\n",
    "from pydantic import BaseModel, ValidationError\n",
    "\n",
    "# Now defining the Person class\n",
    "class Person(BaseModel):\n",
    "    name: pydantic.StrictStr \n",
    "    age: pydantic.StrictInt \n",
    "    is_married: pydantic.StrictBool"
   ]
  },
  {
   "cell_type": "code",
   "execution_count": 8,
   "metadata": {},
   "outputs": [],
   "source": [
    "# Now to create a dictionary that contains the data we want to parse and validate\n",
    "data ={\n",
    "    'name': 32,\n",
    "    'age': True,\n",
    "    'is_married': 'hhh'\n",
    "}"
   ]
  },
  {
   "cell_type": "code",
   "execution_count": 9,
   "metadata": {},
   "outputs": [
    {
     "name": "stdout",
     "output_type": "stream",
     "text": [
      "3 validation errors for Person\n",
      "name\n",
      "  str type expected (type=type_error.str)\n",
      "age\n",
      "  value is not a valid integer (type=type_error.integer)\n",
      "is_married\n",
      "  value is not a valid boolean (type=value_error.strictbool)\n"
     ]
    }
   ],
   "source": [
    "try:\n",
    "    # Now to parse the data and validate it\n",
    "    person = Person(**data)\n",
    "except ValidationError as e:\n",
    "    print(e)"
   ]
  },
  {
   "attachments": {},
   "cell_type": "markdown",
   "metadata": {},
   "source": [
    "Another example. Using error class in pydantic to better handle the situations"
   ]
  },
  {
   "cell_type": "code",
   "execution_count": 18,
   "metadata": {},
   "outputs": [
    {
     "name": "stdout",
     "output_type": "stream",
     "text": [
      "[{'loc': ('name',), 'msg': 'field required', 'type': 'value_error.missing'}, {'loc': ('age',), 'msg': 'value is not a valid integer', 'type': 'type_error.integer'}]\n",
      "\n",
      "{'loc': ('name',), 'msg': 'field required', 'type': 'value_error.missing'}\n",
      "\n",
      "('age',)\n",
      "value is not a valid integer\n",
      "type_error.integer\n"
     ]
    }
   ],
   "source": [
    "from pydantic import BaseModel, ValidationError\n",
    "\n",
    "class Person(BaseModel):\n",
    "    name: pydantic.StrictStr\n",
    "    age: pydantic.StrictInt\n",
    "    is_married: pydantic.StrictBool\n",
    "\n",
    "data = {\n",
    "    'age': 'test',\n",
    "    'is_married': False\n",
    "}\n",
    "\n",
    "try:\n",
    "    person = Person(**data)\n",
    "    print(person.dict())\n",
    "\n",
    "except ValidationError as e:\n",
    "    errors = e.errors()\n",
    "    print(errors)\n",
    "\n",
    "    print()\n",
    "    print(errors[0])\n",
    "\n",
    "    print()\n",
    "    print(errors[1]['loc'])\n",
    "    print(errors[1]['msg'])\n",
    "    print(errors[1]['type'])"
   ]
  },
  {
   "cell_type": "code",
   "execution_count": 13,
   "metadata": {},
   "outputs": [
    {
     "ename": "NameError",
     "evalue": "name 'person' is not defined",
     "output_type": "error",
     "traceback": [
      "\u001b[0;31m---------------------------------------------------------------------------\u001b[0m",
      "\u001b[0;31mNameError\u001b[0m                                 Traceback (most recent call last)",
      "Cell \u001b[0;32mIn[13], line 1\u001b[0m\n\u001b[0;32m----> 1\u001b[0m \u001b[39mprint\u001b[39m(person)\n",
      "\u001b[0;31mNameError\u001b[0m: name 'person' is not defined"
     ]
    }
   ],
   "source": [
    "print(person)"
   ]
  },
  {
   "attachments": {},
   "cell_type": "markdown",
   "metadata": {},
   "source": [
    "## Adding Lists to the Pydantic module"
   ]
  },
  {
   "cell_type": "code",
   "execution_count": 19,
   "metadata": {},
   "outputs": [],
   "source": [
    "from typing import List\n",
    "\n",
    "class Address(BaseModel):\n",
    "    street: pydantic.StrictStr\n",
    "    Building: pydantic.StrictInt\n",
    "\n",
    "# Now enhancing the Person class\n",
    "class Person(BaseModel):\n",
    "    name: pydantic.StrictStr\n",
    "    age: pydantic.StrictInt\n",
    "    is_married: pydantic.StrictBool\n",
    "    address: Address\n",
    "    languages: List[pydantic.StrictStr]"
   ]
  },
  {
   "cell_type": "code",
   "execution_count": 20,
   "metadata": {},
   "outputs": [],
   "source": [
    "data = {\n",
    "    'age':10,\n",
    "    'name':'John',\n",
    "    'is_married':False,\n",
    "    'address':{\n",
    "        'street':'Main Street',\n",
    "        'Building': 10\n",
    "    },\n",
    "    'languages': ['pt-pt', 'en-us']\n",
    "}\n"
   ]
  },
  {
   "cell_type": "markdown",
   "metadata": {},
   "source": []
  },
  {
   "cell_type": "code",
   "execution_count": 23,
   "metadata": {},
   "outputs": [
    {
     "name": "stdout",
     "output_type": "stream",
     "text": [
      "{'name': 'John', 'age': 10, 'is_married': False, 'address': {'street': 'Main Street', 'Building': 10}, 'languages': ['pt-pt', 'en-us']}\n"
     ]
    }
   ],
   "source": [
    "try:\n",
    "    person = Person(**data)\n",
    "    print(person.dict())\n",
    "\n",
    "except ValidationError as e:\n",
    "    print('Exception as str: ')\n",
    "    print(e)\n",
    "    print('Exception as json: ')\n",
    "    print(e.json())"
   ]
  },
  {
   "cell_type": "code",
   "execution_count": 24,
   "metadata": {},
   "outputs": [],
   "source": [
    "# Checking some errors in data\n",
    "data = {\n",
    "    'age': 10,\n",
    "    'name': 'John',\n",
    "    'is_married': False,\n",
    "    'address': {\n",
    "        'street': 'st street',\n",
    "        'building': 'test'\n",
    "    },\n",
    "    'languages':[{}, 'en-us']\n",
    "}"
   ]
  },
  {
   "cell_type": "code",
   "execution_count": 26,
   "metadata": {},
   "outputs": [
    {
     "name": "stdout",
     "output_type": "stream",
     "text": [
      "Exception as str: \n",
      "2 validation errors for Person\n",
      "address -> Building\n",
      "  field required (type=value_error.missing)\n",
      "languages -> 0\n",
      "  str type expected (type=type_error.str)\n",
      "Exception as json: \n",
      "[\n",
      "  {\n",
      "    \"loc\": [\n",
      "      \"address\",\n",
      "      \"Building\"\n",
      "    ],\n",
      "    \"msg\": \"field required\",\n",
      "    \"type\": \"value_error.missing\"\n",
      "  },\n",
      "  {\n",
      "    \"loc\": [\n",
      "      \"languages\",\n",
      "      0\n",
      "    ],\n",
      "    \"msg\": \"str type expected\",\n",
      "    \"type\": \"type_error.str\"\n",
      "  }\n",
      "]\n"
     ]
    }
   ],
   "source": [
    "try:\n",
    "    person = Person(**data)\n",
    "    print(person.dict())\n",
    "\n",
    "except ValidationError as e:\n",
    "    print('Exception as str: ')\n",
    "    print(e)\n",
    "    print('Exception as json: ')\n",
    "    print(e.json())"
   ]
  },
  {
   "cell_type": "code",
   "execution_count": null,
   "metadata": {},
   "outputs": [],
   "source": []
  }
 ],
 "metadata": {
  "kernelspec": {
   "display_name": "python-gis",
   "language": "python",
   "name": "python3"
  },
  "language_info": {
   "codemirror_mode": {
    "name": "ipython",
    "version": 3
   },
   "file_extension": ".py",
   "mimetype": "text/x-python",
   "name": "python",
   "nbconvert_exporter": "python",
   "pygments_lexer": "ipython3",
   "version": "3.8.10"
  },
  "orig_nbformat": 4
 },
 "nbformat": 4,
 "nbformat_minor": 2
}
