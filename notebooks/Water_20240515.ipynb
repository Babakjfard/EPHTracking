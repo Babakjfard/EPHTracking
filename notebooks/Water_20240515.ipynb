{
 "cells": [
  {
   "cell_type": "markdown",
   "metadata": {},
   "source": [
    "# Testing the Water Data for submission into 2024 Spring Water submission\n",
    "This is a revised notebook of Water_20230406.ipynb for 2024 data call. It validates the related water data, and do the tests on Nebraska Water system. "
   ]
  },
  {
   "cell_type": "code",
   "execution_count": 53,
   "metadata": {},
   "outputs": [],
   "source": [
    "import pandas as pd\n",
    "from libraries import general"
   ]
  },
  {
   "cell_type": "code",
   "execution_count": 54,
   "metadata": {},
   "outputs": [],
   "source": [
    "counties = general.get_Counties_FIPS('NE')"
   ]
  },
  {
   "cell_type": "markdown",
   "metadata": {},
   "source": [
    "## Required Libraries\n",
    "These are the required libraries for validation. Will later be added into a separate library"
   ]
  },
  {
   "cell_type": "code",
   "execution_count": 55,
   "metadata": {},
   "outputs": [],
   "source": [
    "# First attempt to creat Data class models\n",
    "import pandas as pd\n",
    "from datetime import date\n",
    "from typing import Optional, List, Literal\n",
    "from pydantic import BaseModel, ValidationError, Field, conint, confloat, constr, validator\n",
    "import datetime"
   ]
  },
  {
   "cell_type": "code",
   "execution_count": 56,
   "metadata": {},
   "outputs": [
    {
     "name": "stdout",
     "output_type": "stream",
     "text": [
      "1.10.7\n"
     ]
    }
   ],
   "source": [
    "import pydantic\n",
    "\n",
    "version = pydantic.__version__\n",
    "print(version)\n"
   ]
  },
  {
   "cell_type": "code",
   "execution_count": 57,
   "metadata": {},
   "outputs": [],
   "source": [
    "# ['RowIdentifier', 'PWSIDNumber', 'YearAssociatedTo', 'YearPulled',\n",
    "#       'PWSName', 'PrincipalCountyServedFIPS', 'PrincipalCityFeatureID',\n",
    "#       'TotalConnections', 'SystemPopulation', 'PrimarySourceCode', 'Latitude',\n",
    "#       'Longitude', 'LocationDerivationCode']\n",
    "\n",
    "class PWS_Inventory(BaseModel):\n",
    "    RowIdentifier: int\n",
    "    StateFIPSCode: int\n",
    "    PWSIDNumber: constr(regex=r'^NE\\d{7}') #Change NE to represent your state code\n",
    "    \n",
    "    YearAssociatedTo: conint(ge=1999, le=2024) \n",
    "    YearPulled: conint(ge=1999, le=2024)\n",
    "    \n",
    "    PWSName: str #Should it have distinction between Unknows and Not Submitted? or just be blank?\n",
    "    \n",
    "    PrincipalCountyServedFIPS: str\n",
    "\n",
    "    @validator('PrincipalCountyServedFIPS')\n",
    "    def check_PrincipalCountyServedFIPS(cls, v):\n",
    "        allowed_values = counties['fips'].tolist()\n",
    "        if v not in allowed_values:\n",
    "            raise ValueError('PrincipalCountyServedFIPS must be a valid FIPS code')\n",
    "        return v      \n",
    "\n",
    "    PrincipalCityFeatureID: int # ????How to get it from the introduced source?\n",
    "\n",
    "    TotalConnections: conint(ge=1, le=9999999)\n",
    "    SystemPopulation: conint(ge=10, le=99999999)\n",
    "    PrimarySourceCode: Literal['GU', 'GUP', 'GW', 'GWP', 'SW', 'SWP', 'U', 'NS']\n",
    "\n",
    "    # For Nebraska in NAD83\n",
    "    Latitude: confloat(ge= 39.999998, le=43.001702) \n",
    "    Longitude: confloat(ge= -104.053514, le=-95.308290)\n",
    "    LocationDerivationCode: Literal['SA', 'MFL', 'PCS', 'GSH','O', '-999', '-888']\n",
    "\n",
    "        \n",
    "# ['RowIdentifier', 'PWSIDNumber', 'Year', 'AnalyteCode', 'DateSampled',\n",
    "#        'AggregationType', 'NumSamplingLocations', 'SummaryTimePeriod',\n",
    "#        'NumSamples', 'NumNonDetects', 'ConcentrationUnits', 'Concentration']\n",
    "class Sampling_Summary(BaseModel):\n",
    "    RowIdentifier: int\n",
    "    PWSIDNumber: constr(regex=r'^NE\\d{7}') #for Nebraska\n",
    "\n",
    "    Year: conint(ge=1999, le=2024)\n",
    "    \n",
    "    \n",
    "    AnalyteCode: Literal['1005', '2050', '2456', '2950', '2039', '1038', '1040', '2987', \n",
    "    '2984', '4010', '4006']\n",
    "    ConcentrationUnits: Literal['ug/l', 'mg/l','pci/l'] # TODO: Apply the rules of what Analyte each applies to\n",
    "    Concentration: float\n",
    "\n",
    "    DateSampled: datetime.date #validate to be from 1/1/1999 to the latest complete year\n",
    "\n",
    "    AggregationType: Literal['X', 'MX']\n",
    "    NumSamplingLocations: conint(ge=1, le=9999) #TODO: '-888' for Not Submitted\n",
    "    SummaryTimePeriod: str #TODO: look into its Data Dictionary\n",
    "    NumSamples: int\n",
    "    NumNonDetects: int\n",
    "\n",
    "\n",
    "\n",
    "class Sampling(BaseModel):\n",
    "    RowIdentifier: int\n",
    "    PWSIDNumber: constr(regex=r'^NE\\d{7}') #for Nebraska\n",
    "\n",
    "    Year: conint(ge=1999, le=2024)\n",
    "    \n",
    "    \n",
    "    AnalyteCode: Literal['1005', '2050', '2456', '2950', '2039','1038', '1040', '2987', \n",
    "    '2984', '4010', '4006']\n",
    "    # check if ConcentrationUnits is one of the strings in this list, make the list case insensitive\n",
    "    ConcentrationUnits: Literal['ug/l', 'mg/l','pci/l'] # TODO: Apply the rules of what Analyte each applies to\n",
    "\n",
    "    # check if Concentration is a float and is greater than or equal to 0\n",
    "    Concentration: confloat(ge=0.0)\n",
    "\n",
    "    DateSampled: datetime.date #validate to be from 1/1/1999 to the latest complete year\n"
   ]
  },
  {
   "cell_type": "markdown",
   "metadata": {},
   "source": [
    "## Checking the PWS_Inventory\n"
   ]
  },
  {
   "cell_type": "code",
   "execution_count": 58,
   "metadata": {},
   "outputs": [],
   "source": [
    "inventory = pd.read_excel('/Users/babak.jfard/projects/EPHTracking/Data/Water_Data_2024/PWSInventory2022_2023.xlsx')"
   ]
  },
  {
   "cell_type": "code",
   "execution_count": 59,
   "metadata": {},
   "outputs": [
    {
     "data": {
      "text/plain": [
       "593"
      ]
     },
     "execution_count": 59,
     "metadata": {},
     "output_type": "execute_result"
    }
   ],
   "source": [
    "inventory.PWSIDNumber.nunique()"
   ]
  },
  {
   "cell_type": "code",
   "execution_count": 60,
   "metadata": {},
   "outputs": [
    {
     "data": {
      "text/html": [
       "<div>\n",
       "<style scoped>\n",
       "    .dataframe tbody tr th:only-of-type {\n",
       "        vertical-align: middle;\n",
       "    }\n",
       "\n",
       "    .dataframe tbody tr th {\n",
       "        vertical-align: top;\n",
       "    }\n",
       "\n",
       "    .dataframe thead th {\n",
       "        text-align: right;\n",
       "    }\n",
       "</style>\n",
       "<table border=\"1\" class=\"dataframe\">\n",
       "  <thead>\n",
       "    <tr style=\"text-align: right;\">\n",
       "      <th></th>\n",
       "      <th>StateFIPSCode</th>\n",
       "      <th>PWSIDNumber</th>\n",
       "      <th>YearAssociatedTo</th>\n",
       "      <th>YearPulled</th>\n",
       "      <th>PWSName</th>\n",
       "      <th>PrincipalCountyServedName</th>\n",
       "      <th>PrincipalCountyServed FIPS</th>\n",
       "      <th>PrincipalCityName</th>\n",
       "      <th>﻿PrincipalCityFeatureId</th>\n",
       "      <th>TotalConnections</th>\n",
       "      <th>SystemPopulation</th>\n",
       "      <th>PrimarySourceCode</th>\n",
       "      <th>Horiz_Ref_Datum</th>\n",
       "      <th>Latitude</th>\n",
       "      <th>Longitude</th>\n",
       "      <th>LocationDerivationCode</th>\n",
       "    </tr>\n",
       "  </thead>\n",
       "  <tbody>\n",
       "  </tbody>\n",
       "</table>\n",
       "</div>"
      ],
      "text/plain": [
       "Empty DataFrame\n",
       "Columns: [StateFIPSCode, PWSIDNumber, YearAssociatedTo, YearPulled, PWSName, PrincipalCountyServedName, PrincipalCountyServed FIPS, PrincipalCityName, ﻿PrincipalCityFeatureId, TotalConnections, SystemPopulation, PrimarySourceCode, Horiz_Ref_Datum, Latitude, Longitude, LocationDerivationCode]\n",
       "Index: []"
      ]
     },
     "execution_count": 60,
     "metadata": {},
     "output_type": "execute_result"
    }
   ],
   "source": [
    "# Check for duplicates\n",
    "inventory[inventory.duplicated(subset=['PWSIDNumber', 'YearAssociatedTo'], keep=False)]"
   ]
  },
  {
   "cell_type": "code",
   "execution_count": 61,
   "metadata": {},
   "outputs": [
    {
     "data": {
      "text/plain": [
       "['StateFIPSCode',\n",
       " 'PWSIDNumber',\n",
       " 'YearAssociatedTo',\n",
       " 'YearPulled',\n",
       " 'PWSName',\n",
       " 'PrincipalCountyServedName',\n",
       " 'PrincipalCountyServed FIPS',\n",
       " 'PrincipalCityName',\n",
       " '\\ufeffPrincipalCityFeatureId',\n",
       " 'TotalConnections',\n",
       " 'SystemPopulation',\n",
       " 'PrimarySourceCode',\n",
       " 'Horiz_Ref_Datum',\n",
       " 'Latitude',\n",
       " 'Longitude',\n",
       " 'LocationDerivationCode']"
      ]
     },
     "execution_count": 61,
     "metadata": {},
     "output_type": "execute_result"
    }
   ],
   "source": [
    "inventory.columns.tolist()"
   ]
  },
  {
   "cell_type": "code",
   "execution_count": 62,
   "metadata": {},
   "outputs": [],
   "source": [
    "#inventory.columns = inventory.columns.str.replace('\\ufeff', '')\n",
    "\n",
    "#Change the names of several columns to match the names in the validator\n",
    "inventory.rename(columns={'PrincipalCountyServed FIPS': 'PrincipalCountyServedFIPS', '\\ufeffPrincipalCityFeatureId': 'PrincipalCityFeatureID'}, inplace=True)"
   ]
  },
  {
   "cell_type": "code",
   "execution_count": 64,
   "metadata": {},
   "outputs": [],
   "source": [
    "# Adding a uique Identifier, as first column, for each row\n",
    "inventory.insert(0, 'RowIdentifier', inventory.index)\n",
    "#inventory['RowIdentifier'] = inventory.index"
   ]
  },
  {
   "cell_type": "code",
   "execution_count": 65,
   "metadata": {},
   "outputs": [],
   "source": [
    "inventory.to_csv('/Users/babak.jfard/projects/EPHTracking/Data/Water_Data_2024/PWSInventory_latest.csv', index=False)"
   ]
  },
  {
   "cell_type": "code",
   "execution_count": 67,
   "metadata": {},
   "outputs": [],
   "source": [
    "rm_column = list(set(inventory.columns) - set((PWS_Inventory.__fields__.keys())))"
   ]
  },
  {
   "cell_type": "code",
   "execution_count": 68,
   "metadata": {},
   "outputs": [
    {
     "data": {
      "text/plain": [
       "set()"
      ]
     },
     "execution_count": 68,
     "metadata": {},
     "output_type": "execute_result"
    }
   ],
   "source": [
    "set(PWS_Inventory.__fields__.keys()) - set(inventory.columns)"
   ]
  },
  {
   "cell_type": "code",
   "execution_count": 69,
   "metadata": {},
   "outputs": [
    {
     "data": {
      "text/plain": [
       "28"
      ]
     },
     "execution_count": 69,
     "metadata": {},
     "output_type": "execute_result"
    }
   ],
   "source": [
    "inventory.Horiz_Ref_Datum.isna().sum()"
   ]
  },
  {
   "cell_type": "code",
   "execution_count": 70,
   "metadata": {},
   "outputs": [],
   "source": [
    "inventory.drop(columns=rm_column, inplace=True)"
   ]
  },
  {
   "cell_type": "code",
   "execution_count": 71,
   "metadata": {},
   "outputs": [
    {
     "data": {
      "text/plain": [
       "Index(['RowIdentifier', 'StateFIPSCode', 'PWSIDNumber', 'YearAssociatedTo',\n",
       "       'YearPulled', 'PWSName', 'PrincipalCountyServedFIPS',\n",
       "       'PrincipalCityFeatureID', 'TotalConnections', 'SystemPopulation',\n",
       "       'PrimarySourceCode', 'Latitude', 'Longitude', 'LocationDerivationCode'],\n",
       "      dtype='object')"
      ]
     },
     "execution_count": 71,
     "metadata": {},
     "output_type": "execute_result"
    }
   ],
   "source": [
    "# For 2024\n",
    "inventory.columns"
   ]
  },
  {
   "cell_type": "code",
   "execution_count": 72,
   "metadata": {},
   "outputs": [
    {
     "data": {
      "text/plain": [
       "(593, 14)"
      ]
     },
     "execution_count": 72,
     "metadata": {},
     "output_type": "execute_result"
    }
   ],
   "source": [
    "inventory.shape"
   ]
  },
  {
   "cell_type": "code",
   "execution_count": 73,
   "metadata": {},
   "outputs": [],
   "source": [
    "# This one is the column names for 2023 data call\n",
    "# inventory.columns"
   ]
  },
  {
   "cell_type": "code",
   "execution_count": 74,
   "metadata": {},
   "outputs": [
    {
     "data": {
      "text/plain": [
       "dict_keys(['RowIdentifier', 'StateFIPSCode', 'PWSIDNumber', 'YearAssociatedTo', 'YearPulled', 'PWSName', 'PrincipalCountyServedFIPS', 'PrincipalCityFeatureID', 'TotalConnections', 'SystemPopulation', 'PrimarySourceCode', 'Latitude', 'Longitude', 'LocationDerivationCode'])"
      ]
     },
     "execution_count": 74,
     "metadata": {},
     "output_type": "execute_result"
    }
   ],
   "source": [
    "PWS_Inventory.__fields__.keys()"
   ]
  },
  {
   "cell_type": "code",
   "execution_count": 75,
   "metadata": {},
   "outputs": [
    {
     "name": "stdout",
     "output_type": "stream",
     "text": [
      "3 validation errors for PWS_Inventory\n",
      "Latitude\n",
      "  ensure this value is greater than or equal to 39.999998 (type=value_error.number.not_ge; limit_value=39.999998)\n",
      "Longitude\n",
      "  ensure this value is greater than or equal to -104.053514 (type=value_error.number.not_ge; limit_value=-104.053514)\n",
      "LocationDerivationCode\n",
      "  unexpected value; permitted: 'SA', 'MFL', 'PCS', 'GSH', 'O', '-999', '-888' (type=value_error.const; given=nan; permitted=('SA', 'MFL', 'PCS', 'GSH', 'O', '-999', '-888'))\n",
      "3 validation errors for PWS_Inventory\n",
      "Latitude\n",
      "  ensure this value is greater than or equal to 39.999998 (type=value_error.number.not_ge; limit_value=39.999998)\n",
      "Longitude\n",
      "  ensure this value is greater than or equal to -104.053514 (type=value_error.number.not_ge; limit_value=-104.053514)\n",
      "LocationDerivationCode\n",
      "  unexpected value; permitted: 'SA', 'MFL', 'PCS', 'GSH', 'O', '-999', '-888' (type=value_error.const; given=nan; permitted=('SA', 'MFL', 'PCS', 'GSH', 'O', '-999', '-888'))\n",
      "3 validation errors for PWS_Inventory\n",
      "Latitude\n",
      "  ensure this value is greater than or equal to 39.999998 (type=value_error.number.not_ge; limit_value=39.999998)\n",
      "Longitude\n",
      "  ensure this value is greater than or equal to -104.053514 (type=value_error.number.not_ge; limit_value=-104.053514)\n",
      "LocationDerivationCode\n",
      "  unexpected value; permitted: 'SA', 'MFL', 'PCS', 'GSH', 'O', '-999', '-888' (type=value_error.const; given=nan; permitted=('SA', 'MFL', 'PCS', 'GSH', 'O', '-999', '-888'))\n",
      "3 validation errors for PWS_Inventory\n",
      "Latitude\n",
      "  ensure this value is greater than or equal to 39.999998 (type=value_error.number.not_ge; limit_value=39.999998)\n",
      "Longitude\n",
      "  ensure this value is greater than or equal to -104.053514 (type=value_error.number.not_ge; limit_value=-104.053514)\n",
      "LocationDerivationCode\n",
      "  unexpected value; permitted: 'SA', 'MFL', 'PCS', 'GSH', 'O', '-999', '-888' (type=value_error.const; given=nan; permitted=('SA', 'MFL', 'PCS', 'GSH', 'O', '-999', '-888'))\n",
      "3 validation errors for PWS_Inventory\n",
      "Latitude\n",
      "  ensure this value is greater than or equal to 39.999998 (type=value_error.number.not_ge; limit_value=39.999998)\n",
      "Longitude\n",
      "  ensure this value is greater than or equal to -104.053514 (type=value_error.number.not_ge; limit_value=-104.053514)\n",
      "LocationDerivationCode\n",
      "  unexpected value; permitted: 'SA', 'MFL', 'PCS', 'GSH', 'O', '-999', '-888' (type=value_error.const; given=nan; permitted=('SA', 'MFL', 'PCS', 'GSH', 'O', '-999', '-888'))\n",
      "3 validation errors for PWS_Inventory\n",
      "Latitude\n",
      "  ensure this value is greater than or equal to 39.999998 (type=value_error.number.not_ge; limit_value=39.999998)\n",
      "Longitude\n",
      "  ensure this value is greater than or equal to -104.053514 (type=value_error.number.not_ge; limit_value=-104.053514)\n",
      "LocationDerivationCode\n",
      "  unexpected value; permitted: 'SA', 'MFL', 'PCS', 'GSH', 'O', '-999', '-888' (type=value_error.const; given=nan; permitted=('SA', 'MFL', 'PCS', 'GSH', 'O', '-999', '-888'))\n",
      "3 validation errors for PWS_Inventory\n",
      "Latitude\n",
      "  ensure this value is greater than or equal to 39.999998 (type=value_error.number.not_ge; limit_value=39.999998)\n",
      "Longitude\n",
      "  ensure this value is greater than or equal to -104.053514 (type=value_error.number.not_ge; limit_value=-104.053514)\n",
      "LocationDerivationCode\n",
      "  unexpected value; permitted: 'SA', 'MFL', 'PCS', 'GSH', 'O', '-999', '-888' (type=value_error.const; given=nan; permitted=('SA', 'MFL', 'PCS', 'GSH', 'O', '-999', '-888'))\n",
      "3 validation errors for PWS_Inventory\n",
      "Latitude\n",
      "  ensure this value is greater than or equal to 39.999998 (type=value_error.number.not_ge; limit_value=39.999998)\n",
      "Longitude\n",
      "  ensure this value is greater than or equal to -104.053514 (type=value_error.number.not_ge; limit_value=-104.053514)\n",
      "LocationDerivationCode\n",
      "  unexpected value; permitted: 'SA', 'MFL', 'PCS', 'GSH', 'O', '-999', '-888' (type=value_error.const; given=nan; permitted=('SA', 'MFL', 'PCS', 'GSH', 'O', '-999', '-888'))\n",
      "3 validation errors for PWS_Inventory\n",
      "Latitude\n",
      "  ensure this value is greater than or equal to 39.999998 (type=value_error.number.not_ge; limit_value=39.999998)\n",
      "Longitude\n",
      "  ensure this value is greater than or equal to -104.053514 (type=value_error.number.not_ge; limit_value=-104.053514)\n",
      "LocationDerivationCode\n",
      "  unexpected value; permitted: 'SA', 'MFL', 'PCS', 'GSH', 'O', '-999', '-888' (type=value_error.const; given=nan; permitted=('SA', 'MFL', 'PCS', 'GSH', 'O', '-999', '-888'))\n",
      "3 validation errors for PWS_Inventory\n",
      "Latitude\n",
      "  ensure this value is greater than or equal to 39.999998 (type=value_error.number.not_ge; limit_value=39.999998)\n",
      "Longitude\n",
      "  ensure this value is greater than or equal to -104.053514 (type=value_error.number.not_ge; limit_value=-104.053514)\n",
      "LocationDerivationCode\n",
      "  unexpected value; permitted: 'SA', 'MFL', 'PCS', 'GSH', 'O', '-999', '-888' (type=value_error.const; given=nan; permitted=('SA', 'MFL', 'PCS', 'GSH', 'O', '-999', '-888'))\n",
      "3 validation errors for PWS_Inventory\n",
      "Latitude\n",
      "  ensure this value is greater than or equal to 39.999998 (type=value_error.number.not_ge; limit_value=39.999998)\n",
      "Longitude\n",
      "  ensure this value is greater than or equal to -104.053514 (type=value_error.number.not_ge; limit_value=-104.053514)\n",
      "LocationDerivationCode\n",
      "  unexpected value; permitted: 'SA', 'MFL', 'PCS', 'GSH', 'O', '-999', '-888' (type=value_error.const; given=nan; permitted=('SA', 'MFL', 'PCS', 'GSH', 'O', '-999', '-888'))\n",
      "3 validation errors for PWS_Inventory\n",
      "Latitude\n",
      "  ensure this value is greater than or equal to 39.999998 (type=value_error.number.not_ge; limit_value=39.999998)\n",
      "Longitude\n",
      "  ensure this value is greater than or equal to -104.053514 (type=value_error.number.not_ge; limit_value=-104.053514)\n",
      "LocationDerivationCode\n",
      "  unexpected value; permitted: 'SA', 'MFL', 'PCS', 'GSH', 'O', '-999', '-888' (type=value_error.const; given=nan; permitted=('SA', 'MFL', 'PCS', 'GSH', 'O', '-999', '-888'))\n",
      "3 validation errors for PWS_Inventory\n",
      "Latitude\n",
      "  ensure this value is greater than or equal to 39.999998 (type=value_error.number.not_ge; limit_value=39.999998)\n",
      "Longitude\n",
      "  ensure this value is greater than or equal to -104.053514 (type=value_error.number.not_ge; limit_value=-104.053514)\n",
      "LocationDerivationCode\n",
      "  unexpected value; permitted: 'SA', 'MFL', 'PCS', 'GSH', 'O', '-999', '-888' (type=value_error.const; given=nan; permitted=('SA', 'MFL', 'PCS', 'GSH', 'O', '-999', '-888'))\n",
      "3 validation errors for PWS_Inventory\n",
      "Latitude\n",
      "  ensure this value is greater than or equal to 39.999998 (type=value_error.number.not_ge; limit_value=39.999998)\n",
      "Longitude\n",
      "  ensure this value is greater than or equal to -104.053514 (type=value_error.number.not_ge; limit_value=-104.053514)\n",
      "LocationDerivationCode\n",
      "  unexpected value; permitted: 'SA', 'MFL', 'PCS', 'GSH', 'O', '-999', '-888' (type=value_error.const; given=nan; permitted=('SA', 'MFL', 'PCS', 'GSH', 'O', '-999', '-888'))\n",
      "3 validation errors for PWS_Inventory\n",
      "Latitude\n",
      "  ensure this value is greater than or equal to 39.999998 (type=value_error.number.not_ge; limit_value=39.999998)\n",
      "Longitude\n",
      "  ensure this value is greater than or equal to -104.053514 (type=value_error.number.not_ge; limit_value=-104.053514)\n",
      "LocationDerivationCode\n",
      "  unexpected value; permitted: 'SA', 'MFL', 'PCS', 'GSH', 'O', '-999', '-888' (type=value_error.const; given=nan; permitted=('SA', 'MFL', 'PCS', 'GSH', 'O', '-999', '-888'))\n",
      "3 validation errors for PWS_Inventory\n",
      "Latitude\n",
      "  ensure this value is greater than or equal to 39.999998 (type=value_error.number.not_ge; limit_value=39.999998)\n",
      "Longitude\n",
      "  ensure this value is greater than or equal to -104.053514 (type=value_error.number.not_ge; limit_value=-104.053514)\n",
      "LocationDerivationCode\n",
      "  unexpected value; permitted: 'SA', 'MFL', 'PCS', 'GSH', 'O', '-999', '-888' (type=value_error.const; given=nan; permitted=('SA', 'MFL', 'PCS', 'GSH', 'O', '-999', '-888'))\n",
      "3 validation errors for PWS_Inventory\n",
      "Latitude\n",
      "  ensure this value is greater than or equal to 39.999998 (type=value_error.number.not_ge; limit_value=39.999998)\n",
      "Longitude\n",
      "  ensure this value is greater than or equal to -104.053514 (type=value_error.number.not_ge; limit_value=-104.053514)\n",
      "LocationDerivationCode\n",
      "  unexpected value; permitted: 'SA', 'MFL', 'PCS', 'GSH', 'O', '-999', '-888' (type=value_error.const; given=nan; permitted=('SA', 'MFL', 'PCS', 'GSH', 'O', '-999', '-888'))\n",
      "3 validation errors for PWS_Inventory\n",
      "Latitude\n",
      "  ensure this value is greater than or equal to 39.999998 (type=value_error.number.not_ge; limit_value=39.999998)\n",
      "Longitude\n",
      "  ensure this value is greater than or equal to -104.053514 (type=value_error.number.not_ge; limit_value=-104.053514)\n",
      "LocationDerivationCode\n",
      "  unexpected value; permitted: 'SA', 'MFL', 'PCS', 'GSH', 'O', '-999', '-888' (type=value_error.const; given=nan; permitted=('SA', 'MFL', 'PCS', 'GSH', 'O', '-999', '-888'))\n",
      "3 validation errors for PWS_Inventory\n",
      "Latitude\n",
      "  ensure this value is greater than or equal to 39.999998 (type=value_error.number.not_ge; limit_value=39.999998)\n",
      "Longitude\n",
      "  ensure this value is greater than or equal to -104.053514 (type=value_error.number.not_ge; limit_value=-104.053514)\n",
      "LocationDerivationCode\n",
      "  unexpected value; permitted: 'SA', 'MFL', 'PCS', 'GSH', 'O', '-999', '-888' (type=value_error.const; given=nan; permitted=('SA', 'MFL', 'PCS', 'GSH', 'O', '-999', '-888'))\n",
      "3 validation errors for PWS_Inventory\n",
      "Latitude\n",
      "  ensure this value is greater than or equal to 39.999998 (type=value_error.number.not_ge; limit_value=39.999998)\n",
      "Longitude\n",
      "  ensure this value is greater than or equal to -104.053514 (type=value_error.number.not_ge; limit_value=-104.053514)\n",
      "LocationDerivationCode\n",
      "  unexpected value; permitted: 'SA', 'MFL', 'PCS', 'GSH', 'O', '-999', '-888' (type=value_error.const; given=nan; permitted=('SA', 'MFL', 'PCS', 'GSH', 'O', '-999', '-888'))\n",
      "3 validation errors for PWS_Inventory\n",
      "Latitude\n",
      "  ensure this value is greater than or equal to 39.999998 (type=value_error.number.not_ge; limit_value=39.999998)\n",
      "Longitude\n",
      "  ensure this value is greater than or equal to -104.053514 (type=value_error.number.not_ge; limit_value=-104.053514)\n",
      "LocationDerivationCode\n",
      "  unexpected value; permitted: 'SA', 'MFL', 'PCS', 'GSH', 'O', '-999', '-888' (type=value_error.const; given=nan; permitted=('SA', 'MFL', 'PCS', 'GSH', 'O', '-999', '-888'))\n",
      "3 validation errors for PWS_Inventory\n",
      "Latitude\n",
      "  ensure this value is greater than or equal to 39.999998 (type=value_error.number.not_ge; limit_value=39.999998)\n",
      "Longitude\n",
      "  ensure this value is greater than or equal to -104.053514 (type=value_error.number.not_ge; limit_value=-104.053514)\n",
      "LocationDerivationCode\n",
      "  unexpected value; permitted: 'SA', 'MFL', 'PCS', 'GSH', 'O', '-999', '-888' (type=value_error.const; given=nan; permitted=('SA', 'MFL', 'PCS', 'GSH', 'O', '-999', '-888'))\n",
      "3 validation errors for PWS_Inventory\n",
      "Latitude\n",
      "  ensure this value is greater than or equal to 39.999998 (type=value_error.number.not_ge; limit_value=39.999998)\n",
      "Longitude\n",
      "  ensure this value is greater than or equal to -104.053514 (type=value_error.number.not_ge; limit_value=-104.053514)\n",
      "LocationDerivationCode\n",
      "  unexpected value; permitted: 'SA', 'MFL', 'PCS', 'GSH', 'O', '-999', '-888' (type=value_error.const; given=nan; permitted=('SA', 'MFL', 'PCS', 'GSH', 'O', '-999', '-888'))\n",
      "3 validation errors for PWS_Inventory\n",
      "Latitude\n",
      "  ensure this value is greater than or equal to 39.999998 (type=value_error.number.not_ge; limit_value=39.999998)\n",
      "Longitude\n",
      "  ensure this value is greater than or equal to -104.053514 (type=value_error.number.not_ge; limit_value=-104.053514)\n",
      "LocationDerivationCode\n",
      "  unexpected value; permitted: 'SA', 'MFL', 'PCS', 'GSH', 'O', '-999', '-888' (type=value_error.const; given=nan; permitted=('SA', 'MFL', 'PCS', 'GSH', 'O', '-999', '-888'))\n",
      "3 validation errors for PWS_Inventory\n",
      "Latitude\n",
      "  ensure this value is greater than or equal to 39.999998 (type=value_error.number.not_ge; limit_value=39.999998)\n",
      "Longitude\n",
      "  ensure this value is greater than or equal to -104.053514 (type=value_error.number.not_ge; limit_value=-104.053514)\n",
      "LocationDerivationCode\n",
      "  unexpected value; permitted: 'SA', 'MFL', 'PCS', 'GSH', 'O', '-999', '-888' (type=value_error.const; given=nan; permitted=('SA', 'MFL', 'PCS', 'GSH', 'O', '-999', '-888'))\n",
      "3 validation errors for PWS_Inventory\n",
      "Latitude\n",
      "  ensure this value is greater than or equal to 39.999998 (type=value_error.number.not_ge; limit_value=39.999998)\n",
      "Longitude\n",
      "  ensure this value is greater than or equal to -104.053514 (type=value_error.number.not_ge; limit_value=-104.053514)\n",
      "LocationDerivationCode\n",
      "  unexpected value; permitted: 'SA', 'MFL', 'PCS', 'GSH', 'O', '-999', '-888' (type=value_error.const; given=nan; permitted=('SA', 'MFL', 'PCS', 'GSH', 'O', '-999', '-888'))\n",
      "3 validation errors for PWS_Inventory\n",
      "Latitude\n",
      "  ensure this value is greater than or equal to 39.999998 (type=value_error.number.not_ge; limit_value=39.999998)\n",
      "Longitude\n",
      "  ensure this value is greater than or equal to -104.053514 (type=value_error.number.not_ge; limit_value=-104.053514)\n",
      "LocationDerivationCode\n",
      "  unexpected value; permitted: 'SA', 'MFL', 'PCS', 'GSH', 'O', '-999', '-888' (type=value_error.const; given=nan; permitted=('SA', 'MFL', 'PCS', 'GSH', 'O', '-999', '-888'))\n",
      "3 validation errors for PWS_Inventory\n",
      "Latitude\n",
      "  ensure this value is greater than or equal to 39.999998 (type=value_error.number.not_ge; limit_value=39.999998)\n",
      "Longitude\n",
      "  ensure this value is greater than or equal to -104.053514 (type=value_error.number.not_ge; limit_value=-104.053514)\n",
      "LocationDerivationCode\n",
      "  unexpected value; permitted: 'SA', 'MFL', 'PCS', 'GSH', 'O', '-999', '-888' (type=value_error.const; given=nan; permitted=('SA', 'MFL', 'PCS', 'GSH', 'O', '-999', '-888'))\n"
     ]
    }
   ],
   "source": [
    "# Doing the validation for each row as a PWS_Inventory object\n",
    "valid_rows = []\n",
    "# Creat a dictionary that contains the RowIdentifier of the invalid rows and the error message\n",
    "invalid_rows = {}\n",
    "for index, row in inventory.iterrows():\n",
    "    \n",
    "    try:\n",
    "        PWS_Inventory(**row)\n",
    "        # If passeed, add RowIdentifier into valid_rows list\n",
    "        valid_rows.append(row['RowIdentifier'])\n",
    "\n",
    "    except ValidationError as e:\n",
    "        # If failed, add RowIdentifier and the error message into invalid_rows dictionary\n",
    "        invalid_rows[row['RowIdentifier']] = e.errors\n",
    "\n",
    "        print(e)"
   ]
  },
  {
   "cell_type": "code",
   "execution_count": 76,
   "metadata": {},
   "outputs": [
    {
     "data": {
      "text/plain": [
       "{43: <bound method ValidationError.errors of ValidationError(model='PWS_Inventory', errors=[{'loc': ('Latitude',), 'msg': 'ensure this value is greater than or equal to 39.999998', 'type': 'value_error.number.not_ge', 'ctx': {'limit_value': 39.999998}}, {'loc': ('Longitude',), 'msg': 'ensure this value is greater than or equal to -104.053514', 'type': 'value_error.number.not_ge', 'ctx': {'limit_value': -104.053514}}, {'loc': ('LocationDerivationCode',), 'msg': \"unexpected value; permitted: 'SA', 'MFL', 'PCS', 'GSH', 'O', '-999', '-888'\", 'type': 'value_error.const', 'ctx': {'given': nan, 'permitted': ('SA', 'MFL', 'PCS', 'GSH', 'O', '-999', '-888')}}])>,\n",
       " 48: <bound method ValidationError.errors of ValidationError(model='PWS_Inventory', errors=[{'loc': ('Latitude',), 'msg': 'ensure this value is greater than or equal to 39.999998', 'type': 'value_error.number.not_ge', 'ctx': {'limit_value': 39.999998}}, {'loc': ('Longitude',), 'msg': 'ensure this value is greater than or equal to -104.053514', 'type': 'value_error.number.not_ge', 'ctx': {'limit_value': -104.053514}}, {'loc': ('LocationDerivationCode',), 'msg': \"unexpected value; permitted: 'SA', 'MFL', 'PCS', 'GSH', 'O', '-999', '-888'\", 'type': 'value_error.const', 'ctx': {'given': nan, 'permitted': ('SA', 'MFL', 'PCS', 'GSH', 'O', '-999', '-888')}}])>,\n",
       " 50: <bound method ValidationError.errors of ValidationError(model='PWS_Inventory', errors=[{'loc': ('Latitude',), 'msg': 'ensure this value is greater than or equal to 39.999998', 'type': 'value_error.number.not_ge', 'ctx': {'limit_value': 39.999998}}, {'loc': ('Longitude',), 'msg': 'ensure this value is greater than or equal to -104.053514', 'type': 'value_error.number.not_ge', 'ctx': {'limit_value': -104.053514}}, {'loc': ('LocationDerivationCode',), 'msg': \"unexpected value; permitted: 'SA', 'MFL', 'PCS', 'GSH', 'O', '-999', '-888'\", 'type': 'value_error.const', 'ctx': {'given': nan, 'permitted': ('SA', 'MFL', 'PCS', 'GSH', 'O', '-999', '-888')}}])>,\n",
       " 127: <bound method ValidationError.errors of ValidationError(model='PWS_Inventory', errors=[{'loc': ('Latitude',), 'msg': 'ensure this value is greater than or equal to 39.999998', 'type': 'value_error.number.not_ge', 'ctx': {'limit_value': 39.999998}}, {'loc': ('Longitude',), 'msg': 'ensure this value is greater than or equal to -104.053514', 'type': 'value_error.number.not_ge', 'ctx': {'limit_value': -104.053514}}, {'loc': ('LocationDerivationCode',), 'msg': \"unexpected value; permitted: 'SA', 'MFL', 'PCS', 'GSH', 'O', '-999', '-888'\", 'type': 'value_error.const', 'ctx': {'given': nan, 'permitted': ('SA', 'MFL', 'PCS', 'GSH', 'O', '-999', '-888')}}])>,\n",
       " 138: <bound method ValidationError.errors of ValidationError(model='PWS_Inventory', errors=[{'loc': ('Latitude',), 'msg': 'ensure this value is greater than or equal to 39.999998', 'type': 'value_error.number.not_ge', 'ctx': {'limit_value': 39.999998}}, {'loc': ('Longitude',), 'msg': 'ensure this value is greater than or equal to -104.053514', 'type': 'value_error.number.not_ge', 'ctx': {'limit_value': -104.053514}}, {'loc': ('LocationDerivationCode',), 'msg': \"unexpected value; permitted: 'SA', 'MFL', 'PCS', 'GSH', 'O', '-999', '-888'\", 'type': 'value_error.const', 'ctx': {'given': nan, 'permitted': ('SA', 'MFL', 'PCS', 'GSH', 'O', '-999', '-888')}}])>,\n",
       " 139: <bound method ValidationError.errors of ValidationError(model='PWS_Inventory', errors=[{'loc': ('Latitude',), 'msg': 'ensure this value is greater than or equal to 39.999998', 'type': 'value_error.number.not_ge', 'ctx': {'limit_value': 39.999998}}, {'loc': ('Longitude',), 'msg': 'ensure this value is greater than or equal to -104.053514', 'type': 'value_error.number.not_ge', 'ctx': {'limit_value': -104.053514}}, {'loc': ('LocationDerivationCode',), 'msg': \"unexpected value; permitted: 'SA', 'MFL', 'PCS', 'GSH', 'O', '-999', '-888'\", 'type': 'value_error.const', 'ctx': {'given': nan, 'permitted': ('SA', 'MFL', 'PCS', 'GSH', 'O', '-999', '-888')}}])>,\n",
       " 180: <bound method ValidationError.errors of ValidationError(model='PWS_Inventory', errors=[{'loc': ('Latitude',), 'msg': 'ensure this value is greater than or equal to 39.999998', 'type': 'value_error.number.not_ge', 'ctx': {'limit_value': 39.999998}}, {'loc': ('Longitude',), 'msg': 'ensure this value is greater than or equal to -104.053514', 'type': 'value_error.number.not_ge', 'ctx': {'limit_value': -104.053514}}, {'loc': ('LocationDerivationCode',), 'msg': \"unexpected value; permitted: 'SA', 'MFL', 'PCS', 'GSH', 'O', '-999', '-888'\", 'type': 'value_error.const', 'ctx': {'given': nan, 'permitted': ('SA', 'MFL', 'PCS', 'GSH', 'O', '-999', '-888')}}])>,\n",
       " 278: <bound method ValidationError.errors of ValidationError(model='PWS_Inventory', errors=[{'loc': ('Latitude',), 'msg': 'ensure this value is greater than or equal to 39.999998', 'type': 'value_error.number.not_ge', 'ctx': {'limit_value': 39.999998}}, {'loc': ('Longitude',), 'msg': 'ensure this value is greater than or equal to -104.053514', 'type': 'value_error.number.not_ge', 'ctx': {'limit_value': -104.053514}}, {'loc': ('LocationDerivationCode',), 'msg': \"unexpected value; permitted: 'SA', 'MFL', 'PCS', 'GSH', 'O', '-999', '-888'\", 'type': 'value_error.const', 'ctx': {'given': nan, 'permitted': ('SA', 'MFL', 'PCS', 'GSH', 'O', '-999', '-888')}}])>,\n",
       " 310: <bound method ValidationError.errors of ValidationError(model='PWS_Inventory', errors=[{'loc': ('Latitude',), 'msg': 'ensure this value is greater than or equal to 39.999998', 'type': 'value_error.number.not_ge', 'ctx': {'limit_value': 39.999998}}, {'loc': ('Longitude',), 'msg': 'ensure this value is greater than or equal to -104.053514', 'type': 'value_error.number.not_ge', 'ctx': {'limit_value': -104.053514}}, {'loc': ('LocationDerivationCode',), 'msg': \"unexpected value; permitted: 'SA', 'MFL', 'PCS', 'GSH', 'O', '-999', '-888'\", 'type': 'value_error.const', 'ctx': {'given': nan, 'permitted': ('SA', 'MFL', 'PCS', 'GSH', 'O', '-999', '-888')}}])>,\n",
       " 336: <bound method ValidationError.errors of ValidationError(model='PWS_Inventory', errors=[{'loc': ('Latitude',), 'msg': 'ensure this value is greater than or equal to 39.999998', 'type': 'value_error.number.not_ge', 'ctx': {'limit_value': 39.999998}}, {'loc': ('Longitude',), 'msg': 'ensure this value is greater than or equal to -104.053514', 'type': 'value_error.number.not_ge', 'ctx': {'limit_value': -104.053514}}, {'loc': ('LocationDerivationCode',), 'msg': \"unexpected value; permitted: 'SA', 'MFL', 'PCS', 'GSH', 'O', '-999', '-888'\", 'type': 'value_error.const', 'ctx': {'given': nan, 'permitted': ('SA', 'MFL', 'PCS', 'GSH', 'O', '-999', '-888')}}])>,\n",
       " 361: <bound method ValidationError.errors of ValidationError(model='PWS_Inventory', errors=[{'loc': ('Latitude',), 'msg': 'ensure this value is greater than or equal to 39.999998', 'type': 'value_error.number.not_ge', 'ctx': {'limit_value': 39.999998}}, {'loc': ('Longitude',), 'msg': 'ensure this value is greater than or equal to -104.053514', 'type': 'value_error.number.not_ge', 'ctx': {'limit_value': -104.053514}}, {'loc': ('LocationDerivationCode',), 'msg': \"unexpected value; permitted: 'SA', 'MFL', 'PCS', 'GSH', 'O', '-999', '-888'\", 'type': 'value_error.const', 'ctx': {'given': nan, 'permitted': ('SA', 'MFL', 'PCS', 'GSH', 'O', '-999', '-888')}}])>,\n",
       " 380: <bound method ValidationError.errors of ValidationError(model='PWS_Inventory', errors=[{'loc': ('Latitude',), 'msg': 'ensure this value is greater than or equal to 39.999998', 'type': 'value_error.number.not_ge', 'ctx': {'limit_value': 39.999998}}, {'loc': ('Longitude',), 'msg': 'ensure this value is greater than or equal to -104.053514', 'type': 'value_error.number.not_ge', 'ctx': {'limit_value': -104.053514}}, {'loc': ('LocationDerivationCode',), 'msg': \"unexpected value; permitted: 'SA', 'MFL', 'PCS', 'GSH', 'O', '-999', '-888'\", 'type': 'value_error.const', 'ctx': {'given': nan, 'permitted': ('SA', 'MFL', 'PCS', 'GSH', 'O', '-999', '-888')}}])>,\n",
       " 395: <bound method ValidationError.errors of ValidationError(model='PWS_Inventory', errors=[{'loc': ('Latitude',), 'msg': 'ensure this value is greater than or equal to 39.999998', 'type': 'value_error.number.not_ge', 'ctx': {'limit_value': 39.999998}}, {'loc': ('Longitude',), 'msg': 'ensure this value is greater than or equal to -104.053514', 'type': 'value_error.number.not_ge', 'ctx': {'limit_value': -104.053514}}, {'loc': ('LocationDerivationCode',), 'msg': \"unexpected value; permitted: 'SA', 'MFL', 'PCS', 'GSH', 'O', '-999', '-888'\", 'type': 'value_error.const', 'ctx': {'given': nan, 'permitted': ('SA', 'MFL', 'PCS', 'GSH', 'O', '-999', '-888')}}])>,\n",
       " 396: <bound method ValidationError.errors of ValidationError(model='PWS_Inventory', errors=[{'loc': ('Latitude',), 'msg': 'ensure this value is greater than or equal to 39.999998', 'type': 'value_error.number.not_ge', 'ctx': {'limit_value': 39.999998}}, {'loc': ('Longitude',), 'msg': 'ensure this value is greater than or equal to -104.053514', 'type': 'value_error.number.not_ge', 'ctx': {'limit_value': -104.053514}}, {'loc': ('LocationDerivationCode',), 'msg': \"unexpected value; permitted: 'SA', 'MFL', 'PCS', 'GSH', 'O', '-999', '-888'\", 'type': 'value_error.const', 'ctx': {'given': nan, 'permitted': ('SA', 'MFL', 'PCS', 'GSH', 'O', '-999', '-888')}}])>,\n",
       " 407: <bound method ValidationError.errors of ValidationError(model='PWS_Inventory', errors=[{'loc': ('Latitude',), 'msg': 'ensure this value is greater than or equal to 39.999998', 'type': 'value_error.number.not_ge', 'ctx': {'limit_value': 39.999998}}, {'loc': ('Longitude',), 'msg': 'ensure this value is greater than or equal to -104.053514', 'type': 'value_error.number.not_ge', 'ctx': {'limit_value': -104.053514}}, {'loc': ('LocationDerivationCode',), 'msg': \"unexpected value; permitted: 'SA', 'MFL', 'PCS', 'GSH', 'O', '-999', '-888'\", 'type': 'value_error.const', 'ctx': {'given': nan, 'permitted': ('SA', 'MFL', 'PCS', 'GSH', 'O', '-999', '-888')}}])>,\n",
       " 408: <bound method ValidationError.errors of ValidationError(model='PWS_Inventory', errors=[{'loc': ('Latitude',), 'msg': 'ensure this value is greater than or equal to 39.999998', 'type': 'value_error.number.not_ge', 'ctx': {'limit_value': 39.999998}}, {'loc': ('Longitude',), 'msg': 'ensure this value is greater than or equal to -104.053514', 'type': 'value_error.number.not_ge', 'ctx': {'limit_value': -104.053514}}, {'loc': ('LocationDerivationCode',), 'msg': \"unexpected value; permitted: 'SA', 'MFL', 'PCS', 'GSH', 'O', '-999', '-888'\", 'type': 'value_error.const', 'ctx': {'given': nan, 'permitted': ('SA', 'MFL', 'PCS', 'GSH', 'O', '-999', '-888')}}])>,\n",
       " 435: <bound method ValidationError.errors of ValidationError(model='PWS_Inventory', errors=[{'loc': ('Latitude',), 'msg': 'ensure this value is greater than or equal to 39.999998', 'type': 'value_error.number.not_ge', 'ctx': {'limit_value': 39.999998}}, {'loc': ('Longitude',), 'msg': 'ensure this value is greater than or equal to -104.053514', 'type': 'value_error.number.not_ge', 'ctx': {'limit_value': -104.053514}}, {'loc': ('LocationDerivationCode',), 'msg': \"unexpected value; permitted: 'SA', 'MFL', 'PCS', 'GSH', 'O', '-999', '-888'\", 'type': 'value_error.const', 'ctx': {'given': nan, 'permitted': ('SA', 'MFL', 'PCS', 'GSH', 'O', '-999', '-888')}}])>,\n",
       " 442: <bound method ValidationError.errors of ValidationError(model='PWS_Inventory', errors=[{'loc': ('Latitude',), 'msg': 'ensure this value is greater than or equal to 39.999998', 'type': 'value_error.number.not_ge', 'ctx': {'limit_value': 39.999998}}, {'loc': ('Longitude',), 'msg': 'ensure this value is greater than or equal to -104.053514', 'type': 'value_error.number.not_ge', 'ctx': {'limit_value': -104.053514}}, {'loc': ('LocationDerivationCode',), 'msg': \"unexpected value; permitted: 'SA', 'MFL', 'PCS', 'GSH', 'O', '-999', '-888'\", 'type': 'value_error.const', 'ctx': {'given': nan, 'permitted': ('SA', 'MFL', 'PCS', 'GSH', 'O', '-999', '-888')}}])>,\n",
       " 443: <bound method ValidationError.errors of ValidationError(model='PWS_Inventory', errors=[{'loc': ('Latitude',), 'msg': 'ensure this value is greater than or equal to 39.999998', 'type': 'value_error.number.not_ge', 'ctx': {'limit_value': 39.999998}}, {'loc': ('Longitude',), 'msg': 'ensure this value is greater than or equal to -104.053514', 'type': 'value_error.number.not_ge', 'ctx': {'limit_value': -104.053514}}, {'loc': ('LocationDerivationCode',), 'msg': \"unexpected value; permitted: 'SA', 'MFL', 'PCS', 'GSH', 'O', '-999', '-888'\", 'type': 'value_error.const', 'ctx': {'given': nan, 'permitted': ('SA', 'MFL', 'PCS', 'GSH', 'O', '-999', '-888')}}])>,\n",
       " 458: <bound method ValidationError.errors of ValidationError(model='PWS_Inventory', errors=[{'loc': ('Latitude',), 'msg': 'ensure this value is greater than or equal to 39.999998', 'type': 'value_error.number.not_ge', 'ctx': {'limit_value': 39.999998}}, {'loc': ('Longitude',), 'msg': 'ensure this value is greater than or equal to -104.053514', 'type': 'value_error.number.not_ge', 'ctx': {'limit_value': -104.053514}}, {'loc': ('LocationDerivationCode',), 'msg': \"unexpected value; permitted: 'SA', 'MFL', 'PCS', 'GSH', 'O', '-999', '-888'\", 'type': 'value_error.const', 'ctx': {'given': nan, 'permitted': ('SA', 'MFL', 'PCS', 'GSH', 'O', '-999', '-888')}}])>,\n",
       " 498: <bound method ValidationError.errors of ValidationError(model='PWS_Inventory', errors=[{'loc': ('Latitude',), 'msg': 'ensure this value is greater than or equal to 39.999998', 'type': 'value_error.number.not_ge', 'ctx': {'limit_value': 39.999998}}, {'loc': ('Longitude',), 'msg': 'ensure this value is greater than or equal to -104.053514', 'type': 'value_error.number.not_ge', 'ctx': {'limit_value': -104.053514}}, {'loc': ('LocationDerivationCode',), 'msg': \"unexpected value; permitted: 'SA', 'MFL', 'PCS', 'GSH', 'O', '-999', '-888'\", 'type': 'value_error.const', 'ctx': {'given': nan, 'permitted': ('SA', 'MFL', 'PCS', 'GSH', 'O', '-999', '-888')}}])>,\n",
       " 528: <bound method ValidationError.errors of ValidationError(model='PWS_Inventory', errors=[{'loc': ('Latitude',), 'msg': 'ensure this value is greater than or equal to 39.999998', 'type': 'value_error.number.not_ge', 'ctx': {'limit_value': 39.999998}}, {'loc': ('Longitude',), 'msg': 'ensure this value is greater than or equal to -104.053514', 'type': 'value_error.number.not_ge', 'ctx': {'limit_value': -104.053514}}, {'loc': ('LocationDerivationCode',), 'msg': \"unexpected value; permitted: 'SA', 'MFL', 'PCS', 'GSH', 'O', '-999', '-888'\", 'type': 'value_error.const', 'ctx': {'given': nan, 'permitted': ('SA', 'MFL', 'PCS', 'GSH', 'O', '-999', '-888')}}])>,\n",
       " 546: <bound method ValidationError.errors of ValidationError(model='PWS_Inventory', errors=[{'loc': ('Latitude',), 'msg': 'ensure this value is greater than or equal to 39.999998', 'type': 'value_error.number.not_ge', 'ctx': {'limit_value': 39.999998}}, {'loc': ('Longitude',), 'msg': 'ensure this value is greater than or equal to -104.053514', 'type': 'value_error.number.not_ge', 'ctx': {'limit_value': -104.053514}}, {'loc': ('LocationDerivationCode',), 'msg': \"unexpected value; permitted: 'SA', 'MFL', 'PCS', 'GSH', 'O', '-999', '-888'\", 'type': 'value_error.const', 'ctx': {'given': nan, 'permitted': ('SA', 'MFL', 'PCS', 'GSH', 'O', '-999', '-888')}}])>,\n",
       " 556: <bound method ValidationError.errors of ValidationError(model='PWS_Inventory', errors=[{'loc': ('Latitude',), 'msg': 'ensure this value is greater than or equal to 39.999998', 'type': 'value_error.number.not_ge', 'ctx': {'limit_value': 39.999998}}, {'loc': ('Longitude',), 'msg': 'ensure this value is greater than or equal to -104.053514', 'type': 'value_error.number.not_ge', 'ctx': {'limit_value': -104.053514}}, {'loc': ('LocationDerivationCode',), 'msg': \"unexpected value; permitted: 'SA', 'MFL', 'PCS', 'GSH', 'O', '-999', '-888'\", 'type': 'value_error.const', 'ctx': {'given': nan, 'permitted': ('SA', 'MFL', 'PCS', 'GSH', 'O', '-999', '-888')}}])>,\n",
       " 561: <bound method ValidationError.errors of ValidationError(model='PWS_Inventory', errors=[{'loc': ('Latitude',), 'msg': 'ensure this value is greater than or equal to 39.999998', 'type': 'value_error.number.not_ge', 'ctx': {'limit_value': 39.999998}}, {'loc': ('Longitude',), 'msg': 'ensure this value is greater than or equal to -104.053514', 'type': 'value_error.number.not_ge', 'ctx': {'limit_value': -104.053514}}, {'loc': ('LocationDerivationCode',), 'msg': \"unexpected value; permitted: 'SA', 'MFL', 'PCS', 'GSH', 'O', '-999', '-888'\", 'type': 'value_error.const', 'ctx': {'given': nan, 'permitted': ('SA', 'MFL', 'PCS', 'GSH', 'O', '-999', '-888')}}])>,\n",
       " 569: <bound method ValidationError.errors of ValidationError(model='PWS_Inventory', errors=[{'loc': ('Latitude',), 'msg': 'ensure this value is greater than or equal to 39.999998', 'type': 'value_error.number.not_ge', 'ctx': {'limit_value': 39.999998}}, {'loc': ('Longitude',), 'msg': 'ensure this value is greater than or equal to -104.053514', 'type': 'value_error.number.not_ge', 'ctx': {'limit_value': -104.053514}}, {'loc': ('LocationDerivationCode',), 'msg': \"unexpected value; permitted: 'SA', 'MFL', 'PCS', 'GSH', 'O', '-999', '-888'\", 'type': 'value_error.const', 'ctx': {'given': nan, 'permitted': ('SA', 'MFL', 'PCS', 'GSH', 'O', '-999', '-888')}}])>,\n",
       " 579: <bound method ValidationError.errors of ValidationError(model='PWS_Inventory', errors=[{'loc': ('Latitude',), 'msg': 'ensure this value is greater than or equal to 39.999998', 'type': 'value_error.number.not_ge', 'ctx': {'limit_value': 39.999998}}, {'loc': ('Longitude',), 'msg': 'ensure this value is greater than or equal to -104.053514', 'type': 'value_error.number.not_ge', 'ctx': {'limit_value': -104.053514}}, {'loc': ('LocationDerivationCode',), 'msg': \"unexpected value; permitted: 'SA', 'MFL', 'PCS', 'GSH', 'O', '-999', '-888'\", 'type': 'value_error.const', 'ctx': {'given': nan, 'permitted': ('SA', 'MFL', 'PCS', 'GSH', 'O', '-999', '-888')}}])>,\n",
       " 581: <bound method ValidationError.errors of ValidationError(model='PWS_Inventory', errors=[{'loc': ('Latitude',), 'msg': 'ensure this value is greater than or equal to 39.999998', 'type': 'value_error.number.not_ge', 'ctx': {'limit_value': 39.999998}}, {'loc': ('Longitude',), 'msg': 'ensure this value is greater than or equal to -104.053514', 'type': 'value_error.number.not_ge', 'ctx': {'limit_value': -104.053514}}, {'loc': ('LocationDerivationCode',), 'msg': \"unexpected value; permitted: 'SA', 'MFL', 'PCS', 'GSH', 'O', '-999', '-888'\", 'type': 'value_error.const', 'ctx': {'given': nan, 'permitted': ('SA', 'MFL', 'PCS', 'GSH', 'O', '-999', '-888')}}])>}"
      ]
     },
     "execution_count": 76,
     "metadata": {},
     "output_type": "execute_result"
    }
   ],
   "source": [
    "invalid_rows"
   ]
  },
  {
   "cell_type": "code",
   "execution_count": 77,
   "metadata": {},
   "outputs": [],
   "source": [
    "# Take the errorous rows of the inventory dataframe from key values in invalid_rows dictionary\n",
    "errorous_rows = inventory[inventory['RowIdentifier'].isin(invalid_rows.keys())]"
   ]
  },
  {
   "cell_type": "code",
   "execution_count": 78,
   "metadata": {},
   "outputs": [
    {
     "data": {
      "text/html": [
       "<div>\n",
       "<style scoped>\n",
       "    .dataframe tbody tr th:only-of-type {\n",
       "        vertical-align: middle;\n",
       "    }\n",
       "\n",
       "    .dataframe tbody tr th {\n",
       "        vertical-align: top;\n",
       "    }\n",
       "\n",
       "    .dataframe thead th {\n",
       "        text-align: right;\n",
       "    }\n",
       "</style>\n",
       "<table border=\"1\" class=\"dataframe\">\n",
       "  <thead>\n",
       "    <tr style=\"text-align: right;\">\n",
       "      <th></th>\n",
       "      <th>RowIdentifier</th>\n",
       "      <th>StateFIPSCode</th>\n",
       "      <th>PWSIDNumber</th>\n",
       "      <th>YearAssociatedTo</th>\n",
       "      <th>YearPulled</th>\n",
       "      <th>PWSName</th>\n",
       "      <th>PrincipalCountyServedFIPS</th>\n",
       "      <th>PrincipalCityFeatureID</th>\n",
       "      <th>TotalConnections</th>\n",
       "      <th>SystemPopulation</th>\n",
       "      <th>PrimarySourceCode</th>\n",
       "      <th>Latitude</th>\n",
       "      <th>Longitude</th>\n",
       "      <th>LocationDerivationCode</th>\n",
       "    </tr>\n",
       "  </thead>\n",
       "  <tbody>\n",
       "    <tr>\n",
       "      <th>43</th>\n",
       "      <td>43</td>\n",
       "      <td>31</td>\n",
       "      <td>NE3121486</td>\n",
       "      <td>2023</td>\n",
       "      <td>2024</td>\n",
       "      <td>BELLEVUE TERRACE MHC LLC</td>\n",
       "      <td>31153</td>\n",
       "      <td>827304</td>\n",
       "      <td>94</td>\n",
       "      <td>357</td>\n",
       "      <td>SWP</td>\n",
       "      <td>NaN</td>\n",
       "      <td>NaN</td>\n",
       "      <td>NaN</td>\n",
       "    </tr>\n",
       "    <tr>\n",
       "      <th>48</th>\n",
       "      <td>48</td>\n",
       "      <td>31</td>\n",
       "      <td>NE3110910</td>\n",
       "      <td>2023</td>\n",
       "      <td>2024</td>\n",
       "      <td>BENNET, VILLAGE OF</td>\n",
       "      <td>31109</td>\n",
       "      <td>-888</td>\n",
       "      <td>428</td>\n",
       "      <td>1084</td>\n",
       "      <td>GWP</td>\n",
       "      <td>NaN</td>\n",
       "      <td>NaN</td>\n",
       "      <td>NaN</td>\n",
       "    </tr>\n",
       "    <tr>\n",
       "      <th>50</th>\n",
       "      <td>50</td>\n",
       "      <td>31</td>\n",
       "      <td>NE3121227</td>\n",
       "      <td>2023</td>\n",
       "      <td>2024</td>\n",
       "      <td>BIC JOINT WATER AGENCY</td>\n",
       "      <td>31065</td>\n",
       "      <td>827204</td>\n",
       "      <td>3</td>\n",
       "      <td>355</td>\n",
       "      <td>GW</td>\n",
       "      <td>NaN</td>\n",
       "      <td>NaN</td>\n",
       "      <td>NaN</td>\n",
       "    </tr>\n",
       "    <tr>\n",
       "      <th>127</th>\n",
       "      <td>127</td>\n",
       "      <td>31</td>\n",
       "      <td>NE3121429</td>\n",
       "      <td>2023</td>\n",
       "      <td>2024</td>\n",
       "      <td>COTTONWOOD TERRACE</td>\n",
       "      <td>31111</td>\n",
       "      <td>831719</td>\n",
       "      <td>243</td>\n",
       "      <td>562</td>\n",
       "      <td>GWP</td>\n",
       "      <td>NaN</td>\n",
       "      <td>NaN</td>\n",
       "      <td>NaN</td>\n",
       "    </tr>\n",
       "    <tr>\n",
       "      <th>138</th>\n",
       "      <td>138</td>\n",
       "      <td>31</td>\n",
       "      <td>NE3110704</td>\n",
       "      <td>2023</td>\n",
       "      <td>2024</td>\n",
       "      <td>CROFTON, CITY OF</td>\n",
       "      <td>31107</td>\n",
       "      <td>828463</td>\n",
       "      <td>368</td>\n",
       "      <td>754</td>\n",
       "      <td>SWP</td>\n",
       "      <td>NaN</td>\n",
       "      <td>NaN</td>\n",
       "      <td>NaN</td>\n",
       "    </tr>\n",
       "    <tr>\n",
       "      <th>139</th>\n",
       "      <td>139</td>\n",
       "      <td>31</td>\n",
       "      <td>NE3120824</td>\n",
       "      <td>2023</td>\n",
       "      <td>2024</td>\n",
       "      <td>CROOKED CREEK WATER SYSTEM</td>\n",
       "      <td>31109</td>\n",
       "      <td>837279</td>\n",
       "      <td>33</td>\n",
       "      <td>64</td>\n",
       "      <td>GW</td>\n",
       "      <td>NaN</td>\n",
       "      <td>NaN</td>\n",
       "      <td>NaN</td>\n",
       "    </tr>\n",
       "    <tr>\n",
       "      <th>180</th>\n",
       "      <td>180</td>\n",
       "      <td>31</td>\n",
       "      <td>NE3121485</td>\n",
       "      <td>2023</td>\n",
       "      <td>2024</td>\n",
       "      <td>EAGLE WAY MHC LLC</td>\n",
       "      <td>31025</td>\n",
       "      <td>828917</td>\n",
       "      <td>53</td>\n",
       "      <td>99</td>\n",
       "      <td>GWP</td>\n",
       "      <td>NaN</td>\n",
       "      <td>NaN</td>\n",
       "      <td>NaN</td>\n",
       "    </tr>\n",
       "    <tr>\n",
       "      <th>278</th>\n",
       "      <td>278</td>\n",
       "      <td>31</td>\n",
       "      <td>NE3121481</td>\n",
       "      <td>2023</td>\n",
       "      <td>2024</td>\n",
       "      <td>K &amp; K MANUFACTURED HOME COMMUNITY</td>\n",
       "      <td>31001</td>\n",
       "      <td>829848</td>\n",
       "      <td>50</td>\n",
       "      <td>180</td>\n",
       "      <td>GWP</td>\n",
       "      <td>NaN</td>\n",
       "      <td>NaN</td>\n",
       "      <td>NaN</td>\n",
       "    </tr>\n",
       "    <tr>\n",
       "      <th>310</th>\n",
       "      <td>310</td>\n",
       "      <td>31</td>\n",
       "      <td>NE3121368</td>\n",
       "      <td>2023</td>\n",
       "      <td>2024</td>\n",
       "      <td>LOWER BIG BLUE NRD - WYMORE</td>\n",
       "      <td>31067</td>\n",
       "      <td>834893</td>\n",
       "      <td>228</td>\n",
       "      <td>856</td>\n",
       "      <td>GWP</td>\n",
       "      <td>NaN</td>\n",
       "      <td>NaN</td>\n",
       "      <td>NaN</td>\n",
       "    </tr>\n",
       "    <tr>\n",
       "      <th>336</th>\n",
       "      <td>336</td>\n",
       "      <td>31</td>\n",
       "      <td>NE3121363</td>\n",
       "      <td>2023</td>\n",
       "      <td>2024</td>\n",
       "      <td>MEADOWBROOK ESTATES WATER SYSTEM</td>\n",
       "      <td>31055</td>\n",
       "      <td>835483</td>\n",
       "      <td>266</td>\n",
       "      <td>675</td>\n",
       "      <td>SWP</td>\n",
       "      <td>NaN</td>\n",
       "      <td>NaN</td>\n",
       "      <td>NaN</td>\n",
       "    </tr>\n",
       "    <tr>\n",
       "      <th>361</th>\n",
       "      <td>361</td>\n",
       "      <td>31</td>\n",
       "      <td>NE3121478</td>\n",
       "      <td>2023</td>\n",
       "      <td>2024</td>\n",
       "      <td>NEBRASKAN MANUFACTURED HOME COMMUNITY</td>\n",
       "      <td>31001</td>\n",
       "      <td>829848</td>\n",
       "      <td>61</td>\n",
       "      <td>108</td>\n",
       "      <td>GWP</td>\n",
       "      <td>NaN</td>\n",
       "      <td>NaN</td>\n",
       "      <td>NaN</td>\n",
       "    </tr>\n",
       "    <tr>\n",
       "      <th>380</th>\n",
       "      <td>380</td>\n",
       "      <td>31</td>\n",
       "      <td>NE3102704</td>\n",
       "      <td>2023</td>\n",
       "      <td>2024</td>\n",
       "      <td>OBERT, VILLAGE OF</td>\n",
       "      <td>31027</td>\n",
       "      <td>831824</td>\n",
       "      <td>14</td>\n",
       "      <td>58</td>\n",
       "      <td>SWP</td>\n",
       "      <td>NaN</td>\n",
       "      <td>NaN</td>\n",
       "      <td>NaN</td>\n",
       "    </tr>\n",
       "    <tr>\n",
       "      <th>395</th>\n",
       "      <td>395</td>\n",
       "      <td>31</td>\n",
       "      <td>NE3113109</td>\n",
       "      <td>2023</td>\n",
       "      <td>2024</td>\n",
       "      <td>OTOE CO RWD 1</td>\n",
       "      <td>31131</td>\n",
       "      <td>-888</td>\n",
       "      <td>684</td>\n",
       "      <td>1300</td>\n",
       "      <td>GUP</td>\n",
       "      <td>NaN</td>\n",
       "      <td>NaN</td>\n",
       "      <td>NaN</td>\n",
       "    </tr>\n",
       "    <tr>\n",
       "      <th>396</th>\n",
       "      <td>396</td>\n",
       "      <td>31</td>\n",
       "      <td>NE3121382</td>\n",
       "      <td>2023</td>\n",
       "      <td>2024</td>\n",
       "      <td>OTOE CO. RWD #3 - LOUISVILLE</td>\n",
       "      <td>31025</td>\n",
       "      <td>834012</td>\n",
       "      <td>286</td>\n",
       "      <td>630</td>\n",
       "      <td>GWP</td>\n",
       "      <td>NaN</td>\n",
       "      <td>NaN</td>\n",
       "      <td>NaN</td>\n",
       "    </tr>\n",
       "    <tr>\n",
       "      <th>407</th>\n",
       "      <td>407</td>\n",
       "      <td>31</td>\n",
       "      <td>NE3113304</td>\n",
       "      <td>2023</td>\n",
       "      <td>2024</td>\n",
       "      <td>PAWNEE CO RWD #1</td>\n",
       "      <td>31133</td>\n",
       "      <td>-888</td>\n",
       "      <td>486</td>\n",
       "      <td>1500</td>\n",
       "      <td>GW</td>\n",
       "      <td>NaN</td>\n",
       "      <td>NaN</td>\n",
       "      <td>NaN</td>\n",
       "    </tr>\n",
       "    <tr>\n",
       "      <th>408</th>\n",
       "      <td>408</td>\n",
       "      <td>31</td>\n",
       "      <td>NE3121445</td>\n",
       "      <td>2023</td>\n",
       "      <td>2024</td>\n",
       "      <td>PAWNEE CO RWD #2</td>\n",
       "      <td>31133</td>\n",
       "      <td>-888</td>\n",
       "      <td>4</td>\n",
       "      <td>40</td>\n",
       "      <td>GWP</td>\n",
       "      <td>NaN</td>\n",
       "      <td>NaN</td>\n",
       "      <td>NaN</td>\n",
       "    </tr>\n",
       "    <tr>\n",
       "      <th>435</th>\n",
       "      <td>435</td>\n",
       "      <td>31</td>\n",
       "      <td>NE3121381</td>\n",
       "      <td>2023</td>\n",
       "      <td>2024</td>\n",
       "      <td>RAVEN'S NEST</td>\n",
       "      <td>31025</td>\n",
       "      <td>830916</td>\n",
       "      <td>25</td>\n",
       "      <td>70</td>\n",
       "      <td>GW</td>\n",
       "      <td>NaN</td>\n",
       "      <td>NaN</td>\n",
       "      <td>NaN</td>\n",
       "    </tr>\n",
       "    <tr>\n",
       "      <th>442</th>\n",
       "      <td>442</td>\n",
       "      <td>31</td>\n",
       "      <td>NE3114704</td>\n",
       "      <td>2023</td>\n",
       "      <td>2024</td>\n",
       "      <td>RICHARDSON CO RWD 2</td>\n",
       "      <td>31147</td>\n",
       "      <td>829265</td>\n",
       "      <td>233</td>\n",
       "      <td>980</td>\n",
       "      <td>GWP</td>\n",
       "      <td>NaN</td>\n",
       "      <td>NaN</td>\n",
       "      <td>NaN</td>\n",
       "    </tr>\n",
       "    <tr>\n",
       "      <th>443</th>\n",
       "      <td>443</td>\n",
       "      <td>31</td>\n",
       "      <td>NE3121527</td>\n",
       "      <td>2023</td>\n",
       "      <td>2024</td>\n",
       "      <td>RIO VISTA MHP</td>\n",
       "      <td>31055</td>\n",
       "      <td>835483</td>\n",
       "      <td>40</td>\n",
       "      <td>100</td>\n",
       "      <td>SWP</td>\n",
       "      <td>NaN</td>\n",
       "      <td>NaN</td>\n",
       "      <td>NaN</td>\n",
       "    </tr>\n",
       "    <tr>\n",
       "      <th>458</th>\n",
       "      <td>458</td>\n",
       "      <td>31</td>\n",
       "      <td>NE3121401</td>\n",
       "      <td>2023</td>\n",
       "      <td>2024</td>\n",
       "      <td>SANDY POINTE LAKE DEVELOPMENT</td>\n",
       "      <td>31155</td>\n",
       "      <td>827094</td>\n",
       "      <td>35</td>\n",
       "      <td>100</td>\n",
       "      <td>GW</td>\n",
       "      <td>NaN</td>\n",
       "      <td>NaN</td>\n",
       "      <td>NaN</td>\n",
       "    </tr>\n",
       "    <tr>\n",
       "      <th>498</th>\n",
       "      <td>498</td>\n",
       "      <td>31</td>\n",
       "      <td>NE3120175</td>\n",
       "      <td>2023</td>\n",
       "      <td>2024</td>\n",
       "      <td>ST HELENA, VILLAGE OF</td>\n",
       "      <td>31027</td>\n",
       "      <td>-888</td>\n",
       "      <td>43</td>\n",
       "      <td>89</td>\n",
       "      <td>SWP</td>\n",
       "      <td>NaN</td>\n",
       "      <td>NaN</td>\n",
       "      <td>NaN</td>\n",
       "    </tr>\n",
       "    <tr>\n",
       "      <th>528</th>\n",
       "      <td>528</td>\n",
       "      <td>31</td>\n",
       "      <td>NE3120301</td>\n",
       "      <td>2023</td>\n",
       "      <td>2024</td>\n",
       "      <td>THURSTON CO RURAL WATER</td>\n",
       "      <td>31173</td>\n",
       "      <td>832034</td>\n",
       "      <td>152</td>\n",
       "      <td>448</td>\n",
       "      <td>GWP</td>\n",
       "      <td>NaN</td>\n",
       "      <td>NaN</td>\n",
       "      <td>NaN</td>\n",
       "    </tr>\n",
       "    <tr>\n",
       "      <th>546</th>\n",
       "      <td>546</td>\n",
       "      <td>31</td>\n",
       "      <td>NE3110713</td>\n",
       "      <td>2023</td>\n",
       "      <td>2024</td>\n",
       "      <td>VERDIGRE, VILLAGE OF</td>\n",
       "      <td>31107</td>\n",
       "      <td>834365</td>\n",
       "      <td>303</td>\n",
       "      <td>552</td>\n",
       "      <td>GWP</td>\n",
       "      <td>NaN</td>\n",
       "      <td>NaN</td>\n",
       "      <td>NaN</td>\n",
       "    </tr>\n",
       "    <tr>\n",
       "      <th>556</th>\n",
       "      <td>556</td>\n",
       "      <td>31</td>\n",
       "      <td>NE3121518</td>\n",
       "      <td>2023</td>\n",
       "      <td>2024</td>\n",
       "      <td>WASHINGTON TERRACE LLC</td>\n",
       "      <td>31153</td>\n",
       "      <td>827304</td>\n",
       "      <td>106</td>\n",
       "      <td>223</td>\n",
       "      <td>SWP</td>\n",
       "      <td>NaN</td>\n",
       "      <td>NaN</td>\n",
       "      <td>NaN</td>\n",
       "    </tr>\n",
       "    <tr>\n",
       "      <th>561</th>\n",
       "      <td>561</td>\n",
       "      <td>31</td>\n",
       "      <td>NE3102901</td>\n",
       "      <td>2023</td>\n",
       "      <td>2024</td>\n",
       "      <td>WAUNETA, VILLAGE OF</td>\n",
       "      <td>31029</td>\n",
       "      <td>834507</td>\n",
       "      <td>364</td>\n",
       "      <td>543</td>\n",
       "      <td>GW</td>\n",
       "      <td>NaN</td>\n",
       "      <td>NaN</td>\n",
       "      <td>NaN</td>\n",
       "    </tr>\n",
       "    <tr>\n",
       "      <th>569</th>\n",
       "      <td>569</td>\n",
       "      <td>31</td>\n",
       "      <td>NE3121406</td>\n",
       "      <td>2023</td>\n",
       "      <td>2024</td>\n",
       "      <td>WEST SIDE TRAILER COURT</td>\n",
       "      <td>31019</td>\n",
       "      <td>830442</td>\n",
       "      <td>25</td>\n",
       "      <td>25</td>\n",
       "      <td>GW</td>\n",
       "      <td>NaN</td>\n",
       "      <td>NaN</td>\n",
       "      <td>NaN</td>\n",
       "    </tr>\n",
       "    <tr>\n",
       "      <th>579</th>\n",
       "      <td>579</td>\n",
       "      <td>31</td>\n",
       "      <td>NE3121434</td>\n",
       "      <td>2023</td>\n",
       "      <td>2024</td>\n",
       "      <td>WINNEBAGO TRIBAL FACILITIES</td>\n",
       "      <td>31173</td>\n",
       "      <td>834815</td>\n",
       "      <td>33</td>\n",
       "      <td>145</td>\n",
       "      <td>GWP</td>\n",
       "      <td>NaN</td>\n",
       "      <td>NaN</td>\n",
       "      <td>NaN</td>\n",
       "    </tr>\n",
       "    <tr>\n",
       "      <th>581</th>\n",
       "      <td>581</td>\n",
       "      <td>31</td>\n",
       "      <td>NE3110714</td>\n",
       "      <td>2023</td>\n",
       "      <td>2024</td>\n",
       "      <td>WINNETOON, VILLAGE OF</td>\n",
       "      <td>31107</td>\n",
       "      <td>834820</td>\n",
       "      <td>35</td>\n",
       "      <td>75</td>\n",
       "      <td>GWP</td>\n",
       "      <td>NaN</td>\n",
       "      <td>NaN</td>\n",
       "      <td>NaN</td>\n",
       "    </tr>\n",
       "  </tbody>\n",
       "</table>\n",
       "</div>"
      ],
      "text/plain": [
       "     RowIdentifier  StateFIPSCode PWSIDNumber  YearAssociatedTo  YearPulled  \\\n",
       "43              43             31   NE3121486              2023        2024   \n",
       "48              48             31   NE3110910              2023        2024   \n",
       "50              50             31   NE3121227              2023        2024   \n",
       "127            127             31   NE3121429              2023        2024   \n",
       "138            138             31   NE3110704              2023        2024   \n",
       "139            139             31   NE3120824              2023        2024   \n",
       "180            180             31   NE3121485              2023        2024   \n",
       "278            278             31   NE3121481              2023        2024   \n",
       "310            310             31   NE3121368              2023        2024   \n",
       "336            336             31   NE3121363              2023        2024   \n",
       "361            361             31   NE3121478              2023        2024   \n",
       "380            380             31   NE3102704              2023        2024   \n",
       "395            395             31   NE3113109              2023        2024   \n",
       "396            396             31   NE3121382              2023        2024   \n",
       "407            407             31   NE3113304              2023        2024   \n",
       "408            408             31   NE3121445              2023        2024   \n",
       "435            435             31   NE3121381              2023        2024   \n",
       "442            442             31   NE3114704              2023        2024   \n",
       "443            443             31   NE3121527              2023        2024   \n",
       "458            458             31   NE3121401              2023        2024   \n",
       "498            498             31   NE3120175              2023        2024   \n",
       "528            528             31   NE3120301              2023        2024   \n",
       "546            546             31   NE3110713              2023        2024   \n",
       "556            556             31   NE3121518              2023        2024   \n",
       "561            561             31   NE3102901              2023        2024   \n",
       "569            569             31   NE3121406              2023        2024   \n",
       "579            579             31   NE3121434              2023        2024   \n",
       "581            581             31   NE3110714              2023        2024   \n",
       "\n",
       "                                   PWSName  PrincipalCountyServedFIPS  \\\n",
       "43                BELLEVUE TERRACE MHC LLC                      31153   \n",
       "48                      BENNET, VILLAGE OF                      31109   \n",
       "50                  BIC JOINT WATER AGENCY                      31065   \n",
       "127                     COTTONWOOD TERRACE                      31111   \n",
       "138                       CROFTON, CITY OF                      31107   \n",
       "139             CROOKED CREEK WATER SYSTEM                      31109   \n",
       "180                      EAGLE WAY MHC LLC                      31025   \n",
       "278      K & K MANUFACTURED HOME COMMUNITY                      31001   \n",
       "310            LOWER BIG BLUE NRD - WYMORE                      31067   \n",
       "336       MEADOWBROOK ESTATES WATER SYSTEM                      31055   \n",
       "361  NEBRASKAN MANUFACTURED HOME COMMUNITY                      31001   \n",
       "380                      OBERT, VILLAGE OF                      31027   \n",
       "395                          OTOE CO RWD 1                      31131   \n",
       "396           OTOE CO. RWD #3 - LOUISVILLE                      31025   \n",
       "407                       PAWNEE CO RWD #1                      31133   \n",
       "408                       PAWNEE CO RWD #2                      31133   \n",
       "435                           RAVEN'S NEST                      31025   \n",
       "442                    RICHARDSON CO RWD 2                      31147   \n",
       "443                          RIO VISTA MHP                      31055   \n",
       "458          SANDY POINTE LAKE DEVELOPMENT                      31155   \n",
       "498                  ST HELENA, VILLAGE OF                      31027   \n",
       "528                THURSTON CO RURAL WATER                      31173   \n",
       "546                   VERDIGRE, VILLAGE OF                      31107   \n",
       "556                 WASHINGTON TERRACE LLC                      31153   \n",
       "561                    WAUNETA, VILLAGE OF                      31029   \n",
       "569                WEST SIDE TRAILER COURT                      31019   \n",
       "579            WINNEBAGO TRIBAL FACILITIES                      31173   \n",
       "581                  WINNETOON, VILLAGE OF                      31107   \n",
       "\n",
       "     PrincipalCityFeatureID  TotalConnections  SystemPopulation  \\\n",
       "43                   827304                94               357   \n",
       "48                     -888               428              1084   \n",
       "50                   827204                 3               355   \n",
       "127                  831719               243               562   \n",
       "138                  828463               368               754   \n",
       "139                  837279                33                64   \n",
       "180                  828917                53                99   \n",
       "278                  829848                50               180   \n",
       "310                  834893               228               856   \n",
       "336                  835483               266               675   \n",
       "361                  829848                61               108   \n",
       "380                  831824                14                58   \n",
       "395                    -888               684              1300   \n",
       "396                  834012               286               630   \n",
       "407                    -888               486              1500   \n",
       "408                    -888                 4                40   \n",
       "435                  830916                25                70   \n",
       "442                  829265               233               980   \n",
       "443                  835483                40               100   \n",
       "458                  827094                35               100   \n",
       "498                    -888                43                89   \n",
       "528                  832034               152               448   \n",
       "546                  834365               303               552   \n",
       "556                  827304               106               223   \n",
       "561                  834507               364               543   \n",
       "569                  830442                25                25   \n",
       "579                  834815                33               145   \n",
       "581                  834820                35                75   \n",
       "\n",
       "    PrimarySourceCode  Latitude  Longitude LocationDerivationCode  \n",
       "43                SWP       NaN        NaN                    NaN  \n",
       "48                GWP       NaN        NaN                    NaN  \n",
       "50                 GW       NaN        NaN                    NaN  \n",
       "127               GWP       NaN        NaN                    NaN  \n",
       "138               SWP       NaN        NaN                    NaN  \n",
       "139                GW       NaN        NaN                    NaN  \n",
       "180               GWP       NaN        NaN                    NaN  \n",
       "278               GWP       NaN        NaN                    NaN  \n",
       "310               GWP       NaN        NaN                    NaN  \n",
       "336               SWP       NaN        NaN                    NaN  \n",
       "361               GWP       NaN        NaN                    NaN  \n",
       "380               SWP       NaN        NaN                    NaN  \n",
       "395               GUP       NaN        NaN                    NaN  \n",
       "396               GWP       NaN        NaN                    NaN  \n",
       "407                GW       NaN        NaN                    NaN  \n",
       "408               GWP       NaN        NaN                    NaN  \n",
       "435                GW       NaN        NaN                    NaN  \n",
       "442               GWP       NaN        NaN                    NaN  \n",
       "443               SWP       NaN        NaN                    NaN  \n",
       "458                GW       NaN        NaN                    NaN  \n",
       "498               SWP       NaN        NaN                    NaN  \n",
       "528               GWP       NaN        NaN                    NaN  \n",
       "546               GWP       NaN        NaN                    NaN  \n",
       "556               SWP       NaN        NaN                    NaN  \n",
       "561                GW       NaN        NaN                    NaN  \n",
       "569                GW       NaN        NaN                    NaN  \n",
       "579               GWP       NaN        NaN                    NaN  \n",
       "581               GWP       NaN        NaN                    NaN  "
      ]
     },
     "execution_count": 78,
     "metadata": {},
     "output_type": "execute_result"
    }
   ],
   "source": [
    "errorous_rows"
   ]
  },
  {
   "cell_type": "code",
   "execution_count": 79,
   "metadata": {},
   "outputs": [],
   "source": [
    "errorous_rows.to_csv('/Users/babak.jfard/projects/EPHTracking/Data/Water_Data_2024/PWSInventory_2024_errors.csv', index=False)"
   ]
  },
  {
   "cell_type": "markdown",
   "metadata": {},
   "source": [
    "## Checking the Sampling\n",
    "This is the latest file (The unaggregated)"
   ]
  },
  {
   "cell_type": "code",
   "execution_count": 83,
   "metadata": {},
   "outputs": [],
   "source": [
    "import pandas as pd\n",
    "sampling = pd.read_excel('/Users/babak.jfard/projects/EPHTracking/Data/Water_Data_2024/PWSSampleResults2022-2023.xlsx')"
   ]
  },
  {
   "cell_type": "code",
   "execution_count": 81,
   "metadata": {},
   "outputs": [
    {
     "data": {
      "text/plain": [
       "Index(['PWSIDNumber', 'Year', 'AnalyteName', 'AnalyteCode',\n",
       "       'ConcentrationUnits', 'Concentration', 'DateSampled', 'SamplePointID',\n",
       "       'DetectionLimit', 'DetectionLimitUom', 'NonDetectFlag'],\n",
       "      dtype='object')"
      ]
     },
     "execution_count": 81,
     "metadata": {},
     "output_type": "execute_result"
    }
   ],
   "source": [
    "sampling.columns"
   ]
  },
  {
   "cell_type": "code",
   "execution_count": 84,
   "metadata": {},
   "outputs": [],
   "source": [
    "# check for duplicates, and add them into a separate dataframe\n",
    "\n",
    "duplicates = sampling[sampling.duplicated(subset=['PWSIDNumber', 'Year', 'AnalyteCode', 'DateSampled', 'SamplePointID'], keep=False)]"
   ]
  },
  {
   "cell_type": "code",
   "execution_count": 32,
   "metadata": {},
   "outputs": [],
   "source": [
    "duplicates.to_excel('/Users/babak.jfard/projects/EPHTracking/Data/Water_Data_2024/duplicates_samples.xlsx')"
   ]
  },
  {
   "cell_type": "code",
   "execution_count": 85,
   "metadata": {},
   "outputs": [
    {
     "data": {
      "text/plain": [
       "Index(['PWSIDNumber', 'Year', 'AnalyteName', 'AnalyteCode',\n",
       "       'ConcentrationUnits', 'Concentration', 'DateSampled', 'SamplePointID',\n",
       "       'DetectionLimit', 'DetectionLimitUom', 'NonDetectFlag'],\n",
       "      dtype='object')"
      ]
     },
     "execution_count": 85,
     "metadata": {},
     "output_type": "execute_result"
    }
   ],
   "source": [
    "sampling.columns"
   ]
  },
  {
   "cell_type": "code",
   "execution_count": 86,
   "metadata": {},
   "outputs": [
    {
     "data": {
      "text/plain": [
       "dict_keys(['RowIdentifier', 'PWSIDNumber', 'Year', 'AnalyteCode', 'ConcentrationUnits', 'Concentration', 'DateSampled'])"
      ]
     },
     "execution_count": 86,
     "metadata": {},
     "output_type": "execute_result"
    }
   ],
   "source": [
    "Sampling.__fields__.keys()"
   ]
  },
  {
   "cell_type": "code",
   "execution_count": 87,
   "metadata": {},
   "outputs": [
    {
     "data": {
      "text/plain": [
       "1038    4340\n",
       "1005    1175\n",
       "2050    1110\n",
       "2039    1110\n",
       "2987    1016\n",
       "2984    1016\n",
       "2950     696\n",
       "2456     694\n",
       "4010     433\n",
       "4006     167\n",
       "1041       4\n",
       "Name: AnalyteCode, dtype: int64"
      ]
     },
     "execution_count": 87,
     "metadata": {},
     "output_type": "execute_result"
    }
   ],
   "source": [
    "sampling.AnalyteCode.value_counts()"
   ]
  },
  {
   "cell_type": "code",
   "execution_count": 88,
   "metadata": {},
   "outputs": [
    {
     "data": {
      "text/html": [
       "<div>\n",
       "<style scoped>\n",
       "    .dataframe tbody tr th:only-of-type {\n",
       "        vertical-align: middle;\n",
       "    }\n",
       "\n",
       "    .dataframe tbody tr th {\n",
       "        vertical-align: top;\n",
       "    }\n",
       "\n",
       "    .dataframe thead th {\n",
       "        text-align: right;\n",
       "    }\n",
       "</style>\n",
       "<table border=\"1\" class=\"dataframe\">\n",
       "  <thead>\n",
       "    <tr style=\"text-align: right;\">\n",
       "      <th></th>\n",
       "      <th>Number of Rows</th>\n",
       "    </tr>\n",
       "  </thead>\n",
       "  <tbody>\n",
       "    <tr>\n",
       "      <th>2022</th>\n",
       "      <td>5968</td>\n",
       "    </tr>\n",
       "    <tr>\n",
       "      <th>2023</th>\n",
       "      <td>5793</td>\n",
       "    </tr>\n",
       "  </tbody>\n",
       "</table>\n",
       "</div>"
      ],
      "text/plain": [
       "      Number of Rows\n",
       "2022            5968\n",
       "2023            5793"
      ]
     },
     "execution_count": 88,
     "metadata": {},
     "output_type": "execute_result"
    }
   ],
   "source": [
    "# count the number of rows for each year, adding heading to the output\n",
    "sampling.Year.value_counts().to_frame('Number of Rows')"
   ]
  },
  {
   "cell_type": "code",
   "execution_count": 89,
   "metadata": {},
   "outputs": [],
   "source": [
    "# For AnalyteCode Replace all 1038 values with 1040\n",
    "#sampling['AnalyteCode'] = sampling['AnalyteCode'].replace(1038, 1040)\n",
    "\n",
    "# Delete all rows with 1041 as AnalyteCode, which are only NITRITE tests\n",
    "sampling = sampling[sampling['AnalyteCode'] != 1041] #Contained only 17 rows"
   ]
  },
  {
   "cell_type": "code",
   "execution_count": 90,
   "metadata": {},
   "outputs": [],
   "source": [
    "sampling['ConcentrationUnits'] = sampling['ConcentrationUnits'].str.lower()"
   ]
  },
  {
   "cell_type": "code",
   "execution_count": 91,
   "metadata": {},
   "outputs": [],
   "source": [
    "del_cols = list(set(sampling.columns) - set(Sampling.__fields__.keys()))\n",
    "\n",
    "# Remove the columns that are not in the Sampling validator\n",
    "sampling_validation = sampling.drop(columns=del_cols)\n",
    "\n",
    "sampling_validation.insert(0, 'RowIdentifier', sampling.index)"
   ]
  },
  {
   "cell_type": "code",
   "execution_count": 92,
   "metadata": {},
   "outputs": [
    {
     "name": "stdout",
     "output_type": "stream",
     "text": [
      "Index(['RowIdentifier', 'PWSIDNumber', 'Year', 'AnalyteCode',\n",
      "       'ConcentrationUnits', 'Concentration', 'DateSampled'],\n",
      "      dtype='object')\n",
      "dict_keys(['RowIdentifier', 'PWSIDNumber', 'Year', 'AnalyteCode', 'ConcentrationUnits', 'Concentration', 'DateSampled'])\n"
     ]
    }
   ],
   "source": [
    "print(sampling_validation.columns)\n",
    "print(Sampling.__fields__.keys())"
   ]
  },
  {
   "cell_type": "code",
   "execution_count": 93,
   "metadata": {},
   "outputs": [],
   "source": [
    "# change type of colum AnlyteCode to string\n",
    "sampling_validation['AnalyteCode'] = sampling_validation['AnalyteCode'].astype(str)"
   ]
  },
  {
   "cell_type": "code",
   "execution_count": 94,
   "metadata": {},
   "outputs": [],
   "source": [
    "# now validating the sampling dataframe\n",
    "# Doing the validation for each row as a PWS_Inventory object\n",
    "valid_rows_sampling = []\n",
    "# Creat a dictionary that contains the RowIdentifier of the invalid rows and the error message\n",
    "invalid_rows_sampling = {}\n",
    "for index, row in sampling_validation.iterrows():\n",
    "    \n",
    "    try:\n",
    "        Sampling(**row)\n",
    "        # If passeed, add RowIdentifier into valid_rows list\n",
    "        valid_rows_sampling.append(row['RowIdentifier'])\n",
    "\n",
    "    except ValidationError as e:\n",
    "        # If failed, add RowIdentifier and the error message into invalid_rows dictionary\n",
    "        invalid_rows_sampling[row['RowIdentifier']] = e.errors\n",
    "\n",
    "        #print(e)"
   ]
  },
  {
   "cell_type": "code",
   "execution_count": 95,
   "metadata": {},
   "outputs": [
    {
     "data": {
      "text/plain": [
       "{}"
      ]
     },
     "execution_count": 95,
     "metadata": {},
     "output_type": "execute_result"
    }
   ],
   "source": [
    "invalid_rows_sampling"
   ]
  },
  {
   "cell_type": "code",
   "execution_count": 96,
   "metadata": {},
   "outputs": [],
   "source": [
    "sampling.to_csv('/Users/babak.jfard/projects/EPHTracking/Data/Water_Data_2024/Sample_results_2024.csv', index=False)"
   ]
  },
  {
   "cell_type": "code",
   "execution_count": 97,
   "metadata": {},
   "outputs": [
    {
     "data": {
      "text/plain": [
       "1038    4340\n",
       "1005    1175\n",
       "2050    1110\n",
       "2039    1110\n",
       "2987    1016\n",
       "2984    1016\n",
       "2950     696\n",
       "2456     694\n",
       "4010     433\n",
       "4006     167\n",
       "Name: AnalyteCode, dtype: int64"
      ]
     },
     "execution_count": 97,
     "metadata": {},
     "output_type": "execute_result"
    }
   ],
   "source": [
    "# Looks like there are more undefined AnalyteCodes in the sampling dataframe\n",
    "# Let's see what they are\n",
    "sampling.AnalyteCode.value_counts()"
   ]
  },
  {
   "cell_type": "code",
   "execution_count": 98,
   "metadata": {},
   "outputs": [
    {
     "data": {
      "text/plain": [
       "typing.Literal['1005', '2050', '2456', '2950', '2039', '1038', '1040', '2987', '2984', '4010', '4006']"
      ]
     },
     "execution_count": 98,
     "metadata": {},
     "output_type": "execute_result"
    }
   ],
   "source": [
    "# What are allowable AnalyteCodes as defined in the Sampling class\n",
    "Sampling.__fields__['AnalyteCode'].type_\n"
   ]
  },
  {
   "cell_type": "markdown",
   "metadata": {},
   "source": [
    "### How to Aggregate into Sampling Results\n",
    "\n",
    "Each community water system:\n",
    "* annual mean and maz concentration of:\n",
    "\n",
    "--- arsenic, disinfection byproducts (HAA5 and TTHM), \n",
    "\n",
    "--- nitrates, \n",
    "\n",
    "--- atrazine, \n",
    "\n",
    "--- di(2-ethylhexyl) phthalate (DEHP), \n",
    "\n",
    "--- radium, \n",
    "\n",
    "--- tetrachloroethene (tetrachloroethylene) (PCE), \n",
    "\n",
    "--- trichloroethene (trichloroethylene) (TCE), and \n",
    "\n",
    "--- uranium\n",
    "\n",
    "\n",
    "* Mean concentration per quarter \n",
    "\n",
    "--- Nitrate\n",
    "\n",
    "---- Atrazine"
   ]
  },
  {
   "cell_type": "code",
   "execution_count": 101,
   "metadata": {},
   "outputs": [
    {
     "data": {
      "text/plain": [
       "{'NE3102703',\n",
       " 'NE3102707',\n",
       " 'NE3104308',\n",
       " 'NE3113901',\n",
       " 'NE3117304',\n",
       " 'NE3117307',\n",
       " 'NE3117903',\n",
       " 'NE3120031',\n",
       " 'NE3120358'}"
      ]
     },
     "execution_count": 101,
     "metadata": {},
     "output_type": "execute_result"
    }
   ],
   "source": [
    "set(inventory.PWSIDNumber.unique()) - set(sampling.PWSIDNumber.unique())"
   ]
  },
  {
   "cell_type": "code",
   "execution_count": 102,
   "metadata": {},
   "outputs": [
    {
     "data": {
      "text/plain": [
       "Index(['PWSIDNumber', 'Year', 'AnalyteName', 'AnalyteCode',\n",
       "       'ConcentrationUnits', 'Concentration', 'DateSampled', 'SamplePointID',\n",
       "       'DetectionLimit', 'DetectionLimitUom', 'NonDetectFlag'],\n",
       "      dtype='object')"
      ]
     },
     "execution_count": 102,
     "metadata": {},
     "output_type": "execute_result"
    }
   ],
   "source": [
    "sampling.columns"
   ]
  },
  {
   "cell_type": "code",
   "execution_count": 103,
   "metadata": {},
   "outputs": [
    {
     "data": {
      "text/plain": [
       "2022    5964\n",
       "2023    5793\n",
       "Name: Year, dtype: int64"
      ]
     },
     "execution_count": 103,
     "metadata": {},
     "output_type": "execute_result"
    }
   ],
   "source": [
    "sampling.Year.value_counts()"
   ]
  },
  {
   "cell_type": "code",
   "execution_count": 104,
   "metadata": {},
   "outputs": [
    {
     "data": {
      "text/html": [
       "<div>\n",
       "<style scoped>\n",
       "    .dataframe tbody tr th:only-of-type {\n",
       "        vertical-align: middle;\n",
       "    }\n",
       "\n",
       "    .dataframe tbody tr th {\n",
       "        vertical-align: top;\n",
       "    }\n",
       "\n",
       "    .dataframe thead th {\n",
       "        text-align: right;\n",
       "    }\n",
       "</style>\n",
       "<table border=\"1\" class=\"dataframe\">\n",
       "  <thead>\n",
       "    <tr style=\"text-align: right;\">\n",
       "      <th></th>\n",
       "      <th>PWSIDNumber</th>\n",
       "      <th>Year</th>\n",
       "      <th>AnalyteName</th>\n",
       "      <th>AnalyteCode</th>\n",
       "      <th>ConcentrationUnits</th>\n",
       "      <th>Concentration</th>\n",
       "      <th>DateSampled</th>\n",
       "      <th>SamplePointID</th>\n",
       "      <th>DetectionLimit</th>\n",
       "      <th>DetectionLimitUom</th>\n",
       "      <th>NonDetectFlag</th>\n",
       "    </tr>\n",
       "  </thead>\n",
       "  <tbody>\n",
       "    <tr>\n",
       "      <th>0</th>\n",
       "      <td>NE3115509</td>\n",
       "      <td>2022</td>\n",
       "      <td>TETRACHLOROETHYLENE</td>\n",
       "      <td>2987</td>\n",
       "      <td>ug/l</td>\n",
       "      <td>0.25</td>\n",
       "      <td>2022-01-04</td>\n",
       "      <td>001</td>\n",
       "      <td>0.5</td>\n",
       "      <td>UG/L</td>\n",
       "      <td>1</td>\n",
       "    </tr>\n",
       "    <tr>\n",
       "      <th>1</th>\n",
       "      <td>NE3115509</td>\n",
       "      <td>2022</td>\n",
       "      <td>TRICHLOROETHYLENE</td>\n",
       "      <td>2984</td>\n",
       "      <td>ug/l</td>\n",
       "      <td>0.25</td>\n",
       "      <td>2022-01-04</td>\n",
       "      <td>001</td>\n",
       "      <td>0.5</td>\n",
       "      <td>UG/L</td>\n",
       "      <td>1</td>\n",
       "    </tr>\n",
       "    <tr>\n",
       "      <th>2</th>\n",
       "      <td>NE3108101</td>\n",
       "      <td>2022</td>\n",
       "      <td>TETRACHLOROETHYLENE</td>\n",
       "      <td>2987</td>\n",
       "      <td>ug/l</td>\n",
       "      <td>0.25</td>\n",
       "      <td>2022-01-03</td>\n",
       "      <td>G-028307</td>\n",
       "      <td>0.5</td>\n",
       "      <td>UG/L</td>\n",
       "      <td>1</td>\n",
       "    </tr>\n",
       "    <tr>\n",
       "      <th>3</th>\n",
       "      <td>NE3103505</td>\n",
       "      <td>2022</td>\n",
       "      <td>TETRACHLOROETHYLENE</td>\n",
       "      <td>2987</td>\n",
       "      <td>ug/l</td>\n",
       "      <td>0.25</td>\n",
       "      <td>2022-01-03</td>\n",
       "      <td>G-073387</td>\n",
       "      <td>0.5</td>\n",
       "      <td>UG/L</td>\n",
       "      <td>1</td>\n",
       "    </tr>\n",
       "    <tr>\n",
       "      <th>4</th>\n",
       "      <td>NE3103505</td>\n",
       "      <td>2022</td>\n",
       "      <td>TETRACHLOROETHYLENE</td>\n",
       "      <td>2987</td>\n",
       "      <td>ug/l</td>\n",
       "      <td>0.25</td>\n",
       "      <td>2022-01-03</td>\n",
       "      <td>G-074035</td>\n",
       "      <td>0.5</td>\n",
       "      <td>UG/L</td>\n",
       "      <td>1</td>\n",
       "    </tr>\n",
       "  </tbody>\n",
       "</table>\n",
       "</div>"
      ],
      "text/plain": [
       "  PWSIDNumber  Year          AnalyteName  AnalyteCode ConcentrationUnits  \\\n",
       "0   NE3115509  2022  TETRACHLOROETHYLENE         2987               ug/l   \n",
       "1   NE3115509  2022    TRICHLOROETHYLENE         2984               ug/l   \n",
       "2   NE3108101  2022  TETRACHLOROETHYLENE         2987               ug/l   \n",
       "3   NE3103505  2022  TETRACHLOROETHYLENE         2987               ug/l   \n",
       "4   NE3103505  2022  TETRACHLOROETHYLENE         2987               ug/l   \n",
       "\n",
       "   Concentration DateSampled SamplePointID  DetectionLimit DetectionLimitUom  \\\n",
       "0           0.25  2022-01-04           001             0.5              UG/L   \n",
       "1           0.25  2022-01-04           001             0.5              UG/L   \n",
       "2           0.25  2022-01-03      G-028307             0.5              UG/L   \n",
       "3           0.25  2022-01-03      G-073387             0.5              UG/L   \n",
       "4           0.25  2022-01-03      G-074035             0.5              UG/L   \n",
       "\n",
       "   NonDetectFlag  \n",
       "0              1  \n",
       "1              1  \n",
       "2              1  \n",
       "3              1  \n",
       "4              1  "
      ]
     },
     "execution_count": 104,
     "metadata": {},
     "output_type": "execute_result"
    }
   ],
   "source": [
    "sampling.head()"
   ]
  },
  {
   "cell_type": "code",
   "execution_count": 105,
   "metadata": {},
   "outputs": [
    {
     "data": {
      "text/plain": [
       "PWSIDNumber                   object\n",
       "Year                           int64\n",
       "AnalyteName                   object\n",
       "AnalyteCode                    int64\n",
       "ConcentrationUnits            object\n",
       "Concentration                float64\n",
       "DateSampled           datetime64[ns]\n",
       "SamplePointID                 object\n",
       "DetectionLimit               float64\n",
       "DetectionLimitUom             object\n",
       "NonDetectFlag                  int64\n",
       "dtype: object"
      ]
     },
     "execution_count": 105,
     "metadata": {},
     "output_type": "execute_result"
    }
   ],
   "source": [
    "sampling.dtypes"
   ]
  },
  {
   "cell_type": "code",
   "execution_count": null,
   "metadata": {},
   "outputs": [],
   "source": []
  }
 ],
 "metadata": {
  "kernelspec": {
   "display_name": "Python 3 (ipykernel)",
   "language": "python",
   "name": "python3"
  },
  "language_info": {
   "codemirror_mode": {
    "name": "ipython",
    "version": 3
   },
   "file_extension": ".py",
   "mimetype": "text/x-python",
   "name": "python",
   "nbconvert_exporter": "python",
   "pygments_lexer": "ipython3",
   "version": "3.10.4"
  }
 },
 "nbformat": 4,
 "nbformat_minor": 2
}
