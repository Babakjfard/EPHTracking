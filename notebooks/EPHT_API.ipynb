{
 "cells": [
  {
   "attachments": {},
   "cell_type": "markdown",
   "metadata": {},
   "source": [
    "This is a look and learn into EPTH API"
   ]
  },
  {
   "cell_type": "code",
   "execution_count": 1,
   "metadata": {},
   "outputs": [],
   "source": [
    "# import required libraries to do API calling\n",
    "import requests\n",
    "import json\n",
    "import pandas as pd\n",
    "import numpy as np\n",
    "import os"
   ]
  },
  {
   "attachments": {},
   "cell_type": "markdown",
   "metadata": {},
   "source": [
    "## Looking intto the available Content Areas"
   ]
  },
  {
   "cell_type": "code",
   "execution_count": 13,
   "metadata": {},
   "outputs": [],
   "source": [
    "# List all currently available content areas tracked by the Tracking Network's API\n",
    "# https://ephtracking.cdc.gov/apigateway/api/v1/contentareas/json\n",
    "\n",
    "# Get the list of all content areas\n",
    "content_areas_url = 'https://ephtracking.cdc.gov/apigateway/api/v1/contentareas/json'\n",
    "content_areas = requests.get(content_areas_url).json()\n",
    "\n",
    "# https://ephtracking.cdc.gov/apigateway/api/v1/contentareas/json?filter=Water%20Quality\n",
    "# https://ephtracking.cdc.gov/apigateway/api/v1/contentareas/json?filter=Water%20Quality%20-%20Chemical\n",
    "\n"
   ]
  },
  {
   "cell_type": "code",
   "execution_count": null,
   "metadata": {},
   "outputs": [],
   "source": [
    "%%js\n",
    "const contentAreasUrl = 'https://ephtracking.cdc.gov/apigateway/api/v1/contentareas/json';\n",
    "\n",
    "fetch(contentAreasUrl)\n",
    "  .then(response => response.json())\n",
    "  .then(contentAreas => {\n",
    "    // Use the contentAreas data\n",
    "    console.log(contentAreas);\n",
    "  })\n",
    "  .catch(error => {\n",
    "    // Handle any errors that occurred during the fetch\n",
    "    console.error(error);\n",
    "  });"
   ]
  },
  {
   "cell_type": "code",
   "execution_count": 73,
   "metadata": {},
   "outputs": [
    {
     "data": {
      "text/plain": [
       "[{'id': '11', 'name': 'Air Quality', 'shortName': 'AQ'},\n",
       " {'id': '3', 'name': 'Asthma', 'shortName': 'AS'},\n",
       " {'id': '18',\n",
       "  'name': 'Biomonitoring: Population Exposures ',\n",
       "  'shortName': 'BIO'},\n",
       " {'id': '5', 'name': 'Birth Defects', 'shortName': 'BD'},\n",
       " {'id': '9', 'name': 'Cancer', 'shortName': 'CR'},\n",
       " {'id': '10', 'name': 'Childhood Cancers', 'shortName': 'CHCR'},\n",
       " {'id': '6', 'name': 'Childhood Lead Poisoning', 'shortName': 'CLP'},\n",
       " {'id': '23',\n",
       "  'name': 'Chronic Obstructive Pulmonary Disease (COPD)',\n",
       "  'shortName': 'COPD'},\n",
       " {'id': '22', 'name': 'Community Characteristics', 'shortName': 'C'},\n",
       " {'id': '14', 'name': 'Community Design', 'shortName': 'CD'},\n",
       " {'id': '33', 'name': 'COVID-19', 'shortName': 'COVID'},\n",
       " {'id': '16', 'name': 'Developmental Disabilities', 'shortName': 'DD'},\n",
       " {'id': '1', 'name': 'Drinking Water', 'shortName': 'DWQ'},\n",
       " {'id': '25', 'name': 'Drought', 'shortName': 'DR'},\n",
       " {'id': '37', 'name': 'Environmental Justice', 'shortName': 'EJ'},\n",
       " {'id': '4', 'name': 'Heart Disease & Stroke', 'shortName': 'MI'},\n",
       " {'id': '35', 'name': 'Heat & Heat-related Illness (HRI)', 'shortName': 'HHI'},\n",
       " {'id': '29', 'name': 'Hormone Disorders', 'shortName': 'HD'},\n",
       " {'id': '19', 'name': 'Lifestyle Risk Factors', 'shortName': 'LRF'},\n",
       " {'id': '20', 'name': 'Pesticide Exposures', 'shortName': 'PE'},\n",
       " {'id': '13', 'name': 'Populations & Vulnerabilities', 'shortName': 'PV'},\n",
       " {'id': '36', 'name': 'Precipitation & Flooding', 'shortName': 'PF'},\n",
       " {'id': '31', 'name': 'Radon', 'shortName': 'RD'},\n",
       " {'id': '8', 'name': 'Reproductive & Birth Outcomes', 'shortName': 'RBO'},\n",
       " {'id': '26', 'name': 'Sunlight & Ultraviolet (UV)', 'shortName': 'UV'},\n",
       " {'id': '39', 'name': 'Tornadoes', 'shortName': 'T'},\n",
       " {'id': '21', 'name': 'Toxic Substance Releases', 'shortName': 'TSR'},\n",
       " {'id': '2',\n",
       "  'name': 'Unintentional Carbon Monoxide (CO) Poisoning',\n",
       "  'shortName': 'CO'}]"
      ]
     },
     "metadata": {},
     "output_type": "display_data"
    }
   ],
   "source": [
    "from IPython.display import display\n",
    "display(content_areas)"
   ]
  },
  {
   "cell_type": "code",
   "execution_count": 27,
   "metadata": {},
   "outputs": [
    {
     "name": "stdout",
     "output_type": "stream",
     "text": [
      "Total content areas are: 28\n",
      "1) 11: Air Quality\n",
      "2) 3: Asthma\n",
      "3) 18: Biomonitoring: Population Exposures \n",
      "4) 5: Birth Defects\n",
      "5) 9: Cancer\n",
      "6) 10: Childhood Cancers\n",
      "7) 6: Childhood Lead Poisoning\n",
      "8) 23: Chronic Obstructive Pulmonary Disease (COPD)\n",
      "9) 22: Community Characteristics\n",
      "10) 14: Community Design\n",
      "11) 33: COVID-19\n",
      "12) 16: Developmental Disabilities\n",
      "13) 1: Drinking Water\n",
      "14) 25: Drought\n",
      "15) 37: Environmental Justice\n",
      "16) 4: Heart Disease & Stroke\n",
      "17) 35: Heat & Heat-related Illness (HRI)\n",
      "18) 29: Hormone Disorders\n",
      "19) 19: Lifestyle Risk Factors\n",
      "20) 20: Pesticide Exposures\n",
      "21) 13: Populations & Vulnerabilities\n",
      "22) 36: Precipitation & Flooding\n",
      "23) 31: Radon\n",
      "24) 8: Reproductive & Birth Outcomes\n",
      "25) 26: Sunlight & Ultraviolet (UV)\n",
      "26) 39: Tornadoes\n",
      "27) 21: Toxic Substance Releases\n",
      "28) 2: Unintentional Carbon Monoxide (CO) Poisoning\n"
     ]
    }
   ],
   "source": [
    "print(f'Total content areas are: {len(content_areas)}')\n",
    "\n",
    "# print 'name' values for all content areas\n",
    "for i in range(len(content_areas)):\n",
    "    print(f\"{i+1}) {content_areas[i]['id']}: {content_areas[i]['name']}\")"
   ]
  },
  {
   "cell_type": "code",
   "execution_count": 74,
   "metadata": {},
   "outputs": [],
   "source": [
    "Indicator = 'https://ephtracking.cdc.gov/apigateway/api/v1/indicators/35'\n",
    "dr_water = requests.get(Indicator).json()"
   ]
  },
  {
   "cell_type": "code",
   "execution_count": 75,
   "metadata": {},
   "outputs": [
    {
     "name": "stdout",
     "output_type": "stream",
     "text": [
      "1) 89: Emergency Department Visits for HRI\n",
      "2) 173: Historical Temperature & Heat Index\n",
      "3) 88: Hospitalizations for HRI\n",
      "4) 67: Mortality from HRI\n",
      "5) 97: Projected Temperature & Heat\n",
      "6) 172: Vulnerability & Preparedness: Heat\n"
     ]
    }
   ],
   "source": [
    "for i in range(len(dr_water)):\n",
    "    print(f\"{i+1}) {dr_water[i]['id']}: {dr_water[i]['name']}\")"
   ]
  },
  {
   "cell_type": "code",
   "execution_count": 36,
   "metadata": {},
   "outputs": [],
   "source": [
    "arsenic_measure = 'https://ephtracking.cdc.gov/apigateway/api/v1/measures/42'\n",
    "arsenic_measure = requests.get(arsenic_measure).json()"
   ]
  },
  {
   "cell_type": "code",
   "execution_count": 38,
   "metadata": {},
   "outputs": [
    {
     "name": "stdout",
     "output_type": "stream",
     "text": [
      "1) 769: Annual Mean Concentration of Arsenic (µg/L)\n",
      "2) 1047: Annual Percent of CWS by Maximum Arsenic Concentrations (µg/L)\n",
      "3) 1045: Annual Percent of CWS by Mean Arsenic Concentrations (µg/L)\n",
      "4) 1048: Annual Percent of People Served by CWS by Maximum Arsenic Concentrations (µg/L)\n",
      "5) 1046: Annual Percent of People Served by CWS by Mean Arsenic Concentrations (µg/L)\n"
     ]
    }
   ],
   "source": [
    "for i in range(len(arsenic_measure)):\n",
    "    print(f\"{i+1}) {arsenic_measure[i]['id']}: {arsenic_measure[i]['name']}\")"
   ]
  },
  {
   "cell_type": "code",
   "execution_count": 48,
   "metadata": {},
   "outputs": [],
   "source": [
    "# Get Annual Mean Concentration of Arsenic in Drinking Water for Nebraska\n",
    "geography_url = 'https://ephtracking.cdc.gov/apigateway/api/v1/geographicTypes/769'\n",
    "geography = requests.get(geography_url).json()\n"
   ]
  },
  {
   "cell_type": "code",
   "execution_count": 49,
   "metadata": {},
   "outputs": [
    {
     "data": {
      "text/plain": [
       "[{'id': 4187,\n",
       "  'geographicTypeId': 2,\n",
       "  'geographicType': 'County',\n",
       "  'selectOptionsTypeId': 1,\n",
       "  'selectOptionsType': 'No Restrictions',\n",
       "  'smoothingLevelId': 1,\n",
       "  'smoothingLevel': 'No Smoothing Available'}]"
      ]
     },
     "execution_count": 49,
     "metadata": {},
     "output_type": "execute_result"
    }
   ],
   "source": [
    "geography"
   ]
  },
  {
   "cell_type": "code",
   "execution_count": 51,
   "metadata": {},
   "outputs": [],
   "source": [
    "# how to get temporal data\n",
    "temporal_url = 'https://ephtracking.cdc.gov/apigateway/api/v1/temporalType/769'\n",
    "temporal_arsenic = requests.get(temporal_url).json()"
   ]
  },
  {
   "cell_type": "code",
   "execution_count": 52,
   "metadata": {},
   "outputs": [
    {
     "data": {
      "text/plain": [
       "[{'temporalTypeId': 1, 'name': 'Year', 'parentTemporalTypeId': None}]"
      ]
     },
     "execution_count": 52,
     "metadata": {},
     "output_type": "execute_result"
    }
   ],
   "source": [
    "temporal_arsenic"
   ]
  },
  {
   "cell_type": "code",
   "execution_count": 59,
   "metadata": {},
   "outputs": [],
   "source": [
    "stratified_url = 'https://ephtracking.cdc.gov/apigateway/api/v1/stratificationTypes/66/1/0'\n",
    "stratified_arsenic = requests.get(stratified_url).json()"
   ]
  },
  {
   "cell_type": "code",
   "execution_count": 58,
   "metadata": {},
   "outputs": [
    {
     "data": {
      "text/plain": [
       "[]"
      ]
     },
     "execution_count": 58,
     "metadata": {},
     "output_type": "execute_result"
    }
   ],
   "source": [
    "stratified_arsenic"
   ]
  },
  {
   "cell_type": "code",
   "execution_count": 66,
   "metadata": {},
   "outputs": [],
   "source": [
    "# View all states aviailable for State-issued Stay-at-Home Orders, by Rolling up Counties\n",
    "geographic_url = 'https://ephtracking.cdc.gov/apigateway/api/v1/geographicItems/66/1/0'\n",
    "geographic = requests.get(geographic_url).json()"
   ]
  },
  {
   "cell_type": "code",
   "execution_count": 67,
   "metadata": {},
   "outputs": [
    {
     "data": {
      "text/plain": [
       "[{'parentGeographicId': 1,\n",
       "  'parentName': 'Alabama',\n",
       "  'parentAbbreviation': 'AL',\n",
       "  'childGeographicId': None,\n",
       "  'childName': None,\n",
       "  'childAbbreviation': None,\n",
       "  'id': 1},\n",
       " {'parentGeographicId': 2,\n",
       "  'parentName': 'Alaska',\n",
       "  'parentAbbreviation': 'AK',\n",
       "  'childGeographicId': None,\n",
       "  'childName': None,\n",
       "  'childAbbreviation': None,\n",
       "  'id': 2},\n",
       " {'parentGeographicId': 4,\n",
       "  'parentName': 'Arizona',\n",
       "  'parentAbbreviation': 'AZ',\n",
       "  'childGeographicId': None,\n",
       "  'childName': None,\n",
       "  'childAbbreviation': None,\n",
       "  'id': 4},\n",
       " {'parentGeographicId': 5,\n",
       "  'parentName': 'Arkansas',\n",
       "  'parentAbbreviation': 'AR',\n",
       "  'childGeographicId': None,\n",
       "  'childName': None,\n",
       "  'childAbbreviation': None,\n",
       "  'id': 5},\n",
       " {'parentGeographicId': 6,\n",
       "  'parentName': 'California',\n",
       "  'parentAbbreviation': 'CA',\n",
       "  'childGeographicId': None,\n",
       "  'childName': None,\n",
       "  'childAbbreviation': None,\n",
       "  'id': 6},\n",
       " {'parentGeographicId': 8,\n",
       "  'parentName': 'Colorado',\n",
       "  'parentAbbreviation': 'CO',\n",
       "  'childGeographicId': None,\n",
       "  'childName': None,\n",
       "  'childAbbreviation': None,\n",
       "  'id': 8},\n",
       " {'parentGeographicId': 9,\n",
       "  'parentName': 'Connecticut',\n",
       "  'parentAbbreviation': 'CT',\n",
       "  'childGeographicId': None,\n",
       "  'childName': None,\n",
       "  'childAbbreviation': None,\n",
       "  'id': 9},\n",
       " {'parentGeographicId': 10,\n",
       "  'parentName': 'Delaware',\n",
       "  'parentAbbreviation': 'DE',\n",
       "  'childGeographicId': None,\n",
       "  'childName': None,\n",
       "  'childAbbreviation': None,\n",
       "  'id': 10},\n",
       " {'parentGeographicId': 11,\n",
       "  'parentName': 'District of Columbia',\n",
       "  'parentAbbreviation': 'DC',\n",
       "  'childGeographicId': None,\n",
       "  'childName': None,\n",
       "  'childAbbreviation': None,\n",
       "  'id': 11},\n",
       " {'parentGeographicId': 12,\n",
       "  'parentName': 'Florida',\n",
       "  'parentAbbreviation': 'FL',\n",
       "  'childGeographicId': None,\n",
       "  'childName': None,\n",
       "  'childAbbreviation': None,\n",
       "  'id': 12},\n",
       " {'parentGeographicId': 13,\n",
       "  'parentName': 'Georgia',\n",
       "  'parentAbbreviation': 'GA',\n",
       "  'childGeographicId': None,\n",
       "  'childName': None,\n",
       "  'childAbbreviation': None,\n",
       "  'id': 13},\n",
       " {'parentGeographicId': 15,\n",
       "  'parentName': 'Hawaii',\n",
       "  'parentAbbreviation': 'HI',\n",
       "  'childGeographicId': None,\n",
       "  'childName': None,\n",
       "  'childAbbreviation': None,\n",
       "  'id': 15},\n",
       " {'parentGeographicId': 16,\n",
       "  'parentName': 'Idaho',\n",
       "  'parentAbbreviation': 'ID',\n",
       "  'childGeographicId': None,\n",
       "  'childName': None,\n",
       "  'childAbbreviation': None,\n",
       "  'id': 16},\n",
       " {'parentGeographicId': 17,\n",
       "  'parentName': 'Illinois',\n",
       "  'parentAbbreviation': 'IL',\n",
       "  'childGeographicId': None,\n",
       "  'childName': None,\n",
       "  'childAbbreviation': None,\n",
       "  'id': 17},\n",
       " {'parentGeographicId': 18,\n",
       "  'parentName': 'Indiana',\n",
       "  'parentAbbreviation': 'IN',\n",
       "  'childGeographicId': None,\n",
       "  'childName': None,\n",
       "  'childAbbreviation': None,\n",
       "  'id': 18},\n",
       " {'parentGeographicId': 19,\n",
       "  'parentName': 'Iowa',\n",
       "  'parentAbbreviation': 'IA',\n",
       "  'childGeographicId': None,\n",
       "  'childName': None,\n",
       "  'childAbbreviation': None,\n",
       "  'id': 19},\n",
       " {'parentGeographicId': 21,\n",
       "  'parentName': 'Kentucky',\n",
       "  'parentAbbreviation': 'KY',\n",
       "  'childGeographicId': None,\n",
       "  'childName': None,\n",
       "  'childAbbreviation': None,\n",
       "  'id': 21},\n",
       " {'parentGeographicId': 22,\n",
       "  'parentName': 'Louisiana',\n",
       "  'parentAbbreviation': 'LA',\n",
       "  'childGeographicId': None,\n",
       "  'childName': None,\n",
       "  'childAbbreviation': None,\n",
       "  'id': 22},\n",
       " {'parentGeographicId': 23,\n",
       "  'parentName': 'Maine',\n",
       "  'parentAbbreviation': 'ME',\n",
       "  'childGeographicId': None,\n",
       "  'childName': None,\n",
       "  'childAbbreviation': None,\n",
       "  'id': 23},\n",
       " {'parentGeographicId': 24,\n",
       "  'parentName': 'Maryland',\n",
       "  'parentAbbreviation': 'MD',\n",
       "  'childGeographicId': None,\n",
       "  'childName': None,\n",
       "  'childAbbreviation': None,\n",
       "  'id': 24},\n",
       " {'parentGeographicId': 25,\n",
       "  'parentName': 'Massachusetts',\n",
       "  'parentAbbreviation': 'MA',\n",
       "  'childGeographicId': None,\n",
       "  'childName': None,\n",
       "  'childAbbreviation': None,\n",
       "  'id': 25},\n",
       " {'parentGeographicId': 26,\n",
       "  'parentName': 'Michigan',\n",
       "  'parentAbbreviation': 'MI',\n",
       "  'childGeographicId': None,\n",
       "  'childName': None,\n",
       "  'childAbbreviation': None,\n",
       "  'id': 26},\n",
       " {'parentGeographicId': 27,\n",
       "  'parentName': 'Minnesota',\n",
       "  'parentAbbreviation': 'MN',\n",
       "  'childGeographicId': None,\n",
       "  'childName': None,\n",
       "  'childAbbreviation': None,\n",
       "  'id': 27},\n",
       " {'parentGeographicId': 28,\n",
       "  'parentName': 'Mississippi',\n",
       "  'parentAbbreviation': 'MS',\n",
       "  'childGeographicId': None,\n",
       "  'childName': None,\n",
       "  'childAbbreviation': None,\n",
       "  'id': 28},\n",
       " {'parentGeographicId': 29,\n",
       "  'parentName': 'Missouri',\n",
       "  'parentAbbreviation': 'MO',\n",
       "  'childGeographicId': None,\n",
       "  'childName': None,\n",
       "  'childAbbreviation': None,\n",
       "  'id': 29},\n",
       " {'parentGeographicId': 30,\n",
       "  'parentName': 'Montana',\n",
       "  'parentAbbreviation': 'MT',\n",
       "  'childGeographicId': None,\n",
       "  'childName': None,\n",
       "  'childAbbreviation': None,\n",
       "  'id': 30},\n",
       " {'parentGeographicId': 31,\n",
       "  'parentName': 'Nebraska',\n",
       "  'parentAbbreviation': 'NE',\n",
       "  'childGeographicId': None,\n",
       "  'childName': None,\n",
       "  'childAbbreviation': None,\n",
       "  'id': 31},\n",
       " {'parentGeographicId': 32,\n",
       "  'parentName': 'Nevada',\n",
       "  'parentAbbreviation': 'NV',\n",
       "  'childGeographicId': None,\n",
       "  'childName': None,\n",
       "  'childAbbreviation': None,\n",
       "  'id': 32},\n",
       " {'parentGeographicId': 33,\n",
       "  'parentName': 'New Hampshire',\n",
       "  'parentAbbreviation': 'NH',\n",
       "  'childGeographicId': None,\n",
       "  'childName': None,\n",
       "  'childAbbreviation': None,\n",
       "  'id': 33},\n",
       " {'parentGeographicId': 34,\n",
       "  'parentName': 'New Jersey',\n",
       "  'parentAbbreviation': 'NJ',\n",
       "  'childGeographicId': None,\n",
       "  'childName': None,\n",
       "  'childAbbreviation': None,\n",
       "  'id': 34},\n",
       " {'parentGeographicId': 35,\n",
       "  'parentName': 'New Mexico',\n",
       "  'parentAbbreviation': 'NM',\n",
       "  'childGeographicId': None,\n",
       "  'childName': None,\n",
       "  'childAbbreviation': None,\n",
       "  'id': 35},\n",
       " {'parentGeographicId': 36,\n",
       "  'parentName': 'New York',\n",
       "  'parentAbbreviation': 'NY',\n",
       "  'childGeographicId': None,\n",
       "  'childName': None,\n",
       "  'childAbbreviation': None,\n",
       "  'id': 36},\n",
       " {'parentGeographicId': 37,\n",
       "  'parentName': 'North Carolina',\n",
       "  'parentAbbreviation': 'NC',\n",
       "  'childGeographicId': None,\n",
       "  'childName': None,\n",
       "  'childAbbreviation': None,\n",
       "  'id': 37},\n",
       " {'parentGeographicId': 38,\n",
       "  'parentName': 'North Dakota',\n",
       "  'parentAbbreviation': 'ND',\n",
       "  'childGeographicId': None,\n",
       "  'childName': None,\n",
       "  'childAbbreviation': None,\n",
       "  'id': 38},\n",
       " {'parentGeographicId': 39,\n",
       "  'parentName': 'Ohio',\n",
       "  'parentAbbreviation': 'OH',\n",
       "  'childGeographicId': None,\n",
       "  'childName': None,\n",
       "  'childAbbreviation': None,\n",
       "  'id': 39},\n",
       " {'parentGeographicId': 40,\n",
       "  'parentName': 'Oklahoma',\n",
       "  'parentAbbreviation': 'OK',\n",
       "  'childGeographicId': None,\n",
       "  'childName': None,\n",
       "  'childAbbreviation': None,\n",
       "  'id': 40},\n",
       " {'parentGeographicId': 41,\n",
       "  'parentName': 'Oregon',\n",
       "  'parentAbbreviation': 'OR',\n",
       "  'childGeographicId': None,\n",
       "  'childName': None,\n",
       "  'childAbbreviation': None,\n",
       "  'id': 41},\n",
       " {'parentGeographicId': 42,\n",
       "  'parentName': 'Pennsylvania',\n",
       "  'parentAbbreviation': 'PA',\n",
       "  'childGeographicId': None,\n",
       "  'childName': None,\n",
       "  'childAbbreviation': None,\n",
       "  'id': 42},\n",
       " {'parentGeographicId': 44,\n",
       "  'parentName': 'Rhode Island',\n",
       "  'parentAbbreviation': 'RI',\n",
       "  'childGeographicId': None,\n",
       "  'childName': None,\n",
       "  'childAbbreviation': None,\n",
       "  'id': 44},\n",
       " {'parentGeographicId': 45,\n",
       "  'parentName': 'South Carolina',\n",
       "  'parentAbbreviation': 'SC',\n",
       "  'childGeographicId': None,\n",
       "  'childName': None,\n",
       "  'childAbbreviation': None,\n",
       "  'id': 45},\n",
       " {'parentGeographicId': 46,\n",
       "  'parentName': 'South Dakota',\n",
       "  'parentAbbreviation': 'SD',\n",
       "  'childGeographicId': None,\n",
       "  'childName': None,\n",
       "  'childAbbreviation': None,\n",
       "  'id': 46},\n",
       " {'parentGeographicId': 47,\n",
       "  'parentName': 'Tennessee',\n",
       "  'parentAbbreviation': 'TN',\n",
       "  'childGeographicId': None,\n",
       "  'childName': None,\n",
       "  'childAbbreviation': None,\n",
       "  'id': 47},\n",
       " {'parentGeographicId': 48,\n",
       "  'parentName': 'Texas',\n",
       "  'parentAbbreviation': 'TX',\n",
       "  'childGeographicId': None,\n",
       "  'childName': None,\n",
       "  'childAbbreviation': None,\n",
       "  'id': 48},\n",
       " {'parentGeographicId': 49,\n",
       "  'parentName': 'Utah',\n",
       "  'parentAbbreviation': 'UT',\n",
       "  'childGeographicId': None,\n",
       "  'childName': None,\n",
       "  'childAbbreviation': None,\n",
       "  'id': 49},\n",
       " {'parentGeographicId': 50,\n",
       "  'parentName': 'Vermont',\n",
       "  'parentAbbreviation': 'VT',\n",
       "  'childGeographicId': None,\n",
       "  'childName': None,\n",
       "  'childAbbreviation': None,\n",
       "  'id': 50},\n",
       " {'parentGeographicId': 51,\n",
       "  'parentName': 'Virginia',\n",
       "  'parentAbbreviation': 'VA',\n",
       "  'childGeographicId': None,\n",
       "  'childName': None,\n",
       "  'childAbbreviation': None,\n",
       "  'id': 51},\n",
       " {'parentGeographicId': 53,\n",
       "  'parentName': 'Washington',\n",
       "  'parentAbbreviation': 'WA',\n",
       "  'childGeographicId': None,\n",
       "  'childName': None,\n",
       "  'childAbbreviation': None,\n",
       "  'id': 53},\n",
       " {'parentGeographicId': 54,\n",
       "  'parentName': 'West Virginia',\n",
       "  'parentAbbreviation': 'WV',\n",
       "  'childGeographicId': None,\n",
       "  'childName': None,\n",
       "  'childAbbreviation': None,\n",
       "  'id': 54},\n",
       " {'parentGeographicId': 55,\n",
       "  'parentName': 'Wisconsin',\n",
       "  'parentAbbreviation': 'WI',\n",
       "  'childGeographicId': None,\n",
       "  'childName': None,\n",
       "  'childAbbreviation': None,\n",
       "  'id': 55},\n",
       " {'parentGeographicId': 56,\n",
       "  'parentName': 'Wyoming',\n",
       "  'parentAbbreviation': 'WY',\n",
       "  'childGeographicId': None,\n",
       "  'childName': None,\n",
       "  'childAbbreviation': None,\n",
       "  'id': 56}]"
      ]
     },
     "execution_count": 67,
     "metadata": {},
     "output_type": "execute_result"
    }
   ],
   "source": [
    "geographic"
   ]
  },
  {
   "attachments": {},
   "cell_type": "markdown",
   "metadata": {},
   "source": [
    "## Core Holder Examples"
   ]
  },
  {
   "cell_type": "code",
   "execution_count": 68,
   "metadata": {},
   "outputs": [],
   "source": [
    "# Query the Age-adjusted Incidence Rate of Thyroid Cancer per 100,000 People \n",
    "# for the year 2011 for all available states.\n",
    "core_holder_1_url = 'https://ephtracking.cdc.gov/apigateway/api/v1/getCoreHolder/66/1/ALL/ALL/1/2011/0/0'\n",
    "core_holder_1 = requests.get(core_holder_1_url).json()\n"
   ]
  },
  {
   "cell_type": "code",
   "execution_count": 71,
   "metadata": {},
   "outputs": [
    {
     "data": {
      "text/plain": [
       "dict_keys(['legendResult', 'dataClassificationType', 'tableResultClass', 'tableReturnType', 'tableResult', 'healthImpactTableResult', 'climateChangeTableResult', 'dailyEstimatesTableResult', 'heatEpisodesTableResult', 'pmTableResult', 'regionPMTableResult', 'cwsTableResult', 'sampleSizeTableResult', 'stateMetadataTableResult', 'dailyTemperatureTableResult', 'benchmarkInformation', 'benchmarkResult', 'standard', 'aggregateResult', 'lookupList', 'measureInformationDTO', 'measureStratificationLevel', 'publicAPIUrl', 'publicAPIServerUrl', 'fullPublicAPIUrl'])"
      ]
     },
     "execution_count": 71,
     "metadata": {},
     "output_type": "execute_result"
    }
   ],
   "source": [
    "core_holder_1.keys()"
   ]
  },
  {
   "cell_type": "code",
   "execution_count": 76,
   "metadata": {},
   "outputs": [
    {
     "ename": "MissingSchema",
     "evalue": "Invalid URL 'ephtracking.cdc.gov/apigateway/api/v1/getCoreHolder/173/3/ALL/ALL/1/2011/': No scheme supplied. Perhaps you meant https://ephtracking.cdc.gov/apigateway/api/v1/getCoreHolder/173/3/ALL/ALL/1/2011/?",
     "output_type": "error",
     "traceback": [
      "\u001b[0;31m---------------------------------------------------------------------------\u001b[0m",
      "\u001b[0;31mMissingSchema\u001b[0m                             Traceback (most recent call last)",
      "Cell \u001b[0;32mIn[76], line 2\u001b[0m\n\u001b[1;32m      1\u001b[0m core_holder_2_url \u001b[39m=\u001b[39m \u001b[39m'\u001b[39m\u001b[39mephtracking.cdc.gov/apigateway/api/v1/getCoreHolder/173/3/ALL/ALL/1/2011/\u001b[39m\u001b[39m'\u001b[39m\n\u001b[0;32m----> 2\u001b[0m core_holder_2 \u001b[39m=\u001b[39m requests\u001b[39m.\u001b[39;49mget(core_holder_2_url)\u001b[39m.\u001b[39mjson()\n",
      "File \u001b[0;32m/opt/anaconda3/envs/CDC_Tracking/lib/python3.10/site-packages/requests/api.py:73\u001b[0m, in \u001b[0;36mget\u001b[0;34m(url, params, **kwargs)\u001b[0m\n\u001b[1;32m     62\u001b[0m \u001b[39mdef\u001b[39;00m \u001b[39mget\u001b[39m(url, params\u001b[39m=\u001b[39m\u001b[39mNone\u001b[39;00m, \u001b[39m*\u001b[39m\u001b[39m*\u001b[39mkwargs):\n\u001b[1;32m     63\u001b[0m \u001b[39m    \u001b[39m\u001b[39mr\u001b[39m\u001b[39m\"\"\"Sends a GET request.\u001b[39;00m\n\u001b[1;32m     64\u001b[0m \n\u001b[1;32m     65\u001b[0m \u001b[39m    :param url: URL for the new :class:`Request` object.\u001b[39;00m\n\u001b[0;32m   (...)\u001b[0m\n\u001b[1;32m     70\u001b[0m \u001b[39m    :rtype: requests.Response\u001b[39;00m\n\u001b[1;32m     71\u001b[0m \u001b[39m    \"\"\"\u001b[39;00m\n\u001b[0;32m---> 73\u001b[0m     \u001b[39mreturn\u001b[39;00m request(\u001b[39m\"\u001b[39;49m\u001b[39mget\u001b[39;49m\u001b[39m\"\u001b[39;49m, url, params\u001b[39m=\u001b[39;49mparams, \u001b[39m*\u001b[39;49m\u001b[39m*\u001b[39;49mkwargs)\n",
      "File \u001b[0;32m/opt/anaconda3/envs/CDC_Tracking/lib/python3.10/site-packages/requests/api.py:59\u001b[0m, in \u001b[0;36mrequest\u001b[0;34m(method, url, **kwargs)\u001b[0m\n\u001b[1;32m     55\u001b[0m \u001b[39m# By using the 'with' statement we are sure the session is closed, thus we\u001b[39;00m\n\u001b[1;32m     56\u001b[0m \u001b[39m# avoid leaving sockets open which can trigger a ResourceWarning in some\u001b[39;00m\n\u001b[1;32m     57\u001b[0m \u001b[39m# cases, and look like a memory leak in others.\u001b[39;00m\n\u001b[1;32m     58\u001b[0m \u001b[39mwith\u001b[39;00m sessions\u001b[39m.\u001b[39mSession() \u001b[39mas\u001b[39;00m session:\n\u001b[0;32m---> 59\u001b[0m     \u001b[39mreturn\u001b[39;00m session\u001b[39m.\u001b[39;49mrequest(method\u001b[39m=\u001b[39;49mmethod, url\u001b[39m=\u001b[39;49murl, \u001b[39m*\u001b[39;49m\u001b[39m*\u001b[39;49mkwargs)\n",
      "File \u001b[0;32m/opt/anaconda3/envs/CDC_Tracking/lib/python3.10/site-packages/requests/sessions.py:573\u001b[0m, in \u001b[0;36mSession.request\u001b[0;34m(self, method, url, params, data, headers, cookies, files, auth, timeout, allow_redirects, proxies, hooks, stream, verify, cert, json)\u001b[0m\n\u001b[1;32m    560\u001b[0m \u001b[39m# Create the Request.\u001b[39;00m\n\u001b[1;32m    561\u001b[0m req \u001b[39m=\u001b[39m Request(\n\u001b[1;32m    562\u001b[0m     method\u001b[39m=\u001b[39mmethod\u001b[39m.\u001b[39mupper(),\n\u001b[1;32m    563\u001b[0m     url\u001b[39m=\u001b[39murl,\n\u001b[0;32m   (...)\u001b[0m\n\u001b[1;32m    571\u001b[0m     hooks\u001b[39m=\u001b[39mhooks,\n\u001b[1;32m    572\u001b[0m )\n\u001b[0;32m--> 573\u001b[0m prep \u001b[39m=\u001b[39m \u001b[39mself\u001b[39;49m\u001b[39m.\u001b[39;49mprepare_request(req)\n\u001b[1;32m    575\u001b[0m proxies \u001b[39m=\u001b[39m proxies \u001b[39mor\u001b[39;00m {}\n\u001b[1;32m    577\u001b[0m settings \u001b[39m=\u001b[39m \u001b[39mself\u001b[39m\u001b[39m.\u001b[39mmerge_environment_settings(\n\u001b[1;32m    578\u001b[0m     prep\u001b[39m.\u001b[39murl, proxies, stream, verify, cert\n\u001b[1;32m    579\u001b[0m )\n",
      "File \u001b[0;32m/opt/anaconda3/envs/CDC_Tracking/lib/python3.10/site-packages/requests/sessions.py:484\u001b[0m, in \u001b[0;36mSession.prepare_request\u001b[0;34m(self, request)\u001b[0m\n\u001b[1;32m    481\u001b[0m     auth \u001b[39m=\u001b[39m get_netrc_auth(request\u001b[39m.\u001b[39murl)\n\u001b[1;32m    483\u001b[0m p \u001b[39m=\u001b[39m PreparedRequest()\n\u001b[0;32m--> 484\u001b[0m p\u001b[39m.\u001b[39;49mprepare(\n\u001b[1;32m    485\u001b[0m     method\u001b[39m=\u001b[39;49mrequest\u001b[39m.\u001b[39;49mmethod\u001b[39m.\u001b[39;49mupper(),\n\u001b[1;32m    486\u001b[0m     url\u001b[39m=\u001b[39;49mrequest\u001b[39m.\u001b[39;49murl,\n\u001b[1;32m    487\u001b[0m     files\u001b[39m=\u001b[39;49mrequest\u001b[39m.\u001b[39;49mfiles,\n\u001b[1;32m    488\u001b[0m     data\u001b[39m=\u001b[39;49mrequest\u001b[39m.\u001b[39;49mdata,\n\u001b[1;32m    489\u001b[0m     json\u001b[39m=\u001b[39;49mrequest\u001b[39m.\u001b[39;49mjson,\n\u001b[1;32m    490\u001b[0m     headers\u001b[39m=\u001b[39;49mmerge_setting(\n\u001b[1;32m    491\u001b[0m         request\u001b[39m.\u001b[39;49mheaders, \u001b[39mself\u001b[39;49m\u001b[39m.\u001b[39;49mheaders, dict_class\u001b[39m=\u001b[39;49mCaseInsensitiveDict\n\u001b[1;32m    492\u001b[0m     ),\n\u001b[1;32m    493\u001b[0m     params\u001b[39m=\u001b[39;49mmerge_setting(request\u001b[39m.\u001b[39;49mparams, \u001b[39mself\u001b[39;49m\u001b[39m.\u001b[39;49mparams),\n\u001b[1;32m    494\u001b[0m     auth\u001b[39m=\u001b[39;49mmerge_setting(auth, \u001b[39mself\u001b[39;49m\u001b[39m.\u001b[39;49mauth),\n\u001b[1;32m    495\u001b[0m     cookies\u001b[39m=\u001b[39;49mmerged_cookies,\n\u001b[1;32m    496\u001b[0m     hooks\u001b[39m=\u001b[39;49mmerge_hooks(request\u001b[39m.\u001b[39;49mhooks, \u001b[39mself\u001b[39;49m\u001b[39m.\u001b[39;49mhooks),\n\u001b[1;32m    497\u001b[0m )\n\u001b[1;32m    498\u001b[0m \u001b[39mreturn\u001b[39;00m p\n",
      "File \u001b[0;32m/opt/anaconda3/envs/CDC_Tracking/lib/python3.10/site-packages/requests/models.py:368\u001b[0m, in \u001b[0;36mPreparedRequest.prepare\u001b[0;34m(self, method, url, headers, files, data, params, auth, cookies, hooks, json)\u001b[0m\n\u001b[1;32m    365\u001b[0m \u001b[39m\u001b[39m\u001b[39m\"\"\"Prepares the entire request with the given parameters.\"\"\"\u001b[39;00m\n\u001b[1;32m    367\u001b[0m \u001b[39mself\u001b[39m\u001b[39m.\u001b[39mprepare_method(method)\n\u001b[0;32m--> 368\u001b[0m \u001b[39mself\u001b[39;49m\u001b[39m.\u001b[39;49mprepare_url(url, params)\n\u001b[1;32m    369\u001b[0m \u001b[39mself\u001b[39m\u001b[39m.\u001b[39mprepare_headers(headers)\n\u001b[1;32m    370\u001b[0m \u001b[39mself\u001b[39m\u001b[39m.\u001b[39mprepare_cookies(cookies)\n",
      "File \u001b[0;32m/opt/anaconda3/envs/CDC_Tracking/lib/python3.10/site-packages/requests/models.py:439\u001b[0m, in \u001b[0;36mPreparedRequest.prepare_url\u001b[0;34m(self, url, params)\u001b[0m\n\u001b[1;32m    436\u001b[0m     \u001b[39mraise\u001b[39;00m InvalidURL(\u001b[39m*\u001b[39me\u001b[39m.\u001b[39margs)\n\u001b[1;32m    438\u001b[0m \u001b[39mif\u001b[39;00m \u001b[39mnot\u001b[39;00m scheme:\n\u001b[0;32m--> 439\u001b[0m     \u001b[39mraise\u001b[39;00m MissingSchema(\n\u001b[1;32m    440\u001b[0m         \u001b[39mf\u001b[39m\u001b[39m\"\u001b[39m\u001b[39mInvalid URL \u001b[39m\u001b[39m{\u001b[39;00murl\u001b[39m!r}\u001b[39;00m\u001b[39m: No scheme supplied. \u001b[39m\u001b[39m\"\u001b[39m\n\u001b[1;32m    441\u001b[0m         \u001b[39mf\u001b[39m\u001b[39m\"\u001b[39m\u001b[39mPerhaps you meant https://\u001b[39m\u001b[39m{\u001b[39;00murl\u001b[39m}\u001b[39;00m\u001b[39m?\u001b[39m\u001b[39m\"\u001b[39m\n\u001b[1;32m    442\u001b[0m     )\n\u001b[1;32m    444\u001b[0m \u001b[39mif\u001b[39;00m \u001b[39mnot\u001b[39;00m host:\n\u001b[1;32m    445\u001b[0m     \u001b[39mraise\u001b[39;00m InvalidURL(\u001b[39mf\u001b[39m\u001b[39m\"\u001b[39m\u001b[39mInvalid URL \u001b[39m\u001b[39m{\u001b[39;00murl\u001b[39m!r}\u001b[39;00m\u001b[39m: No host supplied\u001b[39m\u001b[39m\"\u001b[39m)\n",
      "\u001b[0;31mMissingSchema\u001b[0m: Invalid URL 'ephtracking.cdc.gov/apigateway/api/v1/getCoreHolder/173/3/ALL/ALL/1/2011/': No scheme supplied. Perhaps you meant https://ephtracking.cdc.gov/apigateway/api/v1/getCoreHolder/173/3/ALL/ALL/1/2011/?"
     ]
    }
   ],
   "source": [
    "core_holder_2_url = 'ephtracking.cdc.gov/apigateway/api/v1/getCoreHolder/173/3/ALL/ALL/1/2011/'\n",
    "core_holder_2 = requests.get(core_holder_2_url).json()"
   ]
  },
  {
   "cell_type": "code",
   "execution_count": null,
   "metadata": {},
   "outputs": [],
   "source": [
    "ephtracking.cdc.gov/apigateway/api/v1/getCoreHolder/{measureId}/{stratificationLevelId}/\n",
    "{geographicTypeIdFilter}/{geographicItemsFilter}/{temporalTypeIdFilter}/{temporalItemsFilter}/{isSmoothed}/\n",
    "{getFullCoreHolder}[?stratificationLevelLocalIds]"
   ]
  }
 ],
 "metadata": {
  "kernelspec": {
   "display_name": "CDC_Tracking",
   "language": "python",
   "name": "python3"
  },
  "language_info": {
   "codemirror_mode": {
    "name": "ipython",
    "version": 3
   },
   "file_extension": ".py",
   "mimetype": "text/x-python",
   "name": "python",
   "nbconvert_exporter": "python",
   "pygments_lexer": "ipython3",
   "version": "3.10.4"
  },
  "orig_nbformat": 4
 },
 "nbformat": 4,
 "nbformat_minor": 2
}
